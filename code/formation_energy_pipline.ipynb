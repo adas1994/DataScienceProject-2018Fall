{
 "cells": [
  {
   "cell_type": "code",
   "execution_count": 1,
   "metadata": {},
   "outputs": [],
   "source": [
    "##implement train/validation/test dataset for elaposolite formation energy\n",
    "\n",
    "#load necessary package\n",
    "#load elaposolite formation energy file\n"
   ]
  },
  {
   "cell_type": "code",
   "execution_count": 2,
   "metadata": {},
   "outputs": [
    {
     "name": "stderr",
     "output_type": "stream",
     "text": [
      "/anaconda3/lib/python3.6/site-packages/h5py/__init__.py:36: FutureWarning: Conversion of the second argument of issubdtype from `float` to `np.floating` is deprecated. In future, it will be treated as `np.float64 == np.dtype(float).type`.\n",
      "  from ._conv import register_converters as _register_converters\n"
     ]
    }
   ],
   "source": [
    "#load necessary package\n",
    "import tensorflow as tf\n",
    "import numpy as np\n",
    "import pandas as pd\n",
    "from pymatgen import Element,Composition"
   ]
  },
  {
   "cell_type": "code",
   "execution_count": 3,
   "metadata": {},
   "outputs": [],
   "source": [
    "#load elaposolite formation energy file\n",
    "elap_formation_energy_path=\"../data_set/evaluation_dataset/FE_elapsolite.txt\"\n",
    "data = pd.read_csv(elap_formation_energy_path,index_col=0)"
   ]
  },
  {
   "cell_type": "code",
   "execution_count": 4,
   "metadata": {},
   "outputs": [
    {
     "data": {
      "text/html": [
       "<div>\n",
       "<style scoped>\n",
       "    .dataframe tbody tr th:only-of-type {\n",
       "        vertical-align: middle;\n",
       "    }\n",
       "\n",
       "    .dataframe tbody tr th {\n",
       "        vertical-align: top;\n",
       "    }\n",
       "\n",
       "    .dataframe thead th {\n",
       "        text-align: right;\n",
       "    }\n",
       "</style>\n",
       "<table border=\"1\" class=\"dataframe\">\n",
       "  <thead>\n",
       "    <tr style=\"text-align: right;\">\n",
       "      <th></th>\n",
       "      <th>compound</th>\n",
       "      <th>formation_energy</th>\n",
       "    </tr>\n",
       "  </thead>\n",
       "  <tbody>\n",
       "    <tr>\n",
       "      <th>0</th>\n",
       "      <td>Ca1O1F2Cs6</td>\n",
       "      <td>-7.110018</td>\n",
       "    </tr>\n",
       "    <tr>\n",
       "      <th>1</th>\n",
       "      <td>Mg1S1Al2In6</td>\n",
       "      <td>4.713586</td>\n",
       "    </tr>\n",
       "    <tr>\n",
       "      <th>2</th>\n",
       "      <td>Cs1Te1S2Si6</td>\n",
       "      <td>18.374580</td>\n",
       "    </tr>\n",
       "    <tr>\n",
       "      <th>3</th>\n",
       "      <td>Be1Si1Tl2H6</td>\n",
       "      <td>4.612162</td>\n",
       "    </tr>\n",
       "    <tr>\n",
       "      <th>4</th>\n",
       "      <td>Mg1O1F2Ca6</td>\n",
       "      <td>-7.145500</td>\n",
       "    </tr>\n",
       "  </tbody>\n",
       "</table>\n",
       "</div>"
      ],
      "text/plain": [
       "      compound  formation_energy\n",
       "0   Ca1O1F2Cs6         -7.110018\n",
       "1  Mg1S1Al2In6          4.713586\n",
       "2  Cs1Te1S2Si6         18.374580\n",
       "3  Be1Si1Tl2H6          4.612162\n",
       "4   Mg1O1F2Ca6         -7.145500"
      ]
     },
     "execution_count": 4,
     "metadata": {},
     "output_type": "execute_result"
    }
   ],
   "source": [
    "data.head()"
   ]
  },
  {
   "cell_type": "code",
   "execution_count": 5,
   "metadata": {},
   "outputs": [
    {
     "data": {
      "text/plain": [
       "'Ca1O1F2Cs6'"
      ]
     },
     "execution_count": 5,
     "metadata": {},
     "output_type": "execute_result"
    }
   ],
   "source": [
    "data[\"compound\"][0]"
   ]
  },
  {
   "cell_type": "code",
   "execution_count": 6,
   "metadata": {},
   "outputs": [],
   "source": [
    "##do max-min normalization for vector matrix?? if do ,then would be 0-1？feel bad\n",
    "#can do like x_=(x-(max+min)/2)/(max-min)/2 to put x_ to [-1,1]\n",
    "test_element_vector_path_1=\"../data_set/element_vector_generation/PCA/PCA_vector.csv\"\n",
    "test_element_vector_path_2=\"../data_set/element_vector_generation/laplace_eigenmap/laplace_eigenmap_20.txt\"\n",
    "test_output_path=\"../data_set/test_output/\"\n",
    "\n",
    "PCA_vector_raw=np.loadtxt(test_element_vector_path_1,delimiter=',')\n",
    "LPE_vector_raw=np.loadtxt(test_element_vector_path_2)\n",
    "#build input matrix(5628*80) \n"
   ]
  },
  {
   "cell_type": "code",
   "execution_count": 7,
   "metadata": {},
   "outputs": [],
   "source": [
    "#do normalization x_=(x-(max+min)/2)/(max-min) to put x_ to [-0.5,0.5]\n",
    "#normalization for PCA_vector\n",
    "PCA_vector_20_raw=PCA_vector_raw[:,:20]\n",
    "PCA_MAX=np.max(PCA_vector_20_raw)\n",
    "PCA_MIN=np.min(PCA_vector_20_raw)\n",
    "\n",
    "PCA_NOM=(PCA_vector_20_raw-(PCA_MAX+PCA_MIN)/2)/(PCA_MAX-PCA_MIN)\n"
   ]
  },
  {
   "cell_type": "code",
   "execution_count": 8,
   "metadata": {},
   "outputs": [],
   "source": [
    "#normalization for LPE_vector\n",
    "LPE_MAX=np.max(LPE_vector_raw)\n",
    "LPE_MIN=np.min(LPE_vector_raw)\n",
    "\n",
    "LPE_NOM=(LPE_vector_raw-(LPE_MAX+LPE_MIN)/2)/(LPE_MAX-LPE_MIN)\n"
   ]
  },
  {
   "cell_type": "code",
   "execution_count": 9,
   "metadata": {},
   "outputs": [],
   "source": [
    "#build the 5628*80 matrix\n",
    "input_file_name_1=\"PCA_input_test.txt\"\n",
    "input_file_name_2=\"LPE_input_test.txt\"\n",
    "\n",
    "input_file_path_1=test_output_path+input_file_name_1\n",
    "input_file_path_2=test_output_path+input_file_name_2"
   ]
  },
  {
   "cell_type": "code",
   "execution_count": 10,
   "metadata": {},
   "outputs": [],
   "source": [
    "#load main_elements_list\n",
    "element_list_main_path=\"../data_set/element_list/elements_list_main.txt\"\n",
    "#element_list_main_path_n=\"../data_set/element_list/elements_list_main_number.txt\"\n",
    "with open(element_list_main_path, \"r\") as text_file:\n",
    "    a=text_file.read()\n",
    "main_group_list=a.split()\n",
    "#main_group_n=np.loadtxt(element_list_main_path_n,dtype=int)"
   ]
  },
  {
   "cell_type": "code",
   "execution_count": 11,
   "metadata": {},
   "outputs": [],
   "source": [
    "#load elements_list\n",
    "element_list_path=\"../data_set/element_list/elements.txt\"\n",
    "with open(element_list_path, \"r\") as text_file:\n",
    "    a=text_file.read()\n",
    "element_list=a.split()\n",
    "#main_group_n=np.loadtxt(element_list_main_path_n,dtype=int)"
   ]
  },
  {
   "cell_type": "code",
   "execution_count": 12,
   "metadata": {},
   "outputs": [
    {
     "data": {
      "text/plain": [
       "str"
      ]
     },
     "execution_count": 12,
     "metadata": {},
     "output_type": "execute_result"
    }
   ],
   "source": [
    "type(element_list[0])"
   ]
  },
  {
   "cell_type": "code",
   "execution_count": 13,
   "metadata": {},
   "outputs": [],
   "source": [
    "#ele_vector_length=20\n",
    "#compound_list_length=5628\n",
    "vector_input_LPE=np.zeros((len(data),LPE_NOM.shape[1]*len(Composition(data[\"compound\"][0]))))\n",
    "for i in range(len(data[\"compound\"])):\n",
    "    compound=Composition(data[\"compound\"][i])\n",
    "    #build row i [i,0:80]\n",
    "    ele_index=0\n",
    "    for ele in compound:\n",
    "        for target_ele_index in range(len(element_list)):\n",
    "            if str(ele)==element_list[target_ele_index]:\n",
    "                vector_input_LPE[i,ele_index*20:(ele_index+1)*20]=LPE_NOM[target_ele_index,:]\n",
    "                ele_index+=1\n",
    "\n",
    "        #find the corresponding element"
   ]
  },
  {
   "cell_type": "code",
   "execution_count": 14,
   "metadata": {},
   "outputs": [],
   "source": [
    "#ele_vector_length=20\n",
    "#compound_list_length=5628\n",
    "vector_input_PCA=np.zeros((len(data),LPE_NOM.shape[1]*len(Composition(data[\"compound\"][0]))))\n",
    "for i in range(len(data[\"compound\"])):\n",
    "    compound=Composition(data[\"compound\"][i])\n",
    "    #build row i [i,0:80]\n",
    "    ele_index=0\n",
    "    for ele in compound:\n",
    "        for target_ele_index in range(len(element_list)):\n",
    "            if str(ele)==element_list[target_ele_index]:\n",
    "                vector_input_PCA[i,ele_index*20:(ele_index+1)*20]=PCA_NOM[target_ele_index,:]\n",
    "                ele_index+=1\n",
    "\n",
    "        #find the corresponding element"
   ]
  },
  {
   "cell_type": "code",
   "execution_count": 15,
   "metadata": {},
   "outputs": [],
   "source": [
    "#save dataset to target folder/file"
   ]
  },
  {
   "cell_type": "code",
   "execution_count": 16,
   "metadata": {},
   "outputs": [
    {
     "data": {
      "text/plain": [
       "'../data_set/test_output/PCA_input_test.txt'"
      ]
     },
     "execution_count": 16,
     "metadata": {},
     "output_type": "execute_result"
    }
   ],
   "source": [
    "input_file_path_1"
   ]
  },
  {
   "cell_type": "code",
   "execution_count": 17,
   "metadata": {},
   "outputs": [],
   "source": [
    "np.savetxt(input_file_path_1,vector_input_PCA)"
   ]
  },
  {
   "cell_type": "code",
   "execution_count": 18,
   "metadata": {},
   "outputs": [
    {
     "data": {
      "text/plain": [
       "'../data_set/test_output/LPE_input_test.txt'"
      ]
     },
     "execution_count": 18,
     "metadata": {},
     "output_type": "execute_result"
    }
   ],
   "source": [
    "input_file_path_2"
   ]
  },
  {
   "cell_type": "code",
   "execution_count": 19,
   "metadata": {},
   "outputs": [],
   "source": [
    "np.savetxt(input_file_path_2,vector_input_LPE)"
   ]
  },
  {
   "cell_type": "code",
   "execution_count": 20,
   "metadata": {},
   "outputs": [],
   "source": [
    "#input compound vector(5628*80)\n",
    "#vector_input_PCA\n",
    "#vector_input_LPE\n",
    "\n",
    "#input compound formation energy(5628)\n",
    "#data[\"formation_energy\"]"
   ]
  },
  {
   "cell_type": "code",
   "execution_count": 21,
   "metadata": {},
   "outputs": [
    {
     "data": {
      "text/html": [
       "<div>\n",
       "<style scoped>\n",
       "    .dataframe tbody tr th:only-of-type {\n",
       "        vertical-align: middle;\n",
       "    }\n",
       "\n",
       "    .dataframe tbody tr th {\n",
       "        vertical-align: top;\n",
       "    }\n",
       "\n",
       "    .dataframe thead th {\n",
       "        text-align: right;\n",
       "    }\n",
       "</style>\n",
       "<table border=\"1\" class=\"dataframe\">\n",
       "  <thead>\n",
       "    <tr style=\"text-align: right;\">\n",
       "      <th></th>\n",
       "      <th>compound</th>\n",
       "      <th>formation_energy</th>\n",
       "    </tr>\n",
       "  </thead>\n",
       "  <tbody>\n",
       "    <tr>\n",
       "      <th>0</th>\n",
       "      <td>Ca1O1F2Cs6</td>\n",
       "      <td>-7.110018</td>\n",
       "    </tr>\n",
       "    <tr>\n",
       "      <th>1</th>\n",
       "      <td>Mg1S1Al2In6</td>\n",
       "      <td>4.713586</td>\n",
       "    </tr>\n",
       "    <tr>\n",
       "      <th>2</th>\n",
       "      <td>Cs1Te1S2Si6</td>\n",
       "      <td>18.374580</td>\n",
       "    </tr>\n",
       "    <tr>\n",
       "      <th>3</th>\n",
       "      <td>Be1Si1Tl2H6</td>\n",
       "      <td>4.612162</td>\n",
       "    </tr>\n",
       "    <tr>\n",
       "      <th>4</th>\n",
       "      <td>Mg1O1F2Ca6</td>\n",
       "      <td>-7.145500</td>\n",
       "    </tr>\n",
       "  </tbody>\n",
       "</table>\n",
       "</div>"
      ],
      "text/plain": [
       "      compound  formation_energy\n",
       "0   Ca1O1F2Cs6         -7.110018\n",
       "1  Mg1S1Al2In6          4.713586\n",
       "2  Cs1Te1S2Si6         18.374580\n",
       "3  Be1Si1Tl2H6          4.612162\n",
       "4   Mg1O1F2Ca6         -7.145500"
      ]
     },
     "execution_count": 21,
     "metadata": {},
     "output_type": "execute_result"
    }
   ],
   "source": [
    "data.head()"
   ]
  },
  {
   "cell_type": "code",
   "execution_count": 22,
   "metadata": {},
   "outputs": [],
   "source": [
    "\n",
    "\n",
    "##hold-out 10 to (80%,10%,10% for training/validation/test set)\n"
   ]
  },
  {
   "cell_type": "code",
   "execution_count": 23,
   "metadata": {},
   "outputs": [
    {
     "data": {
      "text/plain": [
       "(5628, 80)"
      ]
     },
     "execution_count": 23,
     "metadata": {},
     "output_type": "execute_result"
    }
   ],
   "source": [
    "vector_input_PCA.shape"
   ]
  },
  {
   "cell_type": "code",
   "execution_count": 24,
   "metadata": {},
   "outputs": [
    {
     "data": {
      "text/plain": [
       "(80, 20)"
      ]
     },
     "execution_count": 24,
     "metadata": {},
     "output_type": "execute_result"
    }
   ],
   "source": [
    "PCA_NOM.shape"
   ]
  },
  {
   "cell_type": "code",
   "execution_count": 25,
   "metadata": {},
   "outputs": [],
   "source": [
    "#split the dataset into old-out 10 to (80%,10%,10% for training/validation/test set)\n",
    "#hold number 10 is not implemented yet\n",
    "X=vector_input_PCA\n",
    "y=data[\"formation_energy\"]\n",
    "\n",
    "from sklearn.model_selection import train_test_split\n",
    "seed=6\n",
    "\n",
    "X_train, X_test, y_train, y_test = train_test_split(X, y, test_size=0.2, random_state=seed)\n",
    "X_val, X_test, y_val, y_test = train_test_split(X_test, y_test, test_size=0.5, random_state=seed)"
   ]
  },
  {
   "cell_type": "code",
   "execution_count": 26,
   "metadata": {},
   "outputs": [
    {
     "data": {
      "text/plain": [
       "(4502, 80)"
      ]
     },
     "execution_count": 26,
     "metadata": {},
     "output_type": "execute_result"
    }
   ],
   "source": [
    "X_train.shape"
   ]
  },
  {
   "cell_type": "code",
   "execution_count": 27,
   "metadata": {},
   "outputs": [
    {
     "data": {
      "text/plain": [
       "(563, 80)"
      ]
     },
     "execution_count": 27,
     "metadata": {},
     "output_type": "execute_result"
    }
   ],
   "source": [
    "X_val.shape"
   ]
  },
  {
   "cell_type": "code",
   "execution_count": 28,
   "metadata": {},
   "outputs": [
    {
     "data": {
      "text/plain": [
       "(563, 80)"
      ]
     },
     "execution_count": 28,
     "metadata": {},
     "output_type": "execute_result"
    }
   ],
   "source": [
    "X_test.shape"
   ]
  },
  {
   "cell_type": "code",
   "execution_count": 29,
   "metadata": {},
   "outputs": [],
   "source": [
    "#traing dataset: X_train/y_train\n",
    "#validation dataset: X_val/y_val\n",
    "#test dataset: X_test/y_test"
   ]
  },
  {
   "cell_type": "code",
   "execution_count": 36,
   "metadata": {},
   "outputs": [],
   "source": [
    "#early_stop in the call back of earlystop\n",
    "#build the model,train and test it.\n",
    "#test dataset of PCA result\n",
    "\"\"\"\n",
    "keras.callbacks.EarlyStopping(monitor='val_loss',\n",
    "                              min_delta=0,\n",
    "                              patience=2,\n",
    "                              verbose=0, mode='auto')\n",
    "\"\"\"\n",
    "from keras.models import Sequential\n",
    "from keras.layers import Dense, Activation\n",
    "from keras.callbacks import EarlyStopping\n",
    "from keras.optimizers import Adam\n",
    "from keras.layers.normalization import BatchNormalization\n",
    "import tensorflow as tf\n",
    "\n",
    "\n",
    "callback=EarlyStopping( monitor='val_loss',\n",
    "                        min_delta=0,\n",
    "                        patience=100,\n",
    "                        verbose=0, mode='auto')\n",
    "\n",
    "model = Sequential()\n",
    "model.add(Dense(10, input_dim=80))\n",
    "model.add(BatchNormalization())\n",
    "model.add(Activation('relu'))\n",
    "model.add(Dense(1))\n",
    "          \n",
    "model.compile(optimizer=Adam(lr=0.01,decay=1e-4),\n",
    "              loss='mae',\n",
    "              metrics=['mae'])"
   ]
  },
  {
   "cell_type": "code",
   "execution_count": 37,
   "metadata": {},
   "outputs": [
    {
     "name": "stdout",
     "output_type": "stream",
     "text": [
      "Train on 4502 samples, validate on 563 samples\n",
      "Epoch 1/1000\n",
      "4502/4502 [==============================] - 1s 258us/step - loss: 4.6841 - mean_absolute_error: 4.6841 - val_loss: 3.1336 - val_mean_absolute_error: 3.1336\n",
      "Epoch 2/1000\n",
      "4502/4502 [==============================] - 0s 70us/step - loss: 3.2450 - mean_absolute_error: 3.2450 - val_loss: 2.5007 - val_mean_absolute_error: 2.5007\n",
      "Epoch 3/1000\n",
      "4502/4502 [==============================] - 0s 71us/step - loss: 2.7528 - mean_absolute_error: 2.7528 - val_loss: 2.3446 - val_mean_absolute_error: 2.3446\n",
      "Epoch 4/1000\n",
      "4502/4502 [==============================] - 0s 71us/step - loss: 2.6442 - mean_absolute_error: 2.6442 - val_loss: 2.5287 - val_mean_absolute_error: 2.5287\n",
      "Epoch 5/1000\n",
      "4502/4502 [==============================] - 0s 70us/step - loss: 2.5283 - mean_absolute_error: 2.5283 - val_loss: 2.1819 - val_mean_absolute_error: 2.1819\n",
      "Epoch 6/1000\n",
      "4502/4502 [==============================] - 0s 70us/step - loss: 2.4511 - mean_absolute_error: 2.4511 - val_loss: 2.2398 - val_mean_absolute_error: 2.2398\n",
      "Epoch 7/1000\n",
      "4502/4502 [==============================] - 0s 72us/step - loss: 2.4770 - mean_absolute_error: 2.4770 - val_loss: 2.0397 - val_mean_absolute_error: 2.0397\n",
      "Epoch 8/1000\n",
      "4502/4502 [==============================] - 0s 75us/step - loss: 2.4209 - mean_absolute_error: 2.4209 - val_loss: 2.0228 - val_mean_absolute_error: 2.0228\n",
      "Epoch 9/1000\n",
      "4502/4502 [==============================] - 0s 69us/step - loss: 2.4428 - mean_absolute_error: 2.4428 - val_loss: 2.0549 - val_mean_absolute_error: 2.0549\n",
      "Epoch 10/1000\n",
      "4502/4502 [==============================] - 0s 70us/step - loss: 2.3878 - mean_absolute_error: 2.3878 - val_loss: 1.9107 - val_mean_absolute_error: 1.9107\n",
      "Epoch 11/1000\n",
      "4502/4502 [==============================] - 0s 87us/step - loss: 2.3423 - mean_absolute_error: 2.3423 - val_loss: 2.0057 - val_mean_absolute_error: 2.0057\n",
      "Epoch 12/1000\n",
      "4502/4502 [==============================] - 0s 94us/step - loss: 2.3434 - mean_absolute_error: 2.3434 - val_loss: 2.2938 - val_mean_absolute_error: 2.2938\n",
      "Epoch 13/1000\n",
      "4502/4502 [==============================] - 0s 74us/step - loss: 2.3237 - mean_absolute_error: 2.3237 - val_loss: 1.9455 - val_mean_absolute_error: 1.9455\n",
      "Epoch 14/1000\n",
      "4502/4502 [==============================] - 0s 73us/step - loss: 2.2964 - mean_absolute_error: 2.2964 - val_loss: 1.8936 - val_mean_absolute_error: 1.8936\n",
      "Epoch 15/1000\n",
      "4502/4502 [==============================] - 0s 86us/step - loss: 2.2752 - mean_absolute_error: 2.2752 - val_loss: 1.9745 - val_mean_absolute_error: 1.9745\n",
      "Epoch 16/1000\n",
      "4502/4502 [==============================] - 0s 69us/step - loss: 2.2883 - mean_absolute_error: 2.2883 - val_loss: 2.0447 - val_mean_absolute_error: 2.0447\n",
      "Epoch 17/1000\n",
      "4502/4502 [==============================] - 0s 81us/step - loss: 2.2988 - mean_absolute_error: 2.2988 - val_loss: 1.8634 - val_mean_absolute_error: 1.8634\n",
      "Epoch 18/1000\n",
      "4502/4502 [==============================] - 0s 73us/step - loss: 2.2282 - mean_absolute_error: 2.2282 - val_loss: 1.9210 - val_mean_absolute_error: 1.9210\n",
      "Epoch 19/1000\n",
      "4502/4502 [==============================] - 0s 83us/step - loss: 2.2408 - mean_absolute_error: 2.2408 - val_loss: 1.7944 - val_mean_absolute_error: 1.7944\n",
      "Epoch 20/1000\n",
      "4502/4502 [==============================] - 0s 73us/step - loss: 2.3142 - mean_absolute_error: 2.3142 - val_loss: 1.7485 - val_mean_absolute_error: 1.7485\n",
      "Epoch 21/1000\n",
      "4502/4502 [==============================] - 0s 77us/step - loss: 2.2691 - mean_absolute_error: 2.2691 - val_loss: 1.7624 - val_mean_absolute_error: 1.7624\n",
      "Epoch 22/1000\n",
      "4502/4502 [==============================] - 0s 69us/step - loss: 2.1991 - mean_absolute_error: 2.1991 - val_loss: 1.8345 - val_mean_absolute_error: 1.8345\n",
      "Epoch 23/1000\n",
      "4502/4502 [==============================] - 0s 72us/step - loss: 2.2530 - mean_absolute_error: 2.2530 - val_loss: 1.8583 - val_mean_absolute_error: 1.8583\n",
      "Epoch 24/1000\n",
      "4502/4502 [==============================] - 0s 72us/step - loss: 2.2876 - mean_absolute_error: 2.2876 - val_loss: 1.7945 - val_mean_absolute_error: 1.7945\n",
      "Epoch 25/1000\n",
      "4502/4502 [==============================] - 0s 72us/step - loss: 2.2051 - mean_absolute_error: 2.2051 - val_loss: 1.8284 - val_mean_absolute_error: 1.8284\n",
      "Epoch 26/1000\n",
      "4502/4502 [==============================] - 0s 81us/step - loss: 2.1795 - mean_absolute_error: 2.1795 - val_loss: 1.7402 - val_mean_absolute_error: 1.7402\n",
      "Epoch 27/1000\n",
      "4502/4502 [==============================] - 0s 66us/step - loss: 2.2132 - mean_absolute_error: 2.2132 - val_loss: 1.7938 - val_mean_absolute_error: 1.7938\n",
      "Epoch 28/1000\n",
      "4502/4502 [==============================] - 0s 65us/step - loss: 2.2676 - mean_absolute_error: 2.2676 - val_loss: 1.8198 - val_mean_absolute_error: 1.8198\n",
      "Epoch 29/1000\n",
      "4502/4502 [==============================] - 0s 69us/step - loss: 2.1683 - mean_absolute_error: 2.1683 - val_loss: 1.7638 - val_mean_absolute_error: 1.7638\n",
      "Epoch 30/1000\n",
      "4502/4502 [==============================] - 0s 70us/step - loss: 2.1649 - mean_absolute_error: 2.1649 - val_loss: 1.7529 - val_mean_absolute_error: 1.7529\n",
      "Epoch 31/1000\n",
      "4502/4502 [==============================] - 0s 72us/step - loss: 2.2453 - mean_absolute_error: 2.2453 - val_loss: 1.6944 - val_mean_absolute_error: 1.6944\n",
      "Epoch 32/1000\n",
      "4502/4502 [==============================] - 0s 68us/step - loss: 2.1439 - mean_absolute_error: 2.1439 - val_loss: 1.8358 - val_mean_absolute_error: 1.8358\n",
      "Epoch 33/1000\n",
      "4502/4502 [==============================] - 0s 70us/step - loss: 2.1531 - mean_absolute_error: 2.1531 - val_loss: 1.7910 - val_mean_absolute_error: 1.7910\n",
      "Epoch 34/1000\n",
      "4502/4502 [==============================] - 0s 72us/step - loss: 2.1533 - mean_absolute_error: 2.1533 - val_loss: 1.7064 - val_mean_absolute_error: 1.7064\n",
      "Epoch 35/1000\n",
      "4502/4502 [==============================] - 0s 75us/step - loss: 2.1743 - mean_absolute_error: 2.1743 - val_loss: 1.7847 - val_mean_absolute_error: 1.7847\n",
      "Epoch 36/1000\n",
      "4502/4502 [==============================] - 0s 71us/step - loss: 2.2059 - mean_absolute_error: 2.2059 - val_loss: 1.6831 - val_mean_absolute_error: 1.6831\n",
      "Epoch 37/1000\n",
      "4502/4502 [==============================] - 0s 76us/step - loss: 2.1745 - mean_absolute_error: 2.1745 - val_loss: 1.7012 - val_mean_absolute_error: 1.7012\n",
      "Epoch 38/1000\n",
      "4502/4502 [==============================] - 0s 64us/step - loss: 2.2157 - mean_absolute_error: 2.2157 - val_loss: 2.0327 - val_mean_absolute_error: 2.0327\n",
      "Epoch 39/1000\n",
      "4502/4502 [==============================] - 0s 64us/step - loss: 2.1056 - mean_absolute_error: 2.1056 - val_loss: 1.6685 - val_mean_absolute_error: 1.6685\n",
      "Epoch 40/1000\n",
      "4502/4502 [==============================] - 0s 62us/step - loss: 2.1102 - mean_absolute_error: 2.1102 - val_loss: 1.6240 - val_mean_absolute_error: 1.6240\n",
      "Epoch 41/1000\n",
      "4502/4502 [==============================] - 0s 65us/step - loss: 2.1119 - mean_absolute_error: 2.1119 - val_loss: 1.6230 - val_mean_absolute_error: 1.6230\n",
      "Epoch 42/1000\n",
      "4502/4502 [==============================] - 0s 72us/step - loss: 2.1373 - mean_absolute_error: 2.1373 - val_loss: 1.6489 - val_mean_absolute_error: 1.6489\n",
      "Epoch 43/1000\n",
      "4502/4502 [==============================] - 0s 70us/step - loss: 2.1311 - mean_absolute_error: 2.1311 - val_loss: 1.6713 - val_mean_absolute_error: 1.6713\n",
      "Epoch 44/1000\n",
      "4502/4502 [==============================] - 0s 78us/step - loss: 2.1843 - mean_absolute_error: 2.1843 - val_loss: 1.6906 - val_mean_absolute_error: 1.6906\n",
      "Epoch 45/1000\n",
      "4502/4502 [==============================] - 0s 79us/step - loss: 2.0528 - mean_absolute_error: 2.0528 - val_loss: 1.6331 - val_mean_absolute_error: 1.6331\n",
      "Epoch 46/1000\n",
      "4502/4502 [==============================] - 0s 70us/step - loss: 2.1319 - mean_absolute_error: 2.1319 - val_loss: 1.6380 - val_mean_absolute_error: 1.6380\n",
      "Epoch 47/1000\n",
      "4502/4502 [==============================] - 0s 78us/step - loss: 2.0798 - mean_absolute_error: 2.0798 - val_loss: 1.6620 - val_mean_absolute_error: 1.6620\n",
      "Epoch 48/1000\n",
      "4502/4502 [==============================] - 0s 75us/step - loss: 2.1649 - mean_absolute_error: 2.1649 - val_loss: 1.7347 - val_mean_absolute_error: 1.7347\n"
     ]
    },
    {
     "name": "stdout",
     "output_type": "stream",
     "text": [
      "Epoch 49/1000\n",
      "4502/4502 [==============================] - 0s 87us/step - loss: 2.0798 - mean_absolute_error: 2.0798 - val_loss: 1.6181 - val_mean_absolute_error: 1.6181\n",
      "Epoch 50/1000\n",
      "4502/4502 [==============================] - 0s 66us/step - loss: 2.1547 - mean_absolute_error: 2.1547 - val_loss: 1.6812 - val_mean_absolute_error: 1.6812\n",
      "Epoch 51/1000\n",
      "4502/4502 [==============================] - 0s 72us/step - loss: 2.0164 - mean_absolute_error: 2.0164 - val_loss: 1.6536 - val_mean_absolute_error: 1.6536\n",
      "Epoch 52/1000\n",
      "4502/4502 [==============================] - 0s 74us/step - loss: 2.1299 - mean_absolute_error: 2.1299 - val_loss: 1.7446 - val_mean_absolute_error: 1.7446\n",
      "Epoch 53/1000\n",
      "4502/4502 [==============================] - 0s 69us/step - loss: 2.1083 - mean_absolute_error: 2.1083 - val_loss: 1.6918 - val_mean_absolute_error: 1.6918\n",
      "Epoch 54/1000\n",
      "4502/4502 [==============================] - 0s 66us/step - loss: 2.0630 - mean_absolute_error: 2.0630 - val_loss: 1.6006 - val_mean_absolute_error: 1.6006\n",
      "Epoch 55/1000\n",
      "4502/4502 [==============================] - 0s 66us/step - loss: 2.0106 - mean_absolute_error: 2.0106 - val_loss: 1.6508 - val_mean_absolute_error: 1.6508\n",
      "Epoch 56/1000\n",
      "4502/4502 [==============================] - 0s 66us/step - loss: 2.0518 - mean_absolute_error: 2.0518 - val_loss: 1.5858 - val_mean_absolute_error: 1.5858\n",
      "Epoch 57/1000\n",
      "4502/4502 [==============================] - 0s 67us/step - loss: 2.1149 - mean_absolute_error: 2.1149 - val_loss: 1.6249 - val_mean_absolute_error: 1.6249\n",
      "Epoch 58/1000\n",
      "4502/4502 [==============================] - 0s 67us/step - loss: 2.0110 - mean_absolute_error: 2.0110 - val_loss: 1.6267 - val_mean_absolute_error: 1.6267\n",
      "Epoch 59/1000\n",
      "4502/4502 [==============================] - 0s 65us/step - loss: 2.1168 - mean_absolute_error: 2.1168 - val_loss: 1.5798 - val_mean_absolute_error: 1.5798\n",
      "Epoch 60/1000\n",
      "4502/4502 [==============================] - 0s 66us/step - loss: 2.0952 - mean_absolute_error: 2.0952 - val_loss: 1.6283 - val_mean_absolute_error: 1.6283\n",
      "Epoch 61/1000\n",
      "4502/4502 [==============================] - 0s 69us/step - loss: 2.0311 - mean_absolute_error: 2.0311 - val_loss: 1.5865 - val_mean_absolute_error: 1.5865\n",
      "Epoch 62/1000\n",
      "4502/4502 [==============================] - 0s 67us/step - loss: 2.0670 - mean_absolute_error: 2.0670 - val_loss: 1.6938 - val_mean_absolute_error: 1.6938\n",
      "Epoch 63/1000\n",
      "4502/4502 [==============================] - 0s 66us/step - loss: 2.0423 - mean_absolute_error: 2.0423 - val_loss: 1.6043 - val_mean_absolute_error: 1.6043\n",
      "Epoch 64/1000\n",
      "4502/4502 [==============================] - 0s 67us/step - loss: 2.0324 - mean_absolute_error: 2.0324 - val_loss: 1.5938 - val_mean_absolute_error: 1.5938\n",
      "Epoch 65/1000\n",
      "4502/4502 [==============================] - 0s 67us/step - loss: 2.0243 - mean_absolute_error: 2.0243 - val_loss: 1.6206 - val_mean_absolute_error: 1.6206\n",
      "Epoch 66/1000\n",
      "4502/4502 [==============================] - 0s 64us/step - loss: 2.1725 - mean_absolute_error: 2.1725 - val_loss: 1.5830 - val_mean_absolute_error: 1.5830\n",
      "Epoch 67/1000\n",
      "4502/4502 [==============================] - 0s 63us/step - loss: 2.0963 - mean_absolute_error: 2.0963 - val_loss: 1.5911 - val_mean_absolute_error: 1.5911\n",
      "Epoch 68/1000\n",
      "4502/4502 [==============================] - 0s 64us/step - loss: 2.0582 - mean_absolute_error: 2.0582 - val_loss: 1.5705 - val_mean_absolute_error: 1.5705\n",
      "Epoch 69/1000\n",
      "4502/4502 [==============================] - 0s 69us/step - loss: 2.0974 - mean_absolute_error: 2.0974 - val_loss: 1.6066 - val_mean_absolute_error: 1.6066\n",
      "Epoch 70/1000\n",
      "4502/4502 [==============================] - 0s 63us/step - loss: 2.0502 - mean_absolute_error: 2.0502 - val_loss: 1.5764 - val_mean_absolute_error: 1.5764\n",
      "Epoch 71/1000\n",
      "4502/4502 [==============================] - 0s 64us/step - loss: 2.0560 - mean_absolute_error: 2.0560 - val_loss: 1.6504 - val_mean_absolute_error: 1.6504\n",
      "Epoch 72/1000\n",
      "4502/4502 [==============================] - 0s 62us/step - loss: 2.1164 - mean_absolute_error: 2.1164 - val_loss: 1.5994 - val_mean_absolute_error: 1.5994\n",
      "Epoch 73/1000\n",
      "4502/4502 [==============================] - 0s 66us/step - loss: 2.1051 - mean_absolute_error: 2.1051 - val_loss: 1.5884 - val_mean_absolute_error: 1.5884\n",
      "Epoch 74/1000\n",
      "4502/4502 [==============================] - 0s 68us/step - loss: 2.0995 - mean_absolute_error: 2.0995 - val_loss: 1.6116 - val_mean_absolute_error: 1.6116\n",
      "Epoch 75/1000\n",
      "4502/4502 [==============================] - 0s 68us/step - loss: 2.1035 - mean_absolute_error: 2.1035 - val_loss: 1.6009 - val_mean_absolute_error: 1.6009\n",
      "Epoch 76/1000\n",
      "4502/4502 [==============================] - 0s 69us/step - loss: 2.0516 - mean_absolute_error: 2.0516 - val_loss: 1.6129 - val_mean_absolute_error: 1.6129\n",
      "Epoch 77/1000\n",
      "4502/4502 [==============================] - 0s 65us/step - loss: 2.0280 - mean_absolute_error: 2.0280 - val_loss: 1.6218 - val_mean_absolute_error: 1.6218\n",
      "Epoch 78/1000\n",
      "4502/4502 [==============================] - 0s 69us/step - loss: 2.0748 - mean_absolute_error: 2.0748 - val_loss: 1.5820 - val_mean_absolute_error: 1.5820\n",
      "Epoch 79/1000\n",
      "4502/4502 [==============================] - 0s 64us/step - loss: 2.1537 - mean_absolute_error: 2.1537 - val_loss: 1.5795 - val_mean_absolute_error: 1.5795\n",
      "Epoch 80/1000\n",
      "4502/4502 [==============================] - 0s 63us/step - loss: 2.1375 - mean_absolute_error: 2.1375 - val_loss: 1.6099 - val_mean_absolute_error: 1.6099\n",
      "Epoch 81/1000\n",
      "4502/4502 [==============================] - 0s 69us/step - loss: 2.1448 - mean_absolute_error: 2.1448 - val_loss: 1.6340 - val_mean_absolute_error: 1.6340\n",
      "Epoch 82/1000\n",
      "4502/4502 [==============================] - 0s 78us/step - loss: 2.0990 - mean_absolute_error: 2.0990 - val_loss: 1.5929 - val_mean_absolute_error: 1.5929\n",
      "Epoch 83/1000\n",
      "4502/4502 [==============================] - 0s 68us/step - loss: 1.9565 - mean_absolute_error: 1.9565 - val_loss: 1.5214 - val_mean_absolute_error: 1.5214\n",
      "Epoch 84/1000\n",
      "4502/4502 [==============================] - 0s 71us/step - loss: 1.9588 - mean_absolute_error: 1.9588 - val_loss: 1.5294 - val_mean_absolute_error: 1.5294\n",
      "Epoch 85/1000\n",
      "4502/4502 [==============================] - 0s 80us/step - loss: 2.0670 - mean_absolute_error: 2.0670 - val_loss: 1.5545 - val_mean_absolute_error: 1.5545\n",
      "Epoch 86/1000\n",
      "4502/4502 [==============================] - 0s 72us/step - loss: 2.0980 - mean_absolute_error: 2.0980 - val_loss: 1.5609 - val_mean_absolute_error: 1.5609\n",
      "Epoch 87/1000\n",
      "4502/4502 [==============================] - 0s 109us/step - loss: 2.0843 - mean_absolute_error: 2.0843 - val_loss: 1.5616 - val_mean_absolute_error: 1.5616\n",
      "Epoch 88/1000\n",
      "4502/4502 [==============================] - 0s 82us/step - loss: 2.0349 - mean_absolute_error: 2.0349 - val_loss: 1.5482 - val_mean_absolute_error: 1.5482\n",
      "Epoch 89/1000\n",
      "4502/4502 [==============================] - 0s 86us/step - loss: 2.0758 - mean_absolute_error: 2.0758 - val_loss: 1.5576 - val_mean_absolute_error: 1.5576\n",
      "Epoch 90/1000\n",
      "4502/4502 [==============================] - 0s 94us/step - loss: 2.0106 - mean_absolute_error: 2.0106 - val_loss: 1.5655 - val_mean_absolute_error: 1.5655\n",
      "Epoch 91/1000\n",
      "4502/4502 [==============================] - 1s 128us/step - loss: 2.0490 - mean_absolute_error: 2.0490 - val_loss: 1.5226 - val_mean_absolute_error: 1.5226\n",
      "Epoch 92/1000\n",
      "4502/4502 [==============================] - 1s 128us/step - loss: 2.0267 - mean_absolute_error: 2.0267 - val_loss: 1.5338 - val_mean_absolute_error: 1.5338\n",
      "Epoch 93/1000\n",
      "4502/4502 [==============================] - 1s 127us/step - loss: 1.9902 - mean_absolute_error: 1.9902 - val_loss: 1.5570 - val_mean_absolute_error: 1.5570\n",
      "Epoch 94/1000\n",
      "4502/4502 [==============================] - 0s 94us/step - loss: 2.0865 - mean_absolute_error: 2.0865 - val_loss: 1.5059 - val_mean_absolute_error: 1.5059\n",
      "Epoch 95/1000\n",
      "4502/4502 [==============================] - 0s 102us/step - loss: 2.0723 - mean_absolute_error: 2.0723 - val_loss: 1.5339 - val_mean_absolute_error: 1.5339\n",
      "Epoch 96/1000\n",
      "4502/4502 [==============================] - 0s 105us/step - loss: 2.0085 - mean_absolute_error: 2.0085 - val_loss: 1.5703 - val_mean_absolute_error: 1.5703\n",
      "Epoch 97/1000\n"
     ]
    },
    {
     "name": "stdout",
     "output_type": "stream",
     "text": [
      "4502/4502 [==============================] - 0s 98us/step - loss: 2.0061 - mean_absolute_error: 2.0061 - val_loss: 1.5132 - val_mean_absolute_error: 1.5132\n",
      "Epoch 98/1000\n",
      "4502/4502 [==============================] - 0s 93us/step - loss: 2.0103 - mean_absolute_error: 2.0103 - val_loss: 1.5256 - val_mean_absolute_error: 1.5256\n",
      "Epoch 99/1000\n",
      "4502/4502 [==============================] - 1s 131us/step - loss: 1.9631 - mean_absolute_error: 1.9631 - val_loss: 1.5620 - val_mean_absolute_error: 1.5620\n",
      "Epoch 100/1000\n",
      "4502/4502 [==============================] - 0s 95us/step - loss: 2.0373 - mean_absolute_error: 2.0373 - val_loss: 1.5069 - val_mean_absolute_error: 1.5069\n",
      "Epoch 101/1000\n",
      "4502/4502 [==============================] - 1s 121us/step - loss: 1.9947 - mean_absolute_error: 1.9947 - val_loss: 1.5404 - val_mean_absolute_error: 1.5404\n",
      "Epoch 102/1000\n",
      "4502/4502 [==============================] - 1s 112us/step - loss: 2.2008 - mean_absolute_error: 2.2008 - val_loss: 1.5307 - val_mean_absolute_error: 1.5307\n",
      "Epoch 103/1000\n",
      "4502/4502 [==============================] - 1s 140us/step - loss: 2.0641 - mean_absolute_error: 2.0641 - val_loss: 1.5107 - val_mean_absolute_error: 1.5107\n",
      "Epoch 104/1000\n",
      "4502/4502 [==============================] - 1s 116us/step - loss: 2.1422 - mean_absolute_error: 2.1422 - val_loss: 1.5581 - val_mean_absolute_error: 1.5581\n",
      "Epoch 105/1000\n",
      "4502/4502 [==============================] - 1s 113us/step - loss: 2.0378 - mean_absolute_error: 2.0378 - val_loss: 1.5818 - val_mean_absolute_error: 1.5818\n",
      "Epoch 106/1000\n",
      "4502/4502 [==============================] - 0s 103us/step - loss: 2.0278 - mean_absolute_error: 2.0278 - val_loss: 1.5939 - val_mean_absolute_error: 1.5939\n",
      "Epoch 107/1000\n",
      "4502/4502 [==============================] - 0s 79us/step - loss: 1.9766 - mean_absolute_error: 1.9766 - val_loss: 1.5499 - val_mean_absolute_error: 1.5499\n",
      "Epoch 108/1000\n",
      "4502/4502 [==============================] - 0s 66us/step - loss: 2.0431 - mean_absolute_error: 2.0431 - val_loss: 1.5371 - val_mean_absolute_error: 1.5371\n",
      "Epoch 109/1000\n",
      "4502/4502 [==============================] - 0s 63us/step - loss: 2.0160 - mean_absolute_error: 2.0160 - val_loss: 1.5487 - val_mean_absolute_error: 1.5487\n",
      "Epoch 110/1000\n",
      "4502/4502 [==============================] - 0s 63us/step - loss: 2.0298 - mean_absolute_error: 2.0298 - val_loss: 1.5500 - val_mean_absolute_error: 1.5500\n",
      "Epoch 111/1000\n",
      "4502/4502 [==============================] - 0s 70us/step - loss: 1.9666 - mean_absolute_error: 1.9666 - val_loss: 1.5818 - val_mean_absolute_error: 1.5818\n",
      "Epoch 112/1000\n",
      "4502/4502 [==============================] - 0s 65us/step - loss: 1.9058 - mean_absolute_error: 1.9058 - val_loss: 1.5876 - val_mean_absolute_error: 1.5876\n",
      "Epoch 113/1000\n",
      "4502/4502 [==============================] - 0s 61us/step - loss: 2.0057 - mean_absolute_error: 2.0057 - val_loss: 1.5025 - val_mean_absolute_error: 1.5025\n",
      "Epoch 114/1000\n",
      "4502/4502 [==============================] - 0s 64us/step - loss: 1.9698 - mean_absolute_error: 1.9698 - val_loss: 1.5353 - val_mean_absolute_error: 1.5353\n",
      "Epoch 115/1000\n",
      "4502/4502 [==============================] - 0s 64us/step - loss: 2.0392 - mean_absolute_error: 2.0392 - val_loss: 1.5715 - val_mean_absolute_error: 1.5715\n",
      "Epoch 116/1000\n",
      "4502/4502 [==============================] - 0s 64us/step - loss: 1.9852 - mean_absolute_error: 1.9852 - val_loss: 1.5109 - val_mean_absolute_error: 1.5109\n",
      "Epoch 117/1000\n",
      "4502/4502 [==============================] - 0s 64us/step - loss: 1.9639 - mean_absolute_error: 1.9639 - val_loss: 1.5011 - val_mean_absolute_error: 1.5011\n",
      "Epoch 118/1000\n",
      "4502/4502 [==============================] - 0s 65us/step - loss: 1.9540 - mean_absolute_error: 1.9540 - val_loss: 1.5286 - val_mean_absolute_error: 1.5286\n",
      "Epoch 119/1000\n",
      "4502/4502 [==============================] - 0s 65us/step - loss: 1.9701 - mean_absolute_error: 1.9701 - val_loss: 1.5841 - val_mean_absolute_error: 1.5841\n",
      "Epoch 120/1000\n",
      "4502/4502 [==============================] - 0s 59us/step - loss: 2.0229 - mean_absolute_error: 2.0229 - val_loss: 1.5380 - val_mean_absolute_error: 1.5380\n",
      "Epoch 121/1000\n",
      "4502/4502 [==============================] - 0s 62us/step - loss: 2.0486 - mean_absolute_error: 2.0486 - val_loss: 1.5129 - val_mean_absolute_error: 1.5129\n",
      "Epoch 122/1000\n",
      "4502/4502 [==============================] - 0s 66us/step - loss: 2.0214 - mean_absolute_error: 2.0214 - val_loss: 1.5783 - val_mean_absolute_error: 1.5783\n",
      "Epoch 123/1000\n",
      "4502/4502 [==============================] - 0s 62us/step - loss: 1.9384 - mean_absolute_error: 1.9384 - val_loss: 1.4887 - val_mean_absolute_error: 1.4887\n",
      "Epoch 124/1000\n",
      "4502/4502 [==============================] - 0s 62us/step - loss: 2.0383 - mean_absolute_error: 2.0383 - val_loss: 1.5668 - val_mean_absolute_error: 1.5668\n",
      "Epoch 125/1000\n",
      "4502/4502 [==============================] - 0s 64us/step - loss: 2.0419 - mean_absolute_error: 2.0419 - val_loss: 1.4989 - val_mean_absolute_error: 1.4989\n",
      "Epoch 126/1000\n",
      "4502/4502 [==============================] - 0s 59us/step - loss: 1.9669 - mean_absolute_error: 1.9669 - val_loss: 1.5779 - val_mean_absolute_error: 1.5779\n",
      "Epoch 127/1000\n",
      "4502/4502 [==============================] - 0s 62us/step - loss: 2.0884 - mean_absolute_error: 2.0884 - val_loss: 1.5624 - val_mean_absolute_error: 1.5624\n",
      "Epoch 128/1000\n",
      "4502/4502 [==============================] - 0s 62us/step - loss: 1.9790 - mean_absolute_error: 1.9790 - val_loss: 1.5113 - val_mean_absolute_error: 1.5113\n",
      "Epoch 129/1000\n",
      "4502/4502 [==============================] - 0s 62us/step - loss: 2.0279 - mean_absolute_error: 2.0279 - val_loss: 1.5101 - val_mean_absolute_error: 1.5101\n",
      "Epoch 130/1000\n",
      "4502/4502 [==============================] - 0s 65us/step - loss: 2.0189 - mean_absolute_error: 2.0189 - val_loss: 1.4942 - val_mean_absolute_error: 1.4942\n",
      "Epoch 131/1000\n",
      "4502/4502 [==============================] - 0s 64us/step - loss: 2.0007 - mean_absolute_error: 2.0007 - val_loss: 1.5009 - val_mean_absolute_error: 1.5009\n",
      "Epoch 132/1000\n",
      "4502/4502 [==============================] - 0s 67us/step - loss: 2.0332 - mean_absolute_error: 2.0332 - val_loss: 1.5170 - val_mean_absolute_error: 1.5170\n",
      "Epoch 133/1000\n",
      "4502/4502 [==============================] - 0s 61us/step - loss: 1.9473 - mean_absolute_error: 1.9473 - val_loss: 1.4753 - val_mean_absolute_error: 1.4753\n",
      "Epoch 134/1000\n",
      "4502/4502 [==============================] - 0s 62us/step - loss: 2.0679 - mean_absolute_error: 2.0679 - val_loss: 1.5471 - val_mean_absolute_error: 1.5471\n",
      "Epoch 135/1000\n",
      "4502/4502 [==============================] - 0s 64us/step - loss: 1.9789 - mean_absolute_error: 1.9789 - val_loss: 1.5339 - val_mean_absolute_error: 1.5339\n",
      "Epoch 136/1000\n",
      "4502/4502 [==============================] - 0s 68us/step - loss: 2.0197 - mean_absolute_error: 2.0197 - val_loss: 1.4964 - val_mean_absolute_error: 1.4964\n",
      "Epoch 137/1000\n",
      "4502/4502 [==============================] - 0s 66us/step - loss: 2.0149 - mean_absolute_error: 2.0149 - val_loss: 1.5420 - val_mean_absolute_error: 1.5420\n",
      "Epoch 138/1000\n",
      "4502/4502 [==============================] - 0s 61us/step - loss: 2.0044 - mean_absolute_error: 2.0044 - val_loss: 1.4917 - val_mean_absolute_error: 1.4917\n",
      "Epoch 139/1000\n",
      "4502/4502 [==============================] - 0s 65us/step - loss: 1.9830 - mean_absolute_error: 1.9830 - val_loss: 1.5273 - val_mean_absolute_error: 1.5273\n",
      "Epoch 140/1000\n",
      "4502/4502 [==============================] - 0s 66us/step - loss: 1.9778 - mean_absolute_error: 1.9778 - val_loss: 1.6048 - val_mean_absolute_error: 1.6048\n",
      "Epoch 141/1000\n",
      "4502/4502 [==============================] - 0s 60us/step - loss: 2.0091 - mean_absolute_error: 2.0091 - val_loss: 1.5122 - val_mean_absolute_error: 1.5122\n",
      "Epoch 142/1000\n",
      "4502/4502 [==============================] - 0s 60us/step - loss: 1.9689 - mean_absolute_error: 1.9689 - val_loss: 1.5694 - val_mean_absolute_error: 1.5694\n",
      "Epoch 143/1000\n",
      "4502/4502 [==============================] - 0s 61us/step - loss: 1.9764 - mean_absolute_error: 1.9764 - val_loss: 1.4907 - val_mean_absolute_error: 1.4907\n",
      "Epoch 144/1000\n",
      "4502/4502 [==============================] - 0s 63us/step - loss: 1.9549 - mean_absolute_error: 1.9549 - val_loss: 1.5309 - val_mean_absolute_error: 1.5309\n"
     ]
    },
    {
     "name": "stdout",
     "output_type": "stream",
     "text": [
      "Epoch 145/1000\n",
      "4502/4502 [==============================] - 0s 65us/step - loss: 1.8870 - mean_absolute_error: 1.8870 - val_loss: 1.5003 - val_mean_absolute_error: 1.5003\n",
      "Epoch 146/1000\n",
      "4502/4502 [==============================] - 0s 65us/step - loss: 1.9811 - mean_absolute_error: 1.9811 - val_loss: 1.4948 - val_mean_absolute_error: 1.4948\n",
      "Epoch 147/1000\n",
      "4502/4502 [==============================] - 0s 63us/step - loss: 2.0339 - mean_absolute_error: 2.0339 - val_loss: 1.5095 - val_mean_absolute_error: 1.5095\n",
      "Epoch 148/1000\n",
      "4502/4502 [==============================] - 0s 61us/step - loss: 1.9554 - mean_absolute_error: 1.9554 - val_loss: 1.4895 - val_mean_absolute_error: 1.4895\n",
      "Epoch 149/1000\n",
      "4502/4502 [==============================] - 0s 61us/step - loss: 2.0463 - mean_absolute_error: 2.0463 - val_loss: 1.5023 - val_mean_absolute_error: 1.5023\n",
      "Epoch 150/1000\n",
      "4502/4502 [==============================] - 0s 63us/step - loss: 1.9554 - mean_absolute_error: 1.9554 - val_loss: 1.5039 - val_mean_absolute_error: 1.5039\n",
      "Epoch 151/1000\n",
      "4502/4502 [==============================] - 0s 63us/step - loss: 1.9898 - mean_absolute_error: 1.9898 - val_loss: 1.5320 - val_mean_absolute_error: 1.5320\n",
      "Epoch 152/1000\n",
      "4502/4502 [==============================] - 0s 65us/step - loss: 2.1282 - mean_absolute_error: 2.1282 - val_loss: 1.5138 - val_mean_absolute_error: 1.5138\n",
      "Epoch 153/1000\n",
      "4502/4502 [==============================] - 0s 63us/step - loss: 1.9882 - mean_absolute_error: 1.9882 - val_loss: 1.5115 - val_mean_absolute_error: 1.5115\n",
      "Epoch 154/1000\n",
      "4502/4502 [==============================] - 0s 65us/step - loss: 1.8925 - mean_absolute_error: 1.8925 - val_loss: 1.4850 - val_mean_absolute_error: 1.4850\n",
      "Epoch 155/1000\n",
      "4502/4502 [==============================] - 0s 68us/step - loss: 2.0155 - mean_absolute_error: 2.0155 - val_loss: 1.4528 - val_mean_absolute_error: 1.4528\n",
      "Epoch 156/1000\n",
      "4502/4502 [==============================] - 0s 64us/step - loss: 2.0687 - mean_absolute_error: 2.0687 - val_loss: 1.4734 - val_mean_absolute_error: 1.4734\n",
      "Epoch 157/1000\n",
      "4502/4502 [==============================] - 0s 61us/step - loss: 1.9536 - mean_absolute_error: 1.9536 - val_loss: 1.4665 - val_mean_absolute_error: 1.4665\n",
      "Epoch 158/1000\n",
      "4502/4502 [==============================] - 0s 61us/step - loss: 1.9356 - mean_absolute_error: 1.9356 - val_loss: 1.4793 - val_mean_absolute_error: 1.4793\n",
      "Epoch 159/1000\n",
      "4502/4502 [==============================] - 0s 61us/step - loss: 1.9628 - mean_absolute_error: 1.9628 - val_loss: 1.4836 - val_mean_absolute_error: 1.4836\n",
      "Epoch 160/1000\n",
      "4502/4502 [==============================] - 0s 63us/step - loss: 1.9865 - mean_absolute_error: 1.9865 - val_loss: 1.4914 - val_mean_absolute_error: 1.4914\n",
      "Epoch 161/1000\n",
      "4502/4502 [==============================] - 0s 61us/step - loss: 1.9568 - mean_absolute_error: 1.9568 - val_loss: 1.4656 - val_mean_absolute_error: 1.4656\n",
      "Epoch 162/1000\n",
      "4502/4502 [==============================] - 0s 62us/step - loss: 1.9657 - mean_absolute_error: 1.9657 - val_loss: 1.4429 - val_mean_absolute_error: 1.4429\n",
      "Epoch 163/1000\n",
      "4502/4502 [==============================] - 0s 65us/step - loss: 2.0259 - mean_absolute_error: 2.0259 - val_loss: 1.5078 - val_mean_absolute_error: 1.5078\n",
      "Epoch 164/1000\n",
      "4502/4502 [==============================] - 0s 62us/step - loss: 1.9971 - mean_absolute_error: 1.9971 - val_loss: 1.4739 - val_mean_absolute_error: 1.4739\n",
      "Epoch 165/1000\n",
      "4502/4502 [==============================] - 0s 66us/step - loss: 1.9169 - mean_absolute_error: 1.9169 - val_loss: 1.4635 - val_mean_absolute_error: 1.4635\n",
      "Epoch 166/1000\n",
      "4502/4502 [==============================] - 0s 62us/step - loss: 1.9638 - mean_absolute_error: 1.9638 - val_loss: 1.4703 - val_mean_absolute_error: 1.4703\n",
      "Epoch 167/1000\n",
      "4502/4502 [==============================] - 0s 63us/step - loss: 1.9721 - mean_absolute_error: 1.9721 - val_loss: 1.4977 - val_mean_absolute_error: 1.4977\n",
      "Epoch 168/1000\n",
      "4502/4502 [==============================] - 0s 61us/step - loss: 1.9595 - mean_absolute_error: 1.9595 - val_loss: 1.5412 - val_mean_absolute_error: 1.5412\n",
      "Epoch 169/1000\n",
      "4502/4502 [==============================] - 0s 63us/step - loss: 2.0255 - mean_absolute_error: 2.0255 - val_loss: 1.5192 - val_mean_absolute_error: 1.5192\n",
      "Epoch 170/1000\n",
      "4502/4502 [==============================] - 0s 64us/step - loss: 1.9910 - mean_absolute_error: 1.9910 - val_loss: 1.4844 - val_mean_absolute_error: 1.4844\n",
      "Epoch 171/1000\n",
      "4502/4502 [==============================] - 0s 73us/step - loss: 2.0516 - mean_absolute_error: 2.0516 - val_loss: 1.5075 - val_mean_absolute_error: 1.5075\n",
      "Epoch 172/1000\n",
      "4502/4502 [==============================] - 0s 63us/step - loss: 1.9009 - mean_absolute_error: 1.9009 - val_loss: 1.4568 - val_mean_absolute_error: 1.4568\n",
      "Epoch 173/1000\n",
      "4502/4502 [==============================] - 0s 63us/step - loss: 2.0615 - mean_absolute_error: 2.0615 - val_loss: 1.4838 - val_mean_absolute_error: 1.4838\n",
      "Epoch 174/1000\n",
      "4502/4502 [==============================] - -0s -24us/step - loss: 1.9531 - mean_absolute_error: 1.9531 - val_loss: 1.4302 - val_mean_absolute_error: 1.4302\n",
      "Epoch 175/1000\n",
      "4502/4502 [==============================] - 0s 73us/step - loss: 2.0359 - mean_absolute_error: 2.0359 - val_loss: 1.4846 - val_mean_absolute_error: 1.4846\n",
      "Epoch 176/1000\n",
      "4502/4502 [==============================] - 0s 83us/step - loss: 1.9922 - mean_absolute_error: 1.9922 - val_loss: 1.4700 - val_mean_absolute_error: 1.4700\n",
      "Epoch 177/1000\n",
      "4502/4502 [==============================] - 0s 91us/step - loss: 1.9700 - mean_absolute_error: 1.9700 - val_loss: 1.4698 - val_mean_absolute_error: 1.4698\n",
      "Epoch 178/1000\n",
      "4502/4502 [==============================] - 0s 65us/step - loss: 1.9501 - mean_absolute_error: 1.9501 - val_loss: 1.4882 - val_mean_absolute_error: 1.4882\n",
      "Epoch 179/1000\n",
      "4502/4502 [==============================] - 0s 65us/step - loss: 1.9403 - mean_absolute_error: 1.9403 - val_loss: 1.4631 - val_mean_absolute_error: 1.4631\n",
      "Epoch 180/1000\n",
      "4502/4502 [==============================] - 0s 70us/step - loss: 2.0097 - mean_absolute_error: 2.0097 - val_loss: 1.4715 - val_mean_absolute_error: 1.4715\n",
      "Epoch 181/1000\n",
      "4502/4502 [==============================] - 0s 71us/step - loss: 1.9164 - mean_absolute_error: 1.9164 - val_loss: 1.5020 - val_mean_absolute_error: 1.5020\n",
      "Epoch 182/1000\n",
      "4502/4502 [==============================] - 0s 65us/step - loss: 1.8913 - mean_absolute_error: 1.8913 - val_loss: 1.4427 - val_mean_absolute_error: 1.4427\n",
      "Epoch 183/1000\n",
      "4502/4502 [==============================] - 0s 61us/step - loss: 1.9723 - mean_absolute_error: 1.9723 - val_loss: 1.4864 - val_mean_absolute_error: 1.4864\n",
      "Epoch 184/1000\n",
      "4502/4502 [==============================] - 0s 67us/step - loss: 2.0198 - mean_absolute_error: 2.0198 - val_loss: 1.4734 - val_mean_absolute_error: 1.4734\n",
      "Epoch 185/1000\n",
      "4502/4502 [==============================] - 0s 60us/step - loss: 2.0240 - mean_absolute_error: 2.0240 - val_loss: 1.4660 - val_mean_absolute_error: 1.4660\n",
      "Epoch 186/1000\n",
      "4502/4502 [==============================] - 0s 69us/step - loss: 1.9952 - mean_absolute_error: 1.9952 - val_loss: 1.4700 - val_mean_absolute_error: 1.4700\n",
      "Epoch 187/1000\n",
      "4502/4502 [==============================] - 0s 69us/step - loss: 1.9400 - mean_absolute_error: 1.9400 - val_loss: 1.4781 - val_mean_absolute_error: 1.4781\n",
      "Epoch 188/1000\n",
      "4502/4502 [==============================] - 0s 70us/step - loss: 1.9397 - mean_absolute_error: 1.9397 - val_loss: 1.4816 - val_mean_absolute_error: 1.4816\n",
      "Epoch 189/1000\n",
      "4502/4502 [==============================] - 0s 69us/step - loss: 2.0163 - mean_absolute_error: 2.0163 - val_loss: 1.4799 - val_mean_absolute_error: 1.4799\n",
      "Epoch 190/1000\n",
      "4502/4502 [==============================] - 0s 74us/step - loss: 1.9195 - mean_absolute_error: 1.9195 - val_loss: 1.4788 - val_mean_absolute_error: 1.4788\n",
      "Epoch 191/1000\n",
      "4502/4502 [==============================] - 0s 79us/step - loss: 2.0008 - mean_absolute_error: 2.0008 - val_loss: 1.4563 - val_mean_absolute_error: 1.4563\n",
      "Epoch 192/1000\n",
      "4502/4502 [==============================] - 0s 68us/step - loss: 1.9553 - mean_absolute_error: 1.9553 - val_loss: 1.4713 - val_mean_absolute_error: 1.4713\n"
     ]
    },
    {
     "name": "stdout",
     "output_type": "stream",
     "text": [
      "Epoch 193/1000\n",
      "4502/4502 [==============================] - 0s 91us/step - loss: 1.9885 - mean_absolute_error: 1.9885 - val_loss: 1.4710 - val_mean_absolute_error: 1.4710\n",
      "Epoch 194/1000\n",
      "4502/4502 [==============================] - 0s 64us/step - loss: 2.0037 - mean_absolute_error: 2.0037 - val_loss: 1.4991 - val_mean_absolute_error: 1.4991\n",
      "Epoch 195/1000\n",
      "4502/4502 [==============================] - 0s 75us/step - loss: 2.0142 - mean_absolute_error: 2.0142 - val_loss: 1.5226 - val_mean_absolute_error: 1.5226\n",
      "Epoch 196/1000\n",
      "4502/4502 [==============================] - 0s 82us/step - loss: 1.9105 - mean_absolute_error: 1.9105 - val_loss: 1.5123 - val_mean_absolute_error: 1.5123\n",
      "Epoch 197/1000\n",
      "4502/4502 [==============================] - 0s 95us/step - loss: 1.9671 - mean_absolute_error: 1.9671 - val_loss: 1.4707 - val_mean_absolute_error: 1.4707\n",
      "Epoch 198/1000\n",
      "4502/4502 [==============================] - 0s 61us/step - loss: 2.0879 - mean_absolute_error: 2.0879 - val_loss: 1.4685 - val_mean_absolute_error: 1.4685\n",
      "Epoch 199/1000\n",
      "4502/4502 [==============================] - 0s 64us/step - loss: 2.0254 - mean_absolute_error: 2.0254 - val_loss: 1.4815 - val_mean_absolute_error: 1.4815\n",
      "Epoch 200/1000\n",
      "4502/4502 [==============================] - 0s 61us/step - loss: 1.9284 - mean_absolute_error: 1.9284 - val_loss: 1.4877 - val_mean_absolute_error: 1.4877\n",
      "Epoch 201/1000\n",
      "4502/4502 [==============================] - 0s 61us/step - loss: 2.0076 - mean_absolute_error: 2.0076 - val_loss: 1.4594 - val_mean_absolute_error: 1.4594\n",
      "Epoch 202/1000\n",
      "4502/4502 [==============================] - 0s 61us/step - loss: 2.0301 - mean_absolute_error: 2.0301 - val_loss: 1.4433 - val_mean_absolute_error: 1.4433\n",
      "Epoch 203/1000\n",
      "4502/4502 [==============================] - 0s 60us/step - loss: 1.9512 - mean_absolute_error: 1.9512 - val_loss: 1.4902 - val_mean_absolute_error: 1.4902\n",
      "Epoch 204/1000\n",
      "4502/4502 [==============================] - 0s 68us/step - loss: 1.9165 - mean_absolute_error: 1.9165 - val_loss: 1.4999 - val_mean_absolute_error: 1.4999\n",
      "Epoch 205/1000\n",
      "4502/4502 [==============================] - 0s 64us/step - loss: 1.9702 - mean_absolute_error: 1.9702 - val_loss: 1.4788 - val_mean_absolute_error: 1.4788\n",
      "Epoch 206/1000\n",
      "4502/4502 [==============================] - 0s 61us/step - loss: 1.9568 - mean_absolute_error: 1.9568 - val_loss: 1.4799 - val_mean_absolute_error: 1.4799\n",
      "Epoch 207/1000\n",
      "4502/4502 [==============================] - 0s 60us/step - loss: 1.9763 - mean_absolute_error: 1.9763 - val_loss: 1.4810 - val_mean_absolute_error: 1.4810\n",
      "Epoch 208/1000\n",
      "4502/4502 [==============================] - 0s 62us/step - loss: 1.9869 - mean_absolute_error: 1.9869 - val_loss: 1.5128 - val_mean_absolute_error: 1.5128\n",
      "Epoch 209/1000\n",
      "4502/4502 [==============================] - 0s 63us/step - loss: 1.8999 - mean_absolute_error: 1.8999 - val_loss: 1.4720 - val_mean_absolute_error: 1.4720\n",
      "Epoch 210/1000\n",
      "4502/4502 [==============================] - 0s 63us/step - loss: 1.9296 - mean_absolute_error: 1.9296 - val_loss: 1.4788 - val_mean_absolute_error: 1.4788\n",
      "Epoch 211/1000\n",
      "4502/4502 [==============================] - 0s 60us/step - loss: 2.0015 - mean_absolute_error: 2.0015 - val_loss: 1.4610 - val_mean_absolute_error: 1.4610\n",
      "Epoch 212/1000\n",
      "4502/4502 [==============================] - 0s 61us/step - loss: 1.9416 - mean_absolute_error: 1.9416 - val_loss: 1.4549 - val_mean_absolute_error: 1.4549\n",
      "Epoch 213/1000\n",
      "4502/4502 [==============================] - 0s 63us/step - loss: 2.0111 - mean_absolute_error: 2.0111 - val_loss: 1.4737 - val_mean_absolute_error: 1.4737\n",
      "Epoch 214/1000\n",
      "4502/4502 [==============================] - 0s 62us/step - loss: 1.9932 - mean_absolute_error: 1.9932 - val_loss: 1.4799 - val_mean_absolute_error: 1.4799\n",
      "Epoch 215/1000\n",
      "4502/4502 [==============================] - 0s 61us/step - loss: 1.9722 - mean_absolute_error: 1.9722 - val_loss: 1.4750 - val_mean_absolute_error: 1.4750\n",
      "Epoch 216/1000\n",
      "4502/4502 [==============================] - 0s 65us/step - loss: 1.9020 - mean_absolute_error: 1.9020 - val_loss: 1.4865 - val_mean_absolute_error: 1.4865\n",
      "Epoch 217/1000\n",
      "4502/4502 [==============================] - 0s 61us/step - loss: 1.9354 - mean_absolute_error: 1.9354 - val_loss: 1.5156 - val_mean_absolute_error: 1.5156\n",
      "Epoch 218/1000\n",
      "4502/4502 [==============================] - 0s 61us/step - loss: 1.9777 - mean_absolute_error: 1.9777 - val_loss: 1.4766 - val_mean_absolute_error: 1.4766\n",
      "Epoch 219/1000\n",
      "4502/4502 [==============================] - 0s 64us/step - loss: 1.8634 - mean_absolute_error: 1.8634 - val_loss: 1.4939 - val_mean_absolute_error: 1.4939\n",
      "Epoch 220/1000\n",
      "4502/4502 [==============================] - 0s 61us/step - loss: 1.8042 - mean_absolute_error: 1.8042 - val_loss: 1.4719 - val_mean_absolute_error: 1.4719\n",
      "Epoch 221/1000\n",
      "4502/4502 [==============================] - 0s 61us/step - loss: 1.9057 - mean_absolute_error: 1.9057 - val_loss: 1.4944 - val_mean_absolute_error: 1.4944\n",
      "Epoch 222/1000\n",
      "4502/4502 [==============================] - 0s 61us/step - loss: 1.9390 - mean_absolute_error: 1.9390 - val_loss: 1.4920 - val_mean_absolute_error: 1.4920\n",
      "Epoch 223/1000\n",
      "4502/4502 [==============================] - 0s 62us/step - loss: 2.0090 - mean_absolute_error: 2.0090 - val_loss: 1.4653 - val_mean_absolute_error: 1.4653\n",
      "Epoch 224/1000\n",
      "4502/4502 [==============================] - 0s 61us/step - loss: 1.9905 - mean_absolute_error: 1.9905 - val_loss: 1.4770 - val_mean_absolute_error: 1.4770\n",
      "Epoch 225/1000\n",
      "4502/4502 [==============================] - 0s 61us/step - loss: 1.9440 - mean_absolute_error: 1.9440 - val_loss: 1.4893 - val_mean_absolute_error: 1.4893\n",
      "Epoch 226/1000\n",
      "4502/4502 [==============================] - 0s 60us/step - loss: 1.9748 - mean_absolute_error: 1.9748 - val_loss: 1.4870 - val_mean_absolute_error: 1.4870\n",
      "Epoch 227/1000\n",
      "4502/4502 [==============================] - 0s 61us/step - loss: 1.9963 - mean_absolute_error: 1.9963 - val_loss: 1.4961 - val_mean_absolute_error: 1.4961\n",
      "Epoch 228/1000\n",
      "4502/4502 [==============================] - 0s 61us/step - loss: 1.9495 - mean_absolute_error: 1.9495 - val_loss: 1.4775 - val_mean_absolute_error: 1.4775\n",
      "Epoch 229/1000\n",
      "4502/4502 [==============================] - 0s 61us/step - loss: 1.9782 - mean_absolute_error: 1.9782 - val_loss: 1.5191 - val_mean_absolute_error: 1.5191\n",
      "Epoch 230/1000\n",
      "4502/4502 [==============================] - 0s 63us/step - loss: 1.9416 - mean_absolute_error: 1.9416 - val_loss: 1.4962 - val_mean_absolute_error: 1.4962\n",
      "Epoch 231/1000\n",
      "4502/4502 [==============================] - 0s 63us/step - loss: 1.9431 - mean_absolute_error: 1.9431 - val_loss: 1.4802 - val_mean_absolute_error: 1.4802\n",
      "Epoch 232/1000\n",
      "4502/4502 [==============================] - 0s 67us/step - loss: 1.9918 - mean_absolute_error: 1.9918 - val_loss: 1.4971 - val_mean_absolute_error: 1.4971\n",
      "Epoch 233/1000\n",
      "4502/4502 [==============================] - 0s 67us/step - loss: 1.9922 - mean_absolute_error: 1.9922 - val_loss: 1.4782 - val_mean_absolute_error: 1.4782\n",
      "Epoch 234/1000\n",
      "4502/4502 [==============================] - 0s 63us/step - loss: 1.9712 - mean_absolute_error: 1.9712 - val_loss: 1.4727 - val_mean_absolute_error: 1.4727\n",
      "Epoch 235/1000\n",
      "4502/4502 [==============================] - 0s 65us/step - loss: 1.9793 - mean_absolute_error: 1.9793 - val_loss: 1.4580 - val_mean_absolute_error: 1.4580\n",
      "Epoch 236/1000\n",
      "4502/4502 [==============================] - 0s 84us/step - loss: 1.9205 - mean_absolute_error: 1.9205 - val_loss: 1.4937 - val_mean_absolute_error: 1.4937\n",
      "Epoch 237/1000\n",
      "4502/4502 [==============================] - 0s 65us/step - loss: 1.9686 - mean_absolute_error: 1.9686 - val_loss: 1.4740 - val_mean_absolute_error: 1.4740\n",
      "Epoch 238/1000\n",
      "4502/4502 [==============================] - 0s 107us/step - loss: 1.9588 - mean_absolute_error: 1.9588 - val_loss: 1.4684 - val_mean_absolute_error: 1.4684\n",
      "Epoch 239/1000\n",
      "4502/4502 [==============================] - 0s 92us/step - loss: 1.9533 - mean_absolute_error: 1.9533 - val_loss: 1.4706 - val_mean_absolute_error: 1.4706\n",
      "Epoch 240/1000\n",
      "4502/4502 [==============================] - 0s 62us/step - loss: 2.0093 - mean_absolute_error: 2.0093 - val_loss: 1.4595 - val_mean_absolute_error: 1.4595\n"
     ]
    },
    {
     "name": "stdout",
     "output_type": "stream",
     "text": [
      "Epoch 241/1000\n",
      "4502/4502 [==============================] - 0s 61us/step - loss: 1.9802 - mean_absolute_error: 1.9802 - val_loss: 1.4711 - val_mean_absolute_error: 1.4711\n",
      "Epoch 242/1000\n",
      "4502/4502 [==============================] - 0s 61us/step - loss: 1.9708 - mean_absolute_error: 1.9708 - val_loss: 1.4679 - val_mean_absolute_error: 1.4679\n",
      "Epoch 243/1000\n",
      "4502/4502 [==============================] - 0s 61us/step - loss: 1.9855 - mean_absolute_error: 1.9855 - val_loss: 1.4881 - val_mean_absolute_error: 1.4881\n",
      "Epoch 244/1000\n",
      "4502/4502 [==============================] - 0s 61us/step - loss: 2.0255 - mean_absolute_error: 2.0255 - val_loss: 1.4770 - val_mean_absolute_error: 1.4770\n",
      "Epoch 245/1000\n",
      "4502/4502 [==============================] - 0s 61us/step - loss: 2.0018 - mean_absolute_error: 2.0018 - val_loss: 1.4627 - val_mean_absolute_error: 1.4627\n",
      "Epoch 246/1000\n",
      "4502/4502 [==============================] - 0s 60us/step - loss: 1.9240 - mean_absolute_error: 1.9240 - val_loss: 1.4741 - val_mean_absolute_error: 1.4741\n",
      "Epoch 247/1000\n",
      "4502/4502 [==============================] - 0s 62us/step - loss: 1.9281 - mean_absolute_error: 1.9281 - val_loss: 1.5228 - val_mean_absolute_error: 1.5228\n",
      "Epoch 248/1000\n",
      "4502/4502 [==============================] - 0s 62us/step - loss: 2.0048 - mean_absolute_error: 2.0048 - val_loss: 1.4838 - val_mean_absolute_error: 1.4838\n",
      "Epoch 249/1000\n",
      "4502/4502 [==============================] - 0s 62us/step - loss: 1.9310 - mean_absolute_error: 1.9310 - val_loss: 1.4721 - val_mean_absolute_error: 1.4721\n",
      "Epoch 250/1000\n",
      "4502/4502 [==============================] - 0s 62us/step - loss: 1.9286 - mean_absolute_error: 1.9286 - val_loss: 1.4843 - val_mean_absolute_error: 1.4843\n",
      "Epoch 251/1000\n",
      "4502/4502 [==============================] - 0s 62us/step - loss: 1.9738 - mean_absolute_error: 1.9738 - val_loss: 1.5012 - val_mean_absolute_error: 1.5012\n",
      "Epoch 252/1000\n",
      "4502/4502 [==============================] - 0s 61us/step - loss: 1.9200 - mean_absolute_error: 1.9200 - val_loss: 1.4567 - val_mean_absolute_error: 1.4567\n",
      "Epoch 253/1000\n",
      "4502/4502 [==============================] - 0s 61us/step - loss: 1.9270 - mean_absolute_error: 1.9270 - val_loss: 1.4619 - val_mean_absolute_error: 1.4619\n",
      "Epoch 254/1000\n",
      "4502/4502 [==============================] - 0s 61us/step - loss: 2.0239 - mean_absolute_error: 2.0239 - val_loss: 1.4548 - val_mean_absolute_error: 1.4548\n",
      "Epoch 255/1000\n",
      "4502/4502 [==============================] - 0s 81us/step - loss: 2.0073 - mean_absolute_error: 2.0073 - val_loss: 1.4657 - val_mean_absolute_error: 1.4657\n",
      "Epoch 256/1000\n",
      "4502/4502 [==============================] - 0s 99us/step - loss: 1.9812 - mean_absolute_error: 1.9812 - val_loss: 1.4977 - val_mean_absolute_error: 1.4977\n",
      "Epoch 257/1000\n",
      "4502/4502 [==============================] - 0s 101us/step - loss: 1.9241 - mean_absolute_error: 1.9241 - val_loss: 1.4758 - val_mean_absolute_error: 1.4758\n",
      "Epoch 258/1000\n",
      "4502/4502 [==============================] - 0s 101us/step - loss: 2.0021 - mean_absolute_error: 2.0021 - val_loss: 1.4661 - val_mean_absolute_error: 1.4661\n",
      "Epoch 259/1000\n",
      "4502/4502 [==============================] - 0s 110us/step - loss: 1.9712 - mean_absolute_error: 1.9712 - val_loss: 1.4645 - val_mean_absolute_error: 1.4645\n",
      "Epoch 260/1000\n",
      "4502/4502 [==============================] - 0s 99us/step - loss: 1.9894 - mean_absolute_error: 1.9894 - val_loss: 1.4611 - val_mean_absolute_error: 1.4611\n",
      "Epoch 261/1000\n",
      "4502/4502 [==============================] - 0s 89us/step - loss: 1.9513 - mean_absolute_error: 1.9513 - val_loss: 1.4653 - val_mean_absolute_error: 1.4653\n",
      "Epoch 262/1000\n",
      "4502/4502 [==============================] - 0s 76us/step - loss: 1.8681 - mean_absolute_error: 1.8681 - val_loss: 1.4782 - val_mean_absolute_error: 1.4782\n",
      "Epoch 263/1000\n",
      "4502/4502 [==============================] - 0s 70us/step - loss: 2.0697 - mean_absolute_error: 2.0697 - val_loss: 1.4495 - val_mean_absolute_error: 1.4495\n",
      "Epoch 264/1000\n",
      "4502/4502 [==============================] - 0s 76us/step - loss: 1.9675 - mean_absolute_error: 1.9675 - val_loss: 1.4484 - val_mean_absolute_error: 1.4484\n",
      "Epoch 265/1000\n",
      "4502/4502 [==============================] - 0s 73us/step - loss: 2.0140 - mean_absolute_error: 2.0140 - val_loss: 1.4685 - val_mean_absolute_error: 1.4685\n",
      "Epoch 266/1000\n",
      "4502/4502 [==============================] - 0s 87us/step - loss: 1.9945 - mean_absolute_error: 1.9945 - val_loss: 1.4700 - val_mean_absolute_error: 1.4700\n",
      "Epoch 267/1000\n",
      "4502/4502 [==============================] - 0s 86us/step - loss: 1.9329 - mean_absolute_error: 1.9329 - val_loss: 1.4526 - val_mean_absolute_error: 1.4526\n",
      "Epoch 268/1000\n",
      "4502/4502 [==============================] - 0s 89us/step - loss: 1.9700 - mean_absolute_error: 1.9700 - val_loss: 1.4644 - val_mean_absolute_error: 1.4644\n",
      "Epoch 269/1000\n",
      "4502/4502 [==============================] - 0s 71us/step - loss: 2.0142 - mean_absolute_error: 2.0142 - val_loss: 1.4723 - val_mean_absolute_error: 1.4723\n",
      "Epoch 270/1000\n",
      "4502/4502 [==============================] - 0s 72us/step - loss: 1.9589 - mean_absolute_error: 1.9589 - val_loss: 1.4334 - val_mean_absolute_error: 1.4334\n",
      "Epoch 271/1000\n",
      "4502/4502 [==============================] - 0s 70us/step - loss: 1.8922 - mean_absolute_error: 1.8922 - val_loss: 1.4981 - val_mean_absolute_error: 1.4981\n",
      "Epoch 272/1000\n",
      "4502/4502 [==============================] - 0s 72us/step - loss: 1.9012 - mean_absolute_error: 1.9012 - val_loss: 1.4594 - val_mean_absolute_error: 1.4594\n",
      "Epoch 273/1000\n",
      "4502/4502 [==============================] - 0s 80us/step - loss: 1.9169 - mean_absolute_error: 1.9169 - val_loss: 1.4430 - val_mean_absolute_error: 1.4430\n",
      "Epoch 274/1000\n",
      "4502/4502 [==============================] - 0s 86us/step - loss: 1.9556 - mean_absolute_error: 1.9556 - val_loss: 1.4475 - val_mean_absolute_error: 1.4475\n"
     ]
    }
   ],
   "source": [
    "history=model.fit(X_train, y_train, validation_data=[X_val,y_val],epochs=1000,batch_size=32,callbacks=[callback])"
   ]
  },
  {
   "cell_type": "code",
   "execution_count": 38,
   "metadata": {},
   "outputs": [
    {
     "name": "stdout",
     "output_type": "stream",
     "text": [
      "563/563 [==============================] - 0s 33us/step\n"
     ]
    }
   ],
   "source": [
    "score = model.evaluate(X_test, y_test)"
   ]
  },
  {
   "cell_type": "code",
   "execution_count": 39,
   "metadata": {},
   "outputs": [
    {
     "data": {
      "text/plain": [
       "[1.4365662658193394, 1.4365662658193394]"
      ]
     },
     "execution_count": 39,
     "metadata": {},
     "output_type": "execute_result"
    }
   ],
   "source": [
    "score"
   ]
  },
  {
   "cell_type": "code",
   "execution_count": 40,
   "metadata": {},
   "outputs": [
    {
     "name": "stdout",
     "output_type": "stream",
     "text": [
      "_________________________________________________________________\n",
      "Layer (type)                 Output Shape              Param #   \n",
      "=================================================================\n",
      "dense_5 (Dense)              (None, 10)                810       \n",
      "_________________________________________________________________\n",
      "batch_normalization_3 (Batch (None, 10)                40        \n",
      "_________________________________________________________________\n",
      "activation_3 (Activation)    (None, 10)                0         \n",
      "_________________________________________________________________\n",
      "dense_6 (Dense)              (None, 1)                 11        \n",
      "=================================================================\n",
      "Total params: 861\n",
      "Trainable params: 841\n",
      "Non-trainable params: 20\n",
      "_________________________________________________________________\n"
     ]
    }
   ],
   "source": [
    "model.summary()"
   ]
  },
  {
   "cell_type": "code",
   "execution_count": null,
   "metadata": {},
   "outputs": [],
   "source": [
    "#early_stop in the call back of earlystop\n",
    "#build the model,train and test it.\n",
    "#test dataset of PCA result\n",
    "\"\"\"\n",
    "keras.callbacks.EarlyStopping(monitor='val_loss',\n",
    "                              min_delta=0,\n",
    "                              patience=2,\n",
    "                              verbose=0, mode='auto')\n",
    "\"\"\"\n",
    "from keras.models import Sequential\n",
    "from keras.layers import Dense, Activation\n",
    "from keras.callbacks import EarlyStopping\n",
    "from keras.optimizers import Adam\n",
    "from keras.layers.normalization import BatchNormalization\n",
    "import tensorflow as tf\n",
    "\n",
    "\n",
    "callback=EarlyStopping( monitor='val_loss',\n",
    "                        min_delta=0,\n",
    "                        patience=50,\n",
    "                        verbose=0, mode='auto')\n",
    "\n",
    "model = Sequential()\n",
    "model.add(Dense(10, input_dim=80))\n",
    "model.add(BatchNormalization())\n",
    "model.add(Activation('tanh'))\n",
    "model.add(Dense(1))\n",
    "          \n",
    "model.compile(optimizer=Adam(lr=0.01,decay=1e-4),\n",
    "              loss='mae',\n",
    "              metrics=['mae'])"
   ]
  },
  {
   "cell_type": "code",
   "execution_count": null,
   "metadata": {},
   "outputs": [],
   "source": [
    "X=vector_input_LPE\n",
    "y=data[\"formation_energy\"]\n",
    "\n",
    "from sklearn.model_selection import train_test_split\n",
    "seed=7\n",
    "\n",
    "X_train, X_test, y_train, y_test = train_test_split(X, y, test_size=0.2, random_state=seed)\n",
    "X_val, X_test, y_val, y_test = train_test_split(X_test, y_test, test_size=0.5, random_state=seed)"
   ]
  },
  {
   "cell_type": "code",
   "execution_count": null,
   "metadata": {},
   "outputs": [],
   "source": [
    "history=model.fit(X_train, y_train, validation_data=[X_val,y_val],epochs=1000,batch_size=32)"
   ]
  },
  {
   "cell_type": "code",
   "execution_count": null,
   "metadata": {},
   "outputs": [],
   "source": [
    "model.evaluate(X_test, y_test)"
   ]
  },
  {
   "cell_type": "code",
   "execution_count": null,
   "metadata": {},
   "outputs": [],
   "source": [
    "##comparison how effecient of our model\n",
    "#do a distribution hestogram of our elements vector\n",
    "#random a elements vector in that distribution\n",
    "#do the same training for all the data"
   ]
  },
  {
   "cell_type": "code",
   "execution_count": null,
   "metadata": {},
   "outputs": [],
   "source": [
    "X.shape"
   ]
  },
  {
   "cell_type": "code",
   "execution_count": null,
   "metadata": {},
   "outputs": [],
   "source": [
    "y.shape"
   ]
  },
  {
   "cell_type": "code",
   "execution_count": null,
   "metadata": {},
   "outputs": [],
   "source": [
    "type(y)"
   ]
  },
  {
   "cell_type": "code",
   "execution_count": null,
   "metadata": {},
   "outputs": [],
   "source": [
    "a=np.histogram(y,bins=20)"
   ]
  },
  {
   "cell_type": "code",
   "execution_count": null,
   "metadata": {},
   "outputs": [],
   "source": [
    "import matplotlib.pyplot as plt\n",
    "plt.hist(y, bins='auto')\n",
    "plt.title(\"Histogram with 'auto' bins\")\n",
    "plt.show()"
   ]
  },
  {
   "cell_type": "code",
   "execution_count": null,
   "metadata": {},
   "outputs": [],
   "source": [
    "np.mean(np.dot(y,y))"
   ]
  },
  {
   "cell_type": "code",
   "execution_count": null,
   "metadata": {},
   "outputs": [],
   "source": [
    "y2=np.square(y)"
   ]
  },
  {
   "cell_type": "code",
   "execution_count": null,
   "metadata": {},
   "outputs": [],
   "source": [
    "np.mean(y2)"
   ]
  },
  {
   "cell_type": "code",
   "execution_count": null,
   "metadata": {},
   "outputs": [],
   "source": [
    "import matplotlib.pyplot as plt\n",
    "plt.hist(X, bins='auto')\n",
    "plt.title(\"Histogram with 'auto' bins\")\n",
    "plt.show()"
   ]
  },
  {
   "cell_type": "code",
   "execution_count": null,
   "metadata": {},
   "outputs": [],
   "source": [
    "np.max(X)"
   ]
  },
  {
   "cell_type": "code",
   "execution_count": null,
   "metadata": {},
   "outputs": [],
   "source": []
  }
 ],
 "metadata": {
  "kernelspec": {
   "display_name": "Python 3",
   "language": "python",
   "name": "python3"
  },
  "language_info": {
   "codemirror_mode": {
    "name": "ipython",
    "version": 3
   },
   "file_extension": ".py",
   "mimetype": "text/x-python",
   "name": "python",
   "nbconvert_exporter": "python",
   "pygments_lexer": "ipython3",
   "version": "3.6.5"
  }
 },
 "nbformat": 4,
 "nbformat_minor": 2
}
