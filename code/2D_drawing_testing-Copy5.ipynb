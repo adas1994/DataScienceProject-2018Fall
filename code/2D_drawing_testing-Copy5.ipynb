{
 "cells": [
  {
   "cell_type": "code",
   "execution_count": 1,
   "metadata": {},
   "outputs": [],
   "source": [
    "import numpy as np\n",
    "from pymatgen import Composition, Element\n",
    "import matplotlib.pyplot as plt\n",
    "from matplotlib.pyplot import figure"
   ]
  },
  {
   "cell_type": "code",
   "execution_count": 2,
   "metadata": {},
   "outputs": [],
   "source": [
    "#load main group element\n",
    "\n",
    "element_list_main_path=\"../data_set/element_list/elements_list_main.txt\"\n",
    "with open(element_list_main_path, \"r\") as text_file:\n",
    "    a=text_file.read()\n",
    "elements_list_main=a.split()"
   ]
  },
  {
   "cell_type": "code",
   "execution_count": 3,
   "metadata": {},
   "outputs": [],
   "source": [
    "#load main group element number\n",
    "raw_number_list_path=\"../data_set/element_list/elements_list_main_number.txt\"\n",
    "raw_number=np.loadtxt(raw_number_list_path,dtype=\"int\")"
   ]
  },
  {
   "cell_type": "code",
   "execution_count": 4,
   "metadata": {},
   "outputs": [],
   "source": [
    "#load element vector data\n",
    "vector_data_path=\"../data_set/element_vector_generation/laplace_eigenmap/laplace_eigenmap_adas.txt\"\n",
    "F=np.loadtxt(vector_data_path)\n",
    "F=F[raw_number,:]"
   ]
  },
  {
   "cell_type": "code",
   "execution_count": 5,
   "metadata": {},
   "outputs": [
    {
     "data": {
      "text/plain": [
       "array([ 0.05473522, -0.02188678,  0.13046959,  0.10069591, -0.03568042,\n",
       "        0.01109497, -0.00287217,  0.00565794,  0.01414992, -0.01762635,\n",
       "        0.00622221,  0.01930403, -0.02530814,  0.01624647,  0.02500301,\n",
       "        0.18783326, -0.00247819, -0.02032727, -0.02790453, -0.0093633 ])"
      ]
     },
     "execution_count": 5,
     "metadata": {},
     "output_type": "execute_result"
    }
   ],
   "source": [
    "F[0]"
   ]
  },
  {
   "cell_type": "code",
   "execution_count": 6,
   "metadata": {},
   "outputs": [],
   "source": [
    "#normalize F\n",
    "#from sklearn.preprocessing import normalize\n",
    "#F_norm=normalize(F, norm='l2', axis=1)"
   ]
  },
  {
   "cell_type": "code",
   "execution_count": 7,
   "metadata": {},
   "outputs": [],
   "source": [
    "#F=F_norm"
   ]
  },
  {
   "cell_type": "code",
   "execution_count": 8,
   "metadata": {},
   "outputs": [
    {
     "data": {
      "image/png": "[encoded data removed]",
      "text/plain": [
       "<Figure size 432x288 with 2 Axes>"
      ]
     },
     "metadata": {},
     "output_type": "display_data"
    }
   ],
   "source": [
    "vegetables = elements_list_main\n",
    "farmers = list(range(1,21))\n",
    "\n",
    "harvest = F\n",
    "\n",
    "\n",
    "fig, ax = plt.subplots()\n",
    "im = ax.imshow(harvest,aspect=20/34,cmap=\"PuOr\")\n",
    "#figure(num=None, figsize=(10, 20), dpi=1000, facecolor='w', edgecolor='k')\n",
    "# We want to show all ticks...\n",
    "ax.set_xticks(np.arange(len(farmers)))\n",
    "ax.set_yticks(np.arange(len(vegetables)))\n",
    "# ... and label them with the respective list entries\n",
    "ax.set_xticklabels(farmers)\n",
    "ax.set_yticklabels(vegetables,fontsize=7)\n",
    "fig.colorbar(im)\n",
    "# Rotate the tick labels and set their alignment.\n",
    "#plt.setp(ax.get_xticklabels(), rotation=45, ha=\"right\",\n",
    "         #rotation_mode=\"anchor\")\n",
    "\n",
    "# Loop over data dimensions and create text annotations.\n",
    "#for i in range(len(vegetables)):\n",
    "    #for j in range(len(farmers)):\n",
    "        #text = ax.text(j, i, harvest[i, j],\n",
    "                       #ha=\"center\", va=\"center\", color=\"w\")\n",
    "\n",
    "ax.set_title(\"Elements vector\")\n",
    "#fig.tight_layout()\n",
    "plt.show()\n",
    "fig.savefig(\"test.pdf\",format=\"pdf\",dpi=1000)"
   ]
  },
  {
   "cell_type": "code",
   "execution_count": 9,
   "metadata": {},
   "outputs": [],
   "source": [
    "ax_combo_colormap=ax\n",
    "figure_combo_colormap=fig"
   ]
  },
  {
   "cell_type": "code",
   "execution_count": 10,
   "metadata": {},
   "outputs": [
    {
     "data": {
      "image/png": "[encoded data removed]",
      "text/plain": [
       "<Figure size 432x288 with 1 Axes>"
      ]
     },
     "metadata": {},
     "output_type": "display_data"
    }
   ],
   "source": [
    "from sklearn.decomposition import PCA\n",
    "import numpy as np\n",
    "import numpy as np\n",
    "import matplotlib\n",
    "import matplotlib.pyplot as plt\n",
    "from matplotlib.pyplot import figure\n",
    "#sklearn.decomposition.PCA(n_components=None, copy=True, whiten=False)\n",
    "pca=PCA(n_components=None, copy=True, whiten=False)\n",
    "\n",
    "pcaTransformed_lat = pca.fit_transform(F)\n",
    "first2pca = pcaTransformed_lat[:,:2]\n",
    "data_main = first2pca[:,:]\n",
    "data_main.shape\n",
    "#data_main_flip=np.flip(data_main,axis=1)\n",
    "\n",
    "#'b', 'g', 'r', 'c', 'm', 'y', 'k', 'w'\n",
    "'''\n",
    "elements_list_main[0:6]\n",
    "elements_list_main[6:11]\n",
    "elements_list_main[11:16]\n",
    "elements_list_main[16:21]\n",
    "elements_list_main[21:26]\n",
    "elements_list_main[26:30]\n",
    "elements_list_main[30:]\n",
    "'''\n",
    "fig,ax= plt.subplots()\n",
    "ax.scatter(data_main[:6,0],data_main[:6,1],color='b')\n",
    "ax.scatter(data_main[6:11,0],data_main[6:11,1],color='g')\n",
    "ax.scatter(data_main[11:16,0],data_main[11:16,1],color='r')\n",
    "ax.scatter(data_main[16:21,0],data_main[16:21,1],color='c')\n",
    "ax.scatter(data_main[21:26,0],data_main[21:26,1],color='m')\n",
    "ax.scatter(data_main[26:30,0],data_main[26:30,1],color='y')\n",
    "ax.scatter(data_main[30:,0],data_main[30:,1],color='k')\n",
    "#plt.xlim(-0.4,0.75)\n",
    "#plt.ylim(-0.5,0.75)\n",
    "for i in range(len(elements_list_main)):\n",
    "    txt = elements_list_main[i]\n",
    "    ax.annotate(txt, (data_main[i,0], data_main[i,1]))\n",
    "plt.xlabel(\"PCA1(12.06%)\")\n",
    "plt.ylabel(\"PCA2(11.69%)\")\n",
    "fig.savefig(\"scatter_encoder+svd.pdf\",format=\"pdf\",dpi=1000)"
   ]
  },
  {
   "cell_type": "code",
   "execution_count": 11,
   "metadata": {},
   "outputs": [
    {
     "data": {
      "text/plain": [
       "array([1.52451926e-01, 1.27956778e-01, 1.21112321e-01, 1.15373372e-01,\n",
       "       1.06914778e-01, 9.97542063e-02, 7.66214290e-02, 6.86909859e-02,\n",
       "       5.34884977e-02, 4.86983262e-02, 2.43774092e-02, 2.78394477e-03,\n",
       "       9.25620124e-04, 4.83121612e-04, 2.65951595e-04, 7.14654506e-05,\n",
       "       2.68107775e-05, 3.03149767e-06, 1.41683731e-08, 1.02168525e-08])"
      ]
     },
     "execution_count": 11,
     "metadata": {},
     "output_type": "execute_result"
    }
   ],
   "source": [
    "pca.explained_variance_ratio_"
   ]
  },
  {
   "cell_type": "code",
   "execution_count": null,
   "metadata": {},
   "outputs": [],
   "source": []
  }
 ],
 "metadata": {
  "kernelspec": {
   "display_name": "Python 3",
   "language": "python",
   "name": "python3"
  },
  "language_info": {
   "codemirror_mode": {
    "name": "ipython",
    "version": 3
   },
   "file_extension": ".py",
   "mimetype": "text/x-python",
   "name": "python",
   "nbconvert_exporter": "python",
   "pygments_lexer": "ipython3",
   "version": "3.6.5"
  }
 },
 "nbformat": 4,
 "nbformat_minor": 2
}
