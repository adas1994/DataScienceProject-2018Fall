{
 "cells": [
  {
   "cell_type": "code",
   "execution_count": 4,
   "metadata": {},
   "outputs": [
    {
     "name": "stdout",
     "output_type": "stream",
     "text": [
      "[1.51694661 1.61811934 1.48761055 1.50964319 1.44507055 1.68483357\n",
      " 1.48065358 1.44550979 1.3923068  1.48975279]\n",
      "[2.04921067 2.32906943 2.01465825 2.18223899 2.11073899 2.26989082\n",
      " 2.10579822 2.23794877 2.05604838 2.1034578 ]\n",
      "[1.73860069 1.81187004 1.63675673 1.70403827 1.96979292 1.80445294\n",
      " 1.66791321 1.74787008 1.71295209 1.64159191]\n",
      "[1.78248588 1.86593879 1.77858926 1.65287891 1.79031141 1.82314705\n",
      " 1.69543259 1.75409633 1.87020655 1.69486292]\n",
      "[2.00698338 1.97392598 1.78373698 2.04995167 1.73833811 1.99916645\n",
      " 1.87409012 1.90585991 1.84365608 1.89553741]\n"
     ]
    }
   ],
   "source": [
    "import numpy as np\n",
    "\n",
    "file_list=[\"SVD\",\"LEP\",\"ISOMAP\",\"MDS\",\"LLE\"]\n",
    "folder_path=\"../data_set/element_vector_generation/\"\n",
    "output_path=\"../data_set/test_output/\"\n",
    "\n",
    "error_list=[]\n",
    "for file in file_list:\n",
    "    evaluation_path=output_path+\"evaluation_error\"+file+\"10_25\"+\".txt\"\n",
    "    error_array=np.loadtxt(evaluation_path)\n",
    "    error_list.append(error_array)\n",
    "    print(np.loadtxt(evaluation_path))"
   ]
  },
  {
   "cell_type": "code",
   "execution_count": 5,
   "metadata": {},
   "outputs": [
    {
     "data": {
      "text/plain": [
       "[array([1.51694661, 1.61811934, 1.48761055, 1.50964319, 1.44507055,\n",
       "        1.68483357, 1.48065358, 1.44550979, 1.3923068 , 1.48975279]),\n",
       " array([2.04921067, 2.32906943, 2.01465825, 2.18223899, 2.11073899,\n",
       "        2.26989082, 2.10579822, 2.23794877, 2.05604838, 2.1034578 ]),\n",
       " array([1.73860069, 1.81187004, 1.63675673, 1.70403827, 1.96979292,\n",
       "        1.80445294, 1.66791321, 1.74787008, 1.71295209, 1.64159191]),\n",
       " array([1.78248588, 1.86593879, 1.77858926, 1.65287891, 1.79031141,\n",
       "        1.82314705, 1.69543259, 1.75409633, 1.87020655, 1.69486292]),\n",
       " array([2.00698338, 1.97392598, 1.78373698, 2.04995167, 1.73833811,\n",
       "        1.99916645, 1.87409012, 1.90585991, 1.84365608, 1.89553741])]"
      ]
     },
     "execution_count": 5,
     "metadata": {},
     "output_type": "execute_result"
    }
   ],
   "source": [
    "error_list"
   ]
  },
  {
   "cell_type": "code",
   "execution_count": 6,
   "metadata": {},
   "outputs": [],
   "source": [
    "e=np.array(error_list)"
   ]
  },
  {
   "cell_type": "code",
   "execution_count": 7,
   "metadata": {},
   "outputs": [
    {
     "data": {
      "text/plain": [
       "array([[1.51694661, 1.61811934, 1.48761055, 1.50964319, 1.44507055,\n",
       "        1.68483357, 1.48065358, 1.44550979, 1.3923068 , 1.48975279],\n",
       "       [2.04921067, 2.32906943, 2.01465825, 2.18223899, 2.11073899,\n",
       "        2.26989082, 2.10579822, 2.23794877, 2.05604838, 2.1034578 ],\n",
       "       [1.73860069, 1.81187004, 1.63675673, 1.70403827, 1.96979292,\n",
       "        1.80445294, 1.66791321, 1.74787008, 1.71295209, 1.64159191],\n",
       "       [1.78248588, 1.86593879, 1.77858926, 1.65287891, 1.79031141,\n",
       "        1.82314705, 1.69543259, 1.75409633, 1.87020655, 1.69486292],\n",
       "       [2.00698338, 1.97392598, 1.78373698, 2.04995167, 1.73833811,\n",
       "        1.99916645, 1.87409012, 1.90585991, 1.84365608, 1.89553741]])"
      ]
     },
     "execution_count": 7,
     "metadata": {},
     "output_type": "execute_result"
    }
   ],
   "source": [
    "e"
   ]
  },
  {
   "cell_type": "code",
   "execution_count": 10,
   "metadata": {},
   "outputs": [
    {
     "data": {
      "text/plain": [
       "array([1.50704468, 2.14590603, 1.74358389, 1.77079497, 1.90712461])"
      ]
     },
     "execution_count": 10,
     "metadata": {},
     "output_type": "execute_result"
    }
   ],
   "source": [
    "np.mean(e,axis=1)"
   ]
  },
  {
   "cell_type": "code",
   "execution_count": 11,
   "metadata": {},
   "outputs": [],
   "source": [
    "#show the distribution of differet element vectors:\n",
    "folder_path=\"../data_set/element_vector_generation/\"\n",
    "file_list=[\"SVD\",\"LEP\",\"ISOMAP\",\"MDS\",\"LLE\",\"RANDOM\"]\n",
    "test_file=\"RANDOM\"\n",
    "test_path=folder_path+test_file+\".txt\"\n",
    "a=np.loadtxt(test_path)"
   ]
  },
  {
   "cell_type": "code",
   "execution_count": 12,
   "metadata": {},
   "outputs": [
    {
     "data": {
      "text/plain": [
       "(80, 20)"
      ]
     },
     "execution_count": 12,
     "metadata": {},
     "output_type": "execute_result"
    }
   ],
   "source": [
    "a.shape"
   ]
  },
  {
   "cell_type": "code",
   "execution_count": 13,
   "metadata": {},
   "outputs": [
    {
     "data": {
      "text/plain": [
       "(array([161, 169, 175, 171, 169, 146, 151, 150, 149, 159]),\n",
       " array([-0.5, -0.4, -0.3, -0.2, -0.1,  0. ,  0.1,  0.2,  0.3,  0.4,  0.5]))"
      ]
     },
     "execution_count": 13,
     "metadata": {},
     "output_type": "execute_result"
    }
   ],
   "source": [
    "np.histogram(a)"
   ]
  },
  {
   "cell_type": "code",
   "execution_count": 28,
   "metadata": {},
   "outputs": [
    {
     "data": {
      "image/png": "[encoded data removed]",
      "text/plain": [
       "<Figure size 432x288 with 1 Axes>"
      ]
     },
     "metadata": {},
     "output_type": "display_data"
    }
   ],
   "source": [
    "import matplotlib.pyplot as plt\n",
    "plt.hist(a.reshape(1600), bins='auto')  # arguments are passed to np.histogram\n",
    "plt.title(\"Histogram with 'auto' bins\")\n",
    "plt.show()"
   ]
  },
  {
   "cell_type": "code",
   "execution_count": 25,
   "metadata": {},
   "outputs": [],
   "source": [
    "test_random_array=np.random.uniform(-0.5,0.5,(80,20))"
   ]
  },
  {
   "cell_type": "code",
   "execution_count": 26,
   "metadata": {},
   "outputs": [],
   "source": [
    "random_array=test_random_array.reshape(1600)"
   ]
  },
  {
   "cell_type": "code",
   "execution_count": 27,
   "metadata": {},
   "outputs": [
    {
     "data": {
      "image/png": "[encoded data removed]",
      "text/plain": [
       "<Figure size 432x288 with 1 Axes>"
      ]
     },
     "metadata": {},
     "output_type": "display_data"
    }
   ],
   "source": [
    "plt.hist(random_array, bins='auto')  # arguments are passed to np.histogram\n",
    "plt.title(\"Histogram with 'auto' bins\")\n",
    "plt.show()"
   ]
  },
  {
   "cell_type": "code",
   "execution_count": 31,
   "metadata": {},
   "outputs": [
    {
     "data": {
      "text/plain": [
       "[<matplotlib.lines.Line2D at 0x10e3b9080>]"
      ]
     },
     "execution_count": 31,
     "metadata": {},
     "output_type": "execute_result"
    },
    {
     "data": {
      "image/png": "[encoded data removed]",
      "text/plain": [
       "<Figure size 432x288 with 1 Axes>"
      ]
     },
     "metadata": {},
     "output_type": "display_data"
    }
   ],
   "source": [
    "plt.plot(sorted(a.reshape(1600)))"
   ]
  },
  {
   "cell_type": "code",
   "execution_count": null,
   "metadata": {},
   "outputs": [],
   "source": []
  }
 ],
 "metadata": {
  "kernelspec": {
   "display_name": "Python 3",
   "language": "python",
   "name": "python3"
  },
  "language_info": {
   "codemirror_mode": {
    "name": "ipython",
    "version": 3
   },
   "file_extension": ".py",
   "mimetype": "text/x-python",
   "name": "python",
   "nbconvert_exporter": "python",
   "pygments_lexer": "ipython3",
   "version": "3.6.5"
  }
 },
 "nbformat": 4,
 "nbformat_minor": 2
}
