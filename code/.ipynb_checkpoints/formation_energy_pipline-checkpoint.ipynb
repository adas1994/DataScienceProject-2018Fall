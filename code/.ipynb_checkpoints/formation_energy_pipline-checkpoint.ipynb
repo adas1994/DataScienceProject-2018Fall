{
 "cells": [
  {
   "cell_type": "code",
   "execution_count": null,
   "metadata": {},
   "outputs": [],
   "source": [
    "##implement train/validation/test dataset for elaposolite formation energy\n",
    "\n",
    "#load necessary package\n",
    "#load elaposolite formation energy file\n"
   ]
  },
  {
   "cell_type": "code",
   "execution_count": 2,
   "metadata": {},
   "outputs": [
    {
     "name": "stderr",
     "output_type": "stream",
     "text": [
      "/anaconda3/lib/python3.6/site-packages/h5py/__init__.py:36: FutureWarning: Conversion of the second argument of issubdtype from `float` to `np.floating` is deprecated. In future, it will be treated as `np.float64 == np.dtype(float).type`.\n",
      "  from ._conv import register_converters as _register_converters\n"
     ]
    }
   ],
   "source": [
    "#load necessary package\n",
    "import tensorflow as tf\n",
    "import numpy as np\n",
    "import pandas as pd\n",
    "from pymatgen import Element,Composition"
   ]
  },
  {
   "cell_type": "code",
   "execution_count": 41,
   "metadata": {},
   "outputs": [],
   "source": [
    "#load elaposolite formation energy file\n",
    "elap_formation_energy_path=\"../data_set/evaluation_dataset/FE_elapsolite.txt\"\n",
    "data = pd.read_csv(elap_formation_energy_path,index_col=0)"
   ]
  },
  {
   "cell_type": "code",
   "execution_count": 44,
   "metadata": {},
   "outputs": [
    {
     "data": {
      "text/html": [
       "<div>\n",
       "<style scoped>\n",
       "    .dataframe tbody tr th:only-of-type {\n",
       "        vertical-align: middle;\n",
       "    }\n",
       "\n",
       "    .dataframe tbody tr th {\n",
       "        vertical-align: top;\n",
       "    }\n",
       "\n",
       "    .dataframe thead th {\n",
       "        text-align: right;\n",
       "    }\n",
       "</style>\n",
       "<table border=\"1\" class=\"dataframe\">\n",
       "  <thead>\n",
       "    <tr style=\"text-align: right;\">\n",
       "      <th></th>\n",
       "      <th>compound</th>\n",
       "      <th>formation_energy</th>\n",
       "    </tr>\n",
       "  </thead>\n",
       "  <tbody>\n",
       "    <tr>\n",
       "      <th>0</th>\n",
       "      <td>Ca1O1F2Cs6</td>\n",
       "      <td>-7.110018</td>\n",
       "    </tr>\n",
       "    <tr>\n",
       "      <th>1</th>\n",
       "      <td>Mg1S1Al2In6</td>\n",
       "      <td>4.713586</td>\n",
       "    </tr>\n",
       "    <tr>\n",
       "      <th>2</th>\n",
       "      <td>Cs1Te1S2Si6</td>\n",
       "      <td>18.374580</td>\n",
       "    </tr>\n",
       "    <tr>\n",
       "      <th>3</th>\n",
       "      <td>Be1Si1Tl2H6</td>\n",
       "      <td>4.612162</td>\n",
       "    </tr>\n",
       "    <tr>\n",
       "      <th>4</th>\n",
       "      <td>Mg1O1F2Ca6</td>\n",
       "      <td>-7.145500</td>\n",
       "    </tr>\n",
       "  </tbody>\n",
       "</table>\n",
       "</div>"
      ],
      "text/plain": [
       "      compound  formation_energy\n",
       "0   Ca1O1F2Cs6         -7.110018\n",
       "1  Mg1S1Al2In6          4.713586\n",
       "2  Cs1Te1S2Si6         18.374580\n",
       "3  Be1Si1Tl2H6          4.612162\n",
       "4   Mg1O1F2Ca6         -7.145500"
      ]
     },
     "execution_count": 44,
     "metadata": {},
     "output_type": "execute_result"
    }
   ],
   "source": [
    "data.head()"
   ]
  },
  {
   "cell_type": "code",
   "execution_count": 98,
   "metadata": {},
   "outputs": [
    {
     "data": {
      "text/plain": [
       "'Ca1O1F2Cs6'"
      ]
     },
     "execution_count": 98,
     "metadata": {},
     "output_type": "execute_result"
    }
   ],
   "source": [
    "data[\"compound\"][0]"
   ]
  },
  {
   "cell_type": "code",
   "execution_count": 76,
   "metadata": {},
   "outputs": [],
   "source": [
    "##do max-min normalization for vector matrix?? if do ,then would be 0-1？feel bad\n",
    "#can do like x_=(x-(max+min)/2)/(max-min)/2 to put x_ to [-1,1]\n",
    "test_element_vector_path_1=\"../data_set/element_vector_generation/PCA/PCA_vector.csv\"\n",
    "test_element_vector_path_2=\"../data_set/element_vector_generation/laplace_eigenmap/laplace_eigenmap_20.txt\"\n",
    "test_output_path=\"../data_set/test_output/\"\n",
    "\n",
    "PCA_vector_raw=np.loadtxt(test_element_vector_path_1,delimiter=',')\n",
    "LPE_vector_raw=np.loadtxt(test_element_vector_path_2)\n",
    "#build input matrix(5628*80) \n"
   ]
  },
  {
   "cell_type": "code",
   "execution_count": 81,
   "metadata": {},
   "outputs": [],
   "source": [
    "#do normalization x_=(x-(max+min)/2)/(max-min) to put x_ to [-0.5,0.5]\n",
    "#normalization for PCA_vector\n",
    "PCA_vector_20_raw=PCA_vector_raw[:,:20]\n",
    "PCA_MAX=np.max(PCA_vector_20_raw)\n",
    "PCA_MIN=np.min(PCA_vector_20_raw)\n",
    "\n",
    "PCA_NOM=(PCA_vector_20_raw-(PCA_MAX+PCA_MIN)/2)/(PCA_MAX-PCA_MIN)\n"
   ]
  },
  {
   "cell_type": "code",
   "execution_count": 82,
   "metadata": {},
   "outputs": [],
   "source": [
    "#normalization for LPE_vector\n",
    "LPE_MAX=np.max(LPE_vector_raw)\n",
    "LPE_MIN=np.min(LPE_vector_raw)\n",
    "\n",
    "LPE_NOM=(LPE_vector_raw-(LPE_MAX+LPE_MIN)/2)/(LPE_MAX-LPE_MIN)\n"
   ]
  },
  {
   "cell_type": "code",
   "execution_count": 127,
   "metadata": {},
   "outputs": [],
   "source": [
    "#build the 5628*80 matrix\n",
    "input_file_name_1=\"PCA_input_test.txt\"\n",
    "input_file_name_2=\"LPE_input_test.txt\"\n",
    "\n",
    "input_file_path_1=test_output_path+input_file_name_1\n",
    "input_file_path_2=test_output_path+input_file_name_2"
   ]
  },
  {
   "cell_type": "code",
   "execution_count": 95,
   "metadata": {},
   "outputs": [],
   "source": [
    "#load main_elements_list\n",
    "element_list_main_path=\"../data_set/element_list/elements_list_main.txt\"\n",
    "#element_list_main_path_n=\"../data_set/element_list/elements_list_main_number.txt\"\n",
    "with open(element_list_main_path, \"r\") as text_file:\n",
    "    a=text_file.read()\n",
    "main_group_list=a.split()\n",
    "#main_group_n=np.loadtxt(element_list_main_path_n,dtype=int)"
   ]
  },
  {
   "cell_type": "code",
   "execution_count": 116,
   "metadata": {},
   "outputs": [],
   "source": [
    "#load elements_list\n",
    "element_list_path=\"../data_set/element_list/elements.txt\"\n",
    "with open(element_list_path, \"r\") as text_file:\n",
    "    a=text_file.read()\n",
    "element_list=a.split()\n",
    "#main_group_n=np.loadtxt(element_list_main_path_n,dtype=int)"
   ]
  },
  {
   "cell_type": "code",
   "execution_count": 119,
   "metadata": {},
   "outputs": [
    {
     "data": {
      "text/plain": [
       "str"
      ]
     },
     "execution_count": 119,
     "metadata": {},
     "output_type": "execute_result"
    }
   ],
   "source": [
    "type(element_list[0])"
   ]
  },
  {
   "cell_type": "code",
   "execution_count": 122,
   "metadata": {},
   "outputs": [],
   "source": [
    "#ele_vector_length=20\n",
    "#compound_list_length=5628\n",
    "vector_input_LPE=np.zeros((len(data),LPE_NOM.shape[1]*len(Composition(data[\"compound\"][0]))))\n",
    "for i in range(len(data[\"compound\"])):\n",
    "    compound=Composition(data[\"compound\"][i])\n",
    "    #build row i [i,0:80]\n",
    "    ele_index=0\n",
    "    for ele in compound:\n",
    "        for target_ele_index in range(len(element_list)):\n",
    "            if str(ele)==element_list[target_ele_index]:\n",
    "                vector_input_LPE[i,ele_index*20:(ele_index+1)*20]=LPE_NOM[target_ele_index,:]\n",
    "                ele_index+=1\n",
    "\n",
    "        #find the corresponding element"
   ]
  },
  {
   "cell_type": "code",
   "execution_count": 123,
   "metadata": {},
   "outputs": [],
   "source": [
    "#ele_vector_length=20\n",
    "#compound_list_length=5628\n",
    "vector_input_PCA=np.zeros((len(data),LPE_NOM.shape[1]*len(Composition(data[\"compound\"][0]))))\n",
    "for i in range(len(data[\"compound\"])):\n",
    "    compound=Composition(data[\"compound\"][i])\n",
    "    #build row i [i,0:80]\n",
    "    ele_index=0\n",
    "    for ele in compound:\n",
    "        for target_ele_index in range(len(element_list)):\n",
    "            if str(ele)==element_list[target_ele_index]:\n",
    "                vector_input_PCA[i,ele_index*20:(ele_index+1)*20]=PCA_NOM[target_ele_index,:]\n",
    "                ele_index+=1\n",
    "\n",
    "        #find the corresponding element"
   ]
  },
  {
   "cell_type": "code",
   "execution_count": null,
   "metadata": {},
   "outputs": [],
   "source": [
    "#save dataset to target folder/file"
   ]
  },
  {
   "cell_type": "code",
   "execution_count": 128,
   "metadata": {},
   "outputs": [
    {
     "data": {
      "text/plain": [
       "'../data_set/test_output/PCA_input_test.txt'"
      ]
     },
     "execution_count": 128,
     "metadata": {},
     "output_type": "execute_result"
    }
   ],
   "source": [
    "input_file_path_1"
   ]
  },
  {
   "cell_type": "code",
   "execution_count": 130,
   "metadata": {},
   "outputs": [],
   "source": [
    "np.savetxt(input_file_path_1,vector_input_PCA)"
   ]
  },
  {
   "cell_type": "code",
   "execution_count": 129,
   "metadata": {},
   "outputs": [
    {
     "data": {
      "text/plain": [
       "'../data_set/test_output/LPE_input_test.txt'"
      ]
     },
     "execution_count": 129,
     "metadata": {},
     "output_type": "execute_result"
    }
   ],
   "source": [
    "input_file_path_2"
   ]
  },
  {
   "cell_type": "code",
   "execution_count": 132,
   "metadata": {},
   "outputs": [],
   "source": [
    "np.savetxt(input_file_path_2,vector_input_LPE)"
   ]
  },
  {
   "cell_type": "code",
   "execution_count": 139,
   "metadata": {},
   "outputs": [
    {
     "data": {
      "text/plain": [
       "0    -7.110018\n",
       "1     4.713586\n",
       "2    18.374580\n",
       "3     4.612162\n",
       "4    -7.145500\n",
       "Name: formation_energy, dtype: float64"
      ]
     },
     "execution_count": 139,
     "metadata": {},
     "output_type": "execute_result"
    }
   ],
   "source": [
    "#input compound vector(5628*80)\n",
    "#vector_input_PCA\n",
    "#vector_input_LPE\n",
    "\n",
    "#input compound formation energy(5628)\n",
    "#data[\"formation_energy\"]"
   ]
  },
  {
   "cell_type": "code",
   "execution_count": 142,
   "metadata": {},
   "outputs": [
    {
     "data": {
      "text/html": [
       "<div>\n",
       "<style scoped>\n",
       "    .dataframe tbody tr th:only-of-type {\n",
       "        vertical-align: middle;\n",
       "    }\n",
       "\n",
       "    .dataframe tbody tr th {\n",
       "        vertical-align: top;\n",
       "    }\n",
       "\n",
       "    .dataframe thead th {\n",
       "        text-align: right;\n",
       "    }\n",
       "</style>\n",
       "<table border=\"1\" class=\"dataframe\">\n",
       "  <thead>\n",
       "    <tr style=\"text-align: right;\">\n",
       "      <th></th>\n",
       "      <th>compound</th>\n",
       "      <th>formation_energy</th>\n",
       "    </tr>\n",
       "  </thead>\n",
       "  <tbody>\n",
       "    <tr>\n",
       "      <th>0</th>\n",
       "      <td>Ca1O1F2Cs6</td>\n",
       "      <td>-7.110018</td>\n",
       "    </tr>\n",
       "    <tr>\n",
       "      <th>1</th>\n",
       "      <td>Mg1S1Al2In6</td>\n",
       "      <td>4.713586</td>\n",
       "    </tr>\n",
       "    <tr>\n",
       "      <th>2</th>\n",
       "      <td>Cs1Te1S2Si6</td>\n",
       "      <td>18.374580</td>\n",
       "    </tr>\n",
       "    <tr>\n",
       "      <th>3</th>\n",
       "      <td>Be1Si1Tl2H6</td>\n",
       "      <td>4.612162</td>\n",
       "    </tr>\n",
       "    <tr>\n",
       "      <th>4</th>\n",
       "      <td>Mg1O1F2Ca6</td>\n",
       "      <td>-7.145500</td>\n",
       "    </tr>\n",
       "  </tbody>\n",
       "</table>\n",
       "</div>"
      ],
      "text/plain": [
       "      compound  formation_energy\n",
       "0   Ca1O1F2Cs6         -7.110018\n",
       "1  Mg1S1Al2In6          4.713586\n",
       "2  Cs1Te1S2Si6         18.374580\n",
       "3  Be1Si1Tl2H6          4.612162\n",
       "4   Mg1O1F2Ca6         -7.145500"
      ]
     },
     "execution_count": 142,
     "metadata": {},
     "output_type": "execute_result"
    }
   ],
   "source": [
    "data.head()"
   ]
  },
  {
   "cell_type": "code",
   "execution_count": null,
   "metadata": {},
   "outputs": [],
   "source": [
    "\n",
    "\n",
    "##hold-out 10 to (80%,10%,10% for training/validation/test set)\n"
   ]
  },
  {
   "cell_type": "code",
   "execution_count": 143,
   "metadata": {},
   "outputs": [],
   "source": [
    "X=vector_input_PCA\n",
    "y=data[\"formation_energy\"]"
   ]
  },
  {
   "cell_type": "code",
   "execution_count": 145,
   "metadata": {},
   "outputs": [],
   "source": [
    "#split the dataset into old-out 10 to (80%,10%,10% for training/validation/test set)\n",
    "#hold number 10 is not implemented yet\n",
    "from sklearn.model_selection import train_test_split\n",
    "seed=7\n",
    "\n",
    "X_train, X_test, y_train, y_test = train_test_split(X, y, test_size=0.2, random_state=seed)\n",
    "X_val, X_test, y_val, y_test = train_test_split(X_test, y_test, test_size=0.5, random_state=seed)"
   ]
  },
  {
   "cell_type": "code",
   "execution_count": 146,
   "metadata": {},
   "outputs": [
    {
     "data": {
      "text/plain": [
       "(4502, 80)"
      ]
     },
     "execution_count": 146,
     "metadata": {},
     "output_type": "execute_result"
    }
   ],
   "source": [
    "X_train.shape"
   ]
  },
  {
   "cell_type": "code",
   "execution_count": 147,
   "metadata": {},
   "outputs": [
    {
     "data": {
      "text/plain": [
       "(563, 80)"
      ]
     },
     "execution_count": 147,
     "metadata": {},
     "output_type": "execute_result"
    }
   ],
   "source": [
    "X_val.shape"
   ]
  },
  {
   "cell_type": "code",
   "execution_count": 148,
   "metadata": {},
   "outputs": [
    {
     "data": {
      "text/plain": [
       "(563, 80)"
      ]
     },
     "execution_count": 148,
     "metadata": {},
     "output_type": "execute_result"
    }
   ],
   "source": [
    "X_test.shape"
   ]
  },
  {
   "cell_type": "code",
   "execution_count": null,
   "metadata": {},
   "outputs": [],
   "source": [
    "#early_stop in the call back of earlystop\n",
    "\"\"\"\n",
    "keras.callbacks.EarlyStopping(monitor='val_loss',\n",
    "                              min_delta=0,\n",
    "                              patience=2,\n",
    "                              verbose=0, mode='auto')\n",
    "\"\"\""
   ]
  },
  {
   "cell_type": "code",
   "execution_count": null,
   "metadata": {},
   "outputs": [],
   "source": [
    "#build the model,train and test it."
   ]
  },
  {
   "cell_type": "code",
   "execution_count": null,
   "metadata": {},
   "outputs": [],
   "source": [
    "##comparison how effecient of our model\n",
    "#do a distribution hestogram of our elements vector\n",
    "#random a elements vector in that distribution\n",
    "#do the same training for all the data"
   ]
  }
 ],
 "metadata": {
  "kernelspec": {
   "display_name": "Python 3",
   "language": "python",
   "name": "python3"
  },
  "language_info": {
   "codemirror_mode": {
    "name": "ipython",
    "version": 3
   },
   "file_extension": ".py",
   "mimetype": "text/x-python",
   "name": "python",
   "nbconvert_exporter": "python",
   "pygments_lexer": "ipython3",
   "version": "3.6.5"
  }
 },
 "nbformat": 4,
 "nbformat_minor": 2
}
