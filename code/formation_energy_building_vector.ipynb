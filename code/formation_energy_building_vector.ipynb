{
 "cells": [
  {
   "cell_type": "code",
   "execution_count": 8,
   "metadata": {},
   "outputs": [],
   "source": [
    "#load necessary package\n",
    "import tensorflow as tf\n",
    "import numpy as np\n",
    "import pandas as pd\n",
    "from pymatgen import Element,Composition\n",
    "\n",
    "def get_Elpasolite_FE_Vector(\n",
    "    element_vector_path=\"../data_set/element_vector_generation/laplace_eigenmap/laplace_eigenmap_20.txt\",\n",
    "    vector_length=20,\n",
    "    Elpasolite_FE_path=\"../data_set/evaluation_dataset/FE_elapsolite.txt\",\n",
    "\n",
    "    element_list_path=\"../data_set/element_list/elements.txt\",\n",
    "                                 \n",
    "    test_output_path=\"../data_set/test_output/\",\n",
    "    input_file_name=\"LPE_input_test.txt\",  \n",
    "    \n",
    "    result_norm=False,\n",
    "    save_result=False\n",
    "                            ):\n",
    "\n",
    "    ##do max-min normalization for vector matrix?? if do ,then would be 0-1？feel bad\n",
    "    #can do like x_=(x-(max+min)/2)/(max-min)/2 to put x_ to [-1,1]\n",
    "\n",
    "    #load elaposolite formation energy file\n",
    "    data = pd.read_csv(Elpasolite_FE_path,index_col=0)\n",
    "\n",
    "    #load elements_list\n",
    "    element_list_path=\"../data_set/element_list/elements.txt\"\n",
    "    with open(element_list_path, \"r\") as text_file:\n",
    "        a=text_file.read()\n",
    "    element_list=a.split()\n",
    "\n",
    "    #load element vector(80*vector_length, 80*20 by default)\n",
    "    vector_raw=np.loadtxt(element_vector_path)\n",
    "    \n",
    "    ##build output vector(5628*(4*vector_length) 5629*80 by default\n",
    "    #build path\n",
    "    input_file_path=test_output_path+input_file_name\n",
    "    \n",
    "    #ele_vector_length=20\n",
    "    #compound_list_length=5628\n",
    "    vector_input=np.zeros((len(data),vector_length*len(Composition(data[\"compound\"][0]))))\n",
    "    for i in range(len(data[\"compound\"])):\n",
    "        compound=Composition(data[\"compound\"][i])\n",
    "        ele_index=0\n",
    "        for ele in compound:\n",
    "            for target_ele_index in range(len(element_list)):\n",
    "                if str(ele)==element_list[target_ele_index]:\n",
    "                    vector_input[i,ele_index*vector_length:(ele_index+1)*vector_length]=vector_raw[target_ele_index,:]\n",
    "                    ele_index+=1\n",
    "    \n",
    "    #whether do normlization of resulting vector\n",
    "    if(result_norm):\n",
    "        #normalization for LPE_vector should do after getting the purpose matrix\n",
    "        vector_MAX=np.max(vector_input)\n",
    "        vector_MIN=np.min(vector_input)\n",
    "\n",
    "        vector_input=(vector_input-(vector_MAX+vector_MIN)/2)/(vector_MAX-vector_MIN)\n",
    "\n",
    "    #save dataset to target folder/file\n",
    "    if (save_result):\n",
    "        np.savetxt(input_file_path,vector_input)\n",
    "    \n",
    "    #return result\n",
    "    return vector_input\n"
   ]
  },
  {
   "cell_type": "code",
   "execution_count": 9,
   "metadata": {},
   "outputs": [],
   "source": [
    "#test code\n",
    "vector_raw=get_Elpasolite_FE_Vector(result_norm=False,save_result=False)\n",
    "vector_norm=get_Elpasolite_FE_Vector(result_norm=True,save_result=False)"
   ]
  }
 ],
 "metadata": {
  "kernelspec": {
   "display_name": "Python 3",
   "language": "python",
   "name": "python3"
  },
  "language_info": {
   "codemirror_mode": {
    "name": "ipython",
    "version": 3
   },
   "file_extension": ".py",
   "mimetype": "text/x-python",
   "name": "python",
   "nbconvert_exporter": "python",
   "pygments_lexer": "ipython3",
   "version": "3.6.5"
  }
 },
 "nbformat": 4,
 "nbformat_minor": 2
}
