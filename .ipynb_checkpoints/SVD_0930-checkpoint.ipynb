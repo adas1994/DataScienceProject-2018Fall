{
 "cells": [
  {
   "cell_type": "code",
   "execution_count": 2,
   "metadata": {},
   "outputs": [
    {
     "data": {
      "text/html": [
       "<div>\n",
       "<style scoped>\n",
       "    .dataframe tbody tr th:only-of-type {\n",
       "        vertical-align: middle;\n",
       "    }\n",
       "\n",
       "    .dataframe tbody tr th {\n",
       "        vertical-align: top;\n",
       "    }\n",
       "\n",
       "    .dataframe thead th {\n",
       "        text-align: right;\n",
       "    }\n",
       "</style>\n",
       "<table border=\"1\" class=\"dataframe\">\n",
       "  <thead>\n",
       "    <tr style=\"text-align: right;\">\n",
       "      <th></th>\n",
       "      <th>1O2</th>\n",
       "      <th>1Li1O4P1</th>\n",
       "      <th>2Si1</th>\n",
       "      <th>1Mg1</th>\n",
       "      <th>2Mg1</th>\n",
       "      <th>1Se2</th>\n",
       "      <th>1S1</th>\n",
       "      <th>1N1</th>\n",
       "      <th>1Mg2</th>\n",
       "      <th>2Mg1O4</th>\n",
       "      <th>...</th>\n",
       "      <th>11Ba2Mn2</th>\n",
       "      <th>6Ca1Ho1Sn2</th>\n",
       "      <th>6Bi2Ca1Ho1</th>\n",
       "      <th>4Mo1P1</th>\n",
       "      <th>6Ho1Sn2Zn1</th>\n",
       "      <th>2F11W2Y1</th>\n",
       "      <th>11Ba2W2Y1</th>\n",
       "      <th>8Ca1Mn2P2</th>\n",
       "      <th>2Ca1Mn2O8</th>\n",
       "      <th>6Ca1Cr2La1</th>\n",
       "    </tr>\n",
       "  </thead>\n",
       "  <tbody>\n",
       "    <tr>\n",
       "      <th>O</th>\n",
       "      <td>0</td>\n",
       "      <td>0</td>\n",
       "      <td>282</td>\n",
       "      <td>7</td>\n",
       "      <td>2</td>\n",
       "      <td>0</td>\n",
       "      <td>0</td>\n",
       "      <td>2</td>\n",
       "      <td>0</td>\n",
       "      <td>0</td>\n",
       "      <td>...</td>\n",
       "      <td>0</td>\n",
       "      <td>1</td>\n",
       "      <td>1</td>\n",
       "      <td>1</td>\n",
       "      <td>1</td>\n",
       "      <td>0</td>\n",
       "      <td>0</td>\n",
       "      <td>1</td>\n",
       "      <td>0</td>\n",
       "      <td>1</td>\n",
       "    </tr>\n",
       "    <tr>\n",
       "      <th>Li</th>\n",
       "      <td>4</td>\n",
       "      <td>0</td>\n",
       "      <td>1</td>\n",
       "      <td>17</td>\n",
       "      <td>12</td>\n",
       "      <td>0</td>\n",
       "      <td>2</td>\n",
       "      <td>1</td>\n",
       "      <td>15</td>\n",
       "      <td>0</td>\n",
       "      <td>...</td>\n",
       "      <td>0</td>\n",
       "      <td>0</td>\n",
       "      <td>0</td>\n",
       "      <td>0</td>\n",
       "      <td>0</td>\n",
       "      <td>0</td>\n",
       "      <td>0</td>\n",
       "      <td>0</td>\n",
       "      <td>0</td>\n",
       "      <td>0</td>\n",
       "    </tr>\n",
       "    <tr>\n",
       "      <th>Mg</th>\n",
       "      <td>2</td>\n",
       "      <td>1</td>\n",
       "      <td>35</td>\n",
       "      <td>0</td>\n",
       "      <td>0</td>\n",
       "      <td>0</td>\n",
       "      <td>2</td>\n",
       "      <td>0</td>\n",
       "      <td>0</td>\n",
       "      <td>0</td>\n",
       "      <td>...</td>\n",
       "      <td>0</td>\n",
       "      <td>0</td>\n",
       "      <td>0</td>\n",
       "      <td>0</td>\n",
       "      <td>0</td>\n",
       "      <td>0</td>\n",
       "      <td>0</td>\n",
       "      <td>0</td>\n",
       "      <td>0</td>\n",
       "      <td>0</td>\n",
       "    </tr>\n",
       "    <tr>\n",
       "      <th>P</th>\n",
       "      <td>1</td>\n",
       "      <td>0</td>\n",
       "      <td>2</td>\n",
       "      <td>1</td>\n",
       "      <td>0</td>\n",
       "      <td>0</td>\n",
       "      <td>1</td>\n",
       "      <td>0</td>\n",
       "      <td>0</td>\n",
       "      <td>0</td>\n",
       "      <td>...</td>\n",
       "      <td>0</td>\n",
       "      <td>0</td>\n",
       "      <td>0</td>\n",
       "      <td>0</td>\n",
       "      <td>0</td>\n",
       "      <td>0</td>\n",
       "      <td>0</td>\n",
       "      <td>0</td>\n",
       "      <td>1</td>\n",
       "      <td>0</td>\n",
       "    </tr>\n",
       "    <tr>\n",
       "      <th>F</th>\n",
       "      <td>0</td>\n",
       "      <td>0</td>\n",
       "      <td>0</td>\n",
       "      <td>0</td>\n",
       "      <td>5</td>\n",
       "      <td>0</td>\n",
       "      <td>0</td>\n",
       "      <td>1</td>\n",
       "      <td>0</td>\n",
       "      <td>0</td>\n",
       "      <td>...</td>\n",
       "      <td>1</td>\n",
       "      <td>0</td>\n",
       "      <td>0</td>\n",
       "      <td>0</td>\n",
       "      <td>0</td>\n",
       "      <td>0</td>\n",
       "      <td>1</td>\n",
       "      <td>0</td>\n",
       "      <td>0</td>\n",
       "      <td>0</td>\n",
       "    </tr>\n",
       "  </tbody>\n",
       "</table>\n",
       "<p>5 rows × 83131 columns</p>\n",
       "</div>"
      ],
      "text/plain": [
       "    1O2  1Li1O4P1  2Si1  1Mg1  2Mg1  1Se2  1S1  1N1  1Mg2  2Mg1O4     ...      \\\n",
       "O     0         0   282     7     2     0    0    2     0       0     ...       \n",
       "Li    4         0     1    17    12     0    2    1    15       0     ...       \n",
       "Mg    2         1    35     0     0     0    2    0     0       0     ...       \n",
       "P     1         0     2     1     0     0    1    0     0       0     ...       \n",
       "F     0         0     0     0     5     0    0    1     0       0     ...       \n",
       "\n",
       "    11Ba2Mn2  6Ca1Ho1Sn2  6Bi2Ca1Ho1  4Mo1P1  6Ho1Sn2Zn1  2F11W2Y1  11Ba2W2Y1  \\\n",
       "O          0           1           1       1           1         0          0   \n",
       "Li         0           0           0       0           0         0          0   \n",
       "Mg         0           0           0       0           0         0          0   \n",
       "P          0           0           0       0           0         0          0   \n",
       "F          1           0           0       0           0         0          1   \n",
       "\n",
       "    8Ca1Mn2P2  2Ca1Mn2O8  6Ca1Cr2La1  \n",
       "O           1          0           1  \n",
       "Li          0          0           0  \n",
       "Mg          0          0           0  \n",
       "P           0          1           0  \n",
       "F           0          0           0  \n",
       "\n",
       "[5 rows x 83131 columns]"
      ]
     },
     "execution_count": 2,
     "metadata": {},
     "output_type": "execute_result"
    }
   ],
   "source": [
    "import pandas as pd\n",
    "obj=pd.read_csv('first_Matrix_09_13_2018.csv',index_col=0)\n",
    "obj.head()"
   ]
  },
  {
   "cell_type": "code",
   "execution_count": 5,
   "metadata": {},
   "outputs": [
    {
     "data": {
      "text/plain": [
       "1O2           0\n",
       "1Li1O4P1      0\n",
       "2Si1        282\n",
       "1Mg1          7\n",
       "2Mg1          2\n",
       "Name: O, dtype: int64"
      ]
     },
     "execution_count": 5,
     "metadata": {},
     "output_type": "execute_result"
    }
   ],
   "source": [
    "obj.loc[\"O\",:].head()"
   ]
  },
  {
   "cell_type": "code",
   "execution_count": 3,
   "metadata": {},
   "outputs": [
    {
     "data": {
      "text/html": [
       "<div>\n",
       "<style scoped>\n",
       "    .dataframe tbody tr th:only-of-type {\n",
       "        vertical-align: middle;\n",
       "    }\n",
       "\n",
       "    .dataframe tbody tr th {\n",
       "        vertical-align: top;\n",
       "    }\n",
       "\n",
       "    .dataframe thead th {\n",
       "        text-align: right;\n",
       "    }\n",
       "</style>\n",
       "<table border=\"1\" class=\"dataframe\">\n",
       "  <thead>\n",
       "    <tr style=\"text-align: right;\">\n",
       "      <th></th>\n",
       "      <th>1O2</th>\n",
       "      <th>1Li1O4P1</th>\n",
       "      <th>2Si1</th>\n",
       "      <th>1Mg1</th>\n",
       "      <th>2Mg1</th>\n",
       "      <th>1Se2</th>\n",
       "      <th>1S1</th>\n",
       "      <th>1N1</th>\n",
       "      <th>1Mg2</th>\n",
       "      <th>2Mg1O4</th>\n",
       "      <th>...</th>\n",
       "      <th>11Ba2Mn2</th>\n",
       "      <th>6Ca1Ho1Sn2</th>\n",
       "      <th>6Bi2Ca1Ho1</th>\n",
       "      <th>4Mo1P1</th>\n",
       "      <th>6Ho1Sn2Zn1</th>\n",
       "      <th>2F11W2Y1</th>\n",
       "      <th>11Ba2W2Y1</th>\n",
       "      <th>8Ca1Mn2P2</th>\n",
       "      <th>2Ca1Mn2O8</th>\n",
       "      <th>6Ca1Cr2La1</th>\n",
       "    </tr>\n",
       "  </thead>\n",
       "  <tbody>\n",
       "    <tr>\n",
       "      <th>Os</th>\n",
       "      <td>2</td>\n",
       "      <td>0</td>\n",
       "      <td>0</td>\n",
       "      <td>0</td>\n",
       "      <td>0</td>\n",
       "      <td>1</td>\n",
       "      <td>0</td>\n",
       "      <td>6</td>\n",
       "      <td>0</td>\n",
       "      <td>0</td>\n",
       "      <td>...</td>\n",
       "      <td>0</td>\n",
       "      <td>0</td>\n",
       "      <td>0</td>\n",
       "      <td>0</td>\n",
       "      <td>0</td>\n",
       "      <td>0</td>\n",
       "      <td>0</td>\n",
       "      <td>0</td>\n",
       "      <td>0</td>\n",
       "      <td>0</td>\n",
       "    </tr>\n",
       "    <tr>\n",
       "      <th>Be</th>\n",
       "      <td>0</td>\n",
       "      <td>0</td>\n",
       "      <td>1</td>\n",
       "      <td>0</td>\n",
       "      <td>0</td>\n",
       "      <td>0</td>\n",
       "      <td>1</td>\n",
       "      <td>0</td>\n",
       "      <td>0</td>\n",
       "      <td>0</td>\n",
       "      <td>...</td>\n",
       "      <td>0</td>\n",
       "      <td>0</td>\n",
       "      <td>0</td>\n",
       "      <td>0</td>\n",
       "      <td>0</td>\n",
       "      <td>0</td>\n",
       "      <td>0</td>\n",
       "      <td>0</td>\n",
       "      <td>0</td>\n",
       "      <td>0</td>\n",
       "    </tr>\n",
       "    <tr>\n",
       "      <th>Th</th>\n",
       "      <td>1</td>\n",
       "      <td>0</td>\n",
       "      <td>0</td>\n",
       "      <td>0</td>\n",
       "      <td>0</td>\n",
       "      <td>1</td>\n",
       "      <td>1</td>\n",
       "      <td>1</td>\n",
       "      <td>2</td>\n",
       "      <td>0</td>\n",
       "      <td>...</td>\n",
       "      <td>0</td>\n",
       "      <td>0</td>\n",
       "      <td>0</td>\n",
       "      <td>0</td>\n",
       "      <td>0</td>\n",
       "      <td>0</td>\n",
       "      <td>0</td>\n",
       "      <td>0</td>\n",
       "      <td>0</td>\n",
       "      <td>0</td>\n",
       "    </tr>\n",
       "    <tr>\n",
       "      <th>Tc</th>\n",
       "      <td>1</td>\n",
       "      <td>0</td>\n",
       "      <td>0</td>\n",
       "      <td>0</td>\n",
       "      <td>0</td>\n",
       "      <td>0</td>\n",
       "      <td>0</td>\n",
       "      <td>7</td>\n",
       "      <td>0</td>\n",
       "      <td>0</td>\n",
       "      <td>...</td>\n",
       "      <td>0</td>\n",
       "      <td>0</td>\n",
       "      <td>0</td>\n",
       "      <td>0</td>\n",
       "      <td>0</td>\n",
       "      <td>0</td>\n",
       "      <td>0</td>\n",
       "      <td>0</td>\n",
       "      <td>0</td>\n",
       "      <td>0</td>\n",
       "    </tr>\n",
       "    <tr>\n",
       "      <th>Pu</th>\n",
       "      <td>4</td>\n",
       "      <td>0</td>\n",
       "      <td>0</td>\n",
       "      <td>0</td>\n",
       "      <td>1</td>\n",
       "      <td>1</td>\n",
       "      <td>1</td>\n",
       "      <td>1</td>\n",
       "      <td>0</td>\n",
       "      <td>0</td>\n",
       "      <td>...</td>\n",
       "      <td>0</td>\n",
       "      <td>0</td>\n",
       "      <td>0</td>\n",
       "      <td>0</td>\n",
       "      <td>0</td>\n",
       "      <td>0</td>\n",
       "      <td>0</td>\n",
       "      <td>0</td>\n",
       "      <td>0</td>\n",
       "      <td>0</td>\n",
       "    </tr>\n",
       "  </tbody>\n",
       "</table>\n",
       "<p>5 rows × 83131 columns</p>\n",
       "</div>"
      ],
      "text/plain": [
       "    1O2  1Li1O4P1  2Si1  1Mg1  2Mg1  1Se2  1S1  1N1  1Mg2  2Mg1O4     ...      \\\n",
       "Os    2         0     0     0     0     1    0    6     0       0     ...       \n",
       "Be    0         0     1     0     0     0    1    0     0       0     ...       \n",
       "Th    1         0     0     0     0     1    1    1     2       0     ...       \n",
       "Tc    1         0     0     0     0     0    0    7     0       0     ...       \n",
       "Pu    4         0     0     0     1     1    1    1     0       0     ...       \n",
       "\n",
       "    11Ba2Mn2  6Ca1Ho1Sn2  6Bi2Ca1Ho1  4Mo1P1  6Ho1Sn2Zn1  2F11W2Y1  11Ba2W2Y1  \\\n",
       "Os         0           0           0       0           0         0          0   \n",
       "Be         0           0           0       0           0         0          0   \n",
       "Th         0           0           0       0           0         0          0   \n",
       "Tc         0           0           0       0           0         0          0   \n",
       "Pu         0           0           0       0           0         0          0   \n",
       "\n",
       "    8Ca1Mn2P2  2Ca1Mn2O8  6Ca1Cr2La1  \n",
       "Os          0          0           0  \n",
       "Be          0          0           0  \n",
       "Th          0          0           0  \n",
       "Tc          0          0           0  \n",
       "Pu          0          0           0  \n",
       "\n",
       "[5 rows x 83131 columns]"
      ]
     },
     "execution_count": 3,
     "metadata": {},
     "output_type": "execute_result"
    }
   ],
   "source": [
    "obj.tail()"
   ]
  },
  {
   "cell_type": "markdown",
   "metadata": {},
   "source": [
    "obj.head()"
   ]
  },
  {
   "cell_type": "code",
   "execution_count": 36,
   "metadata": {},
   "outputs": [
    {
     "data": {
      "text/plain": [
       "Index(['O', 'Li', 'Mg', 'P', 'F', 'Mn', 'Fe', 'Si', 'S', 'V', 'Cu', 'Co', 'Ni',\n",
       "       'Ca', 'Ba', 'Na', 'N', 'Ti', 'Cr', 'Zn', 'B', 'Al', 'K', 'Sn', 'Se',\n",
       "       'H', 'C', 'Sb', 'Ge', 'Bi', 'Sr', 'Cl', 'W', 'Mo', 'Te', 'Y', 'La',\n",
       "       'Rb', 'Nb', 'Ga', 'Ag', 'In', 'Cd', 'Cs', 'As', 'Ce', 'Pd', 'Zr', 'I',\n",
       "       'Tl', 'Au', 'Rh', 'Hf', 'Pb', 'Pt', 'Br', 'Ta', 'Nd', 'Hg', 'Sc', 'Sm',\n",
       "       'Ru', 'U', 'Pr', 'Ir', 'Yb', 'Ho', 'Er', 'Dy', 'Tb', 'Lu', 'Tm', 'Gd',\n",
       "       'Eu', 'Re', 'Os', 'Be', 'Th', 'Tc', 'Pu'],\n",
       "      dtype='object')"
      ]
     },
     "execution_count": 36,
     "metadata": {},
     "output_type": "execute_result"
    }
   ],
   "source": [
    "obj.index"
   ]
  },
  {
   "cell_type": "code",
   "execution_count": 15,
   "metadata": {},
   "outputs": [],
   "source": [
    "from scipy.sparse.linalg import svds, eigs\n",
    "from scipy.sparse import csc_matrix\n",
    "#do decompostion for certain matrix\n",
    "a=csc_matrix(obj, dtype=float)\n",
    "#a=svds(obj,k=10)\n",
    "u, s, vt = svds(a, k=10)"
   ]
  },
  {
   "cell_type": "code",
   "execution_count": 15,
   "metadata": {},
   "outputs": [],
   "source": [
    "#normalization\n",
    "from sklearn.preprocessing import normalize\n",
    "obj_raw_norm=normalize(obj, norm='l2', axis=1)\n",
    "#function usage\n",
    "#sklearn.preprocessing.normalize(X, norm=’l2’, axis=1, copy=True, return_norm=False)\n"
   ]
  },
  {
   "cell_type": "code",
   "execution_count": 18,
   "metadata": {},
   "outputs": [
    {
     "data": {
      "text/plain": [
       "array([[0.        , 0.        , 0.52252245, ..., 0.00185292, 0.        ,\n",
       "        0.00185292],\n",
       "       [0.01211749, 0.        , 0.00302937, ..., 0.        , 0.        ,\n",
       "        0.        ],\n",
       "       [0.00761448, 0.00380724, 0.13325334, ..., 0.        , 0.        ,\n",
       "        0.        ]])"
      ]
     },
     "execution_count": 18,
     "metadata": {},
     "output_type": "execute_result"
    }
   ],
   "source": [
    "#norm success, but the label and index are lost\n",
    "obj_raw_norm[:3]"
   ]
  },
  {
   "cell_type": "code",
   "execution_count": 31,
   "metadata": {},
   "outputs": [],
   "source": [
    "from scipy.sparse.linalg import svds, eigs\n",
    "from scipy.sparse import csc_matrix\n",
    "#do decompostion for obj_raw_norm\n",
    "a=csc_matrix(obj_raw_norm, dtype=float)\n",
    "#a=svds(obj,k=10)\n",
    "u, s, vt = svds(a, k=20)"
   ]
  },
  {
   "cell_type": "code",
   "execution_count": 26,
   "metadata": {},
   "outputs": [
    {
     "data": {
      "text/plain": [
       "(80, 20)"
      ]
     },
     "execution_count": 26,
     "metadata": {},
     "output_type": "execute_result"
    }
   ],
   "source": [
    "u.shape"
   ]
  },
  {
   "cell_type": "code",
   "execution_count": 32,
   "metadata": {},
   "outputs": [
    {
     "data": {
      "text/plain": [
       "array([0.99929641, 1.00394907, 1.00810194, 1.03721344, 1.05915863,\n",
       "       1.0647803 , 1.0973927 , 1.11911966, 1.13247827, 1.19401786,\n",
       "       1.21834157, 1.2373492 , 1.27150978, 1.32202285, 1.44833239,\n",
       "       1.51622524, 1.69052661, 1.74987922, 2.25946504, 3.24676597])"
      ]
     },
     "execution_count": 32,
     "metadata": {},
     "output_type": "execute_result"
    }
   ],
   "source": [
    "s"
   ]
  },
  {
   "cell_type": "code",
   "execution_count": 35,
   "metadata": {},
   "outputs": [],
   "source": [
    "import numpy as np\n",
    "s_diagonal=np.diag(s)"
   ]
  },
  {
   "cell_type": "code",
   "execution_count": 83,
   "metadata": {},
   "outputs": [],
   "source": [
    "#get elements mapping value\n",
    "F=np.dot(u,s_diagonal)"
   ]
  },
  {
   "cell_type": "code",
   "execution_count": 81,
   "metadata": {},
   "outputs": [],
   "source": [
    "#select elements type from the paper and use pandas substract the raw number\n",
    "#try to use periodic table pick needed elements\n",
    "import pymatgen as mg\n",
    "from pymatgen.core import periodic_table, Element\n",
    "\n",
    "#build elements list from data(data's index)\n",
    "elements_list=list(obj.index)\n",
    "\n",
    "#select main group element\n",
    "#FIRST try select list from PNAS paper FIG.2.A\n",
    "\n",
    "#get main group list by pymatgen\n",
    "test=[\"Li\",\"Be\",\"B\",\"C\",\"N\",\"O\",\"F\"]\n",
    "group_main_list=[]\n",
    "for element_string in test:\n",
    "    Ele=Element(element_string)\n",
    "    group_main_list.append(Ele.group)\n",
    "\n",
    "#build elements_list_main, create subset of each group,catch them from elements_list\n",
    "#sort them by atom number, append the subset to element list\n",
    "\n",
    "elements_list_main=[]\n",
    "for group_number in group_main_list:\n",
    "    #creat subset\n",
    "    elements_sublist=[]\n",
    "    for raw_element in elements_list:\n",
    "        if Element(raw_element).group==group_number:\n",
    "            if Element(raw_element).number<57 or Element(raw_element).number>71:\n",
    "                elements_sublist.append(raw_element)\n",
    "    #sort subset\n",
    "    elements_sublist.sort(key=lambda x:Element(x).number)\n",
    "    #add subset to elements_list_main\n",
    "    elements_list_main+=elements_sublist\n",
    "    #elements_list_main.append(\"{}\".format(group_number))\n",
    "\n",
    "\n",
    "#apply the raw number to mapping value\n",
    "raw_number_list=[]\n",
    "for element_select in elements_list_main:\n",
    "    for raw_number in range(len(elements_list)):\n",
    "        if element_select==elements_list[raw_number]:\n",
    "            raw_number_list.append(raw_number)\n",
    "            \n",
    "    \n",
    "\n",
    "\n",
    "#draw the mapping(visualization)\n",
    "\n",
    "#perform pca and visualization\n"
   ]
  },
  {
   "cell_type": "code",
   "execution_count": 51,
   "metadata": {},
   "outputs": [],
   "source": [
    "Mg=Element(\"Cu\")"
   ]
  },
  {
   "cell_type": "code",
   "execution_count": 52,
   "metadata": {},
   "outputs": [
    {
     "data": {
      "text/plain": [
       "11"
      ]
     },
     "execution_count": 52,
     "metadata": {},
     "output_type": "execute_result"
    }
   ],
   "source": [
    "Mg.group"
   ]
  },
  {
   "cell_type": "code",
   "execution_count": 53,
   "metadata": {},
   "outputs": [
    {
     "data": {
      "text/plain": [
       "4"
      ]
     },
     "execution_count": 53,
     "metadata": {},
     "output_type": "execute_result"
    }
   ],
   "source": [
    "Mg.row"
   ]
  },
  {
   "cell_type": "code",
   "execution_count": 54,
   "metadata": {},
   "outputs": [
    {
     "data": {
      "text/plain": [
       "29"
      ]
     },
     "execution_count": 54,
     "metadata": {},
     "output_type": "execute_result"
    }
   ],
   "source": [
    "Mg.number"
   ]
  },
  {
   "cell_type": "code",
   "execution_count": 56,
   "metadata": {},
   "outputs": [],
   "source": [
    "test=[\"Li\",\"Be\",\"B\",\"C\",\"N\",\"O\",\"F\"]\n",
    "group_main_list=[]\n",
    "for element_string in test:\n",
    "    Ele=Element(element_string)\n",
    "    group_main_list.append(Ele.group)"
   ]
  },
  {
   "cell_type": "code",
   "execution_count": 59,
   "metadata": {},
   "outputs": [
    {
     "data": {
      "text/plain": [
       "[1, 2, 13, 14, 15, 16, 17]"
      ]
     },
     "execution_count": 59,
     "metadata": {},
     "output_type": "execute_result"
    }
   ],
   "source": []
  },
  {
   "cell_type": "code",
   "execution_count": 60,
   "metadata": {},
   "outputs": [
    {
     "data": {
      "text/plain": [
       "['abc', 'def', 'xyz', 'keyword 1', 'keyword 2', 'keyword 1000']"
      ]
     },
     "execution_count": 60,
     "metadata": {},
     "output_type": "execute_result"
    }
   ],
   "source": [
    "mylist=['xyz', 'keyword 1000', 'def', 'abc', 'keyword 2', 'keyword 1']\n",
    "mylist.sort(key=lambda x: (len(x.split())>1, x if len(x.split())==1 else int(x.split()[-1]) ) )\n",
    "mylist\n"
   ]
  },
  {
   "cell_type": "code",
   "execution_count": null,
   "metadata": {},
   "outputs": [],
   "source": [
    "test=[\"Li\",\"Be\",\"B\",\"C\",\"N\",\"O\",\"F\"]\n",
    "element_test_list"
   ]
  },
  {
   "cell_type": "code",
   "execution_count": 63,
   "metadata": {},
   "outputs": [],
   "source": [
    "import random\n",
    "\n",
    "\n",
    "random.shuffle(test)"
   ]
  },
  {
   "cell_type": "code",
   "execution_count": 64,
   "metadata": {},
   "outputs": [
    {
     "data": {
      "text/plain": [
       "['F', 'Be', 'Li', 'B', 'N', 'C', 'O']"
      ]
     },
     "execution_count": 64,
     "metadata": {},
     "output_type": "execute_result"
    }
   ],
   "source": [
    "test"
   ]
  },
  {
   "cell_type": "code",
   "execution_count": 67,
   "metadata": {},
   "outputs": [],
   "source": [
    "test.sort(key=lambda x:Element(x).number)"
   ]
  },
  {
   "cell_type": "code",
   "execution_count": 68,
   "metadata": {},
   "outputs": [
    {
     "data": {
      "text/plain": [
       "['Li', 'Be', 'B', 'C', 'N', 'O', 'F']"
      ]
     },
     "execution_count": 68,
     "metadata": {},
     "output_type": "execute_result"
    }
   ],
   "source": [
    "test"
   ]
  },
  {
   "cell_type": "code",
   "execution_count": 70,
   "metadata": {},
   "outputs": [
    {
     "data": {
      "text/plain": [
       "['ac', 'be']"
      ]
     },
     "execution_count": 70,
     "metadata": {},
     "output_type": "execute_result"
    }
   ],
   "source": [
    "[\"ac\"]+[\"be\"]"
   ]
  },
  {
   "cell_type": "code",
   "execution_count": 80,
   "metadata": {},
   "outputs": [
    {
     "data": {
      "text/plain": [
       "['H',\n",
       " 'Li',\n",
       " 'Na',\n",
       " 'K',\n",
       " 'Rb',\n",
       " 'Cs',\n",
       " 'Be',\n",
       " 'Mg',\n",
       " 'Ca',\n",
       " 'Sr',\n",
       " 'Ba',\n",
       " 'B',\n",
       " 'Al',\n",
       " 'Ga',\n",
       " 'In',\n",
       " 'Tl',\n",
       " 'C',\n",
       " 'Si',\n",
       " 'Ge',\n",
       " 'Sn',\n",
       " 'Pb',\n",
       " 'N',\n",
       " 'P',\n",
       " 'As',\n",
       " 'Sb',\n",
       " 'Bi',\n",
       " 'O',\n",
       " 'S',\n",
       " 'Se',\n",
       " 'Te',\n",
       " 'F',\n",
       " 'Cl',\n",
       " 'Br',\n",
       " 'I']"
      ]
     },
     "execution_count": 80,
     "metadata": {},
     "output_type": "execute_result"
    }
   ],
   "source": [
    "elements_list_main"
   ]
  },
  {
   "cell_type": "code",
   "execution_count": 82,
   "metadata": {},
   "outputs": [
    {
     "data": {
      "text/plain": [
       "[25,\n",
       " 1,\n",
       " 15,\n",
       " 22,\n",
       " 37,\n",
       " 43,\n",
       " 76,\n",
       " 2,\n",
       " 13,\n",
       " 30,\n",
       " 14,\n",
       " 20,\n",
       " 21,\n",
       " 39,\n",
       " 41,\n",
       " 49,\n",
       " 26,\n",
       " 7,\n",
       " 28,\n",
       " 23,\n",
       " 53,\n",
       " 16,\n",
       " 3,\n",
       " 44,\n",
       " 27,\n",
       " 29,\n",
       " 0,\n",
       " 8,\n",
       " 24,\n",
       " 34,\n",
       " 4,\n",
       " 31,\n",
       " 55,\n",
       " 48]"
      ]
     },
     "execution_count": 82,
     "metadata": {},
     "output_type": "execute_result"
    }
   ],
   "source": [
    "raw_number_list"
   ]
  },
  {
   "cell_type": "code",
   "execution_count": 85,
   "metadata": {},
   "outputs": [],
   "source": [
    "F_main=F[raw_number_list,:]"
   ]
  },
  {
   "cell_type": "code",
   "execution_count": 110,
   "metadata": {},
   "outputs": [
    {
     "data": {
      "text/plain": [
       "array([[ 8.61518231e-02, -4.58596835e-02,  1.29003451e-01,\n",
       "        -1.22366011e-01,  3.13397774e-02,  1.55275170e-01,\n",
       "         8.19639651e-02, -8.91672163e-02, -4.90859275e-02,\n",
       "        -5.62712901e-03, -9.37123964e-03, -2.22921464e-02,\n",
       "         5.90917677e-02,  1.86021729e-02, -1.58387101e-01,\n",
       "        -8.32285565e-02,  2.30023882e-01, -2.74551500e-01,\n",
       "        -5.47812363e-02,  4.71809367e-01],\n",
       "       [ 1.03410943e-01, -6.26557072e-02,  7.21983996e-02,\n",
       "        -2.40850717e-01, -3.84632887e-02,  1.46963529e-01,\n",
       "        -3.26701984e-02, -5.38478809e-03, -1.82518542e-02,\n",
       "        -2.98174448e-02, -8.16338071e-02, -4.11176082e-02,\n",
       "         2.95587230e-02, -2.89057851e-02, -2.06991880e-01,\n",
       "        -2.38284703e-01,  2.81064197e-01,  2.46502553e-02,\n",
       "         3.64894068e-02, -1.61772848e-01],\n",
       "       [ 2.18566168e-01, -1.40498879e-01,  1.25524005e-01,\n",
       "        -4.63493783e-01, -1.19417317e-01,  3.81138769e-01,\n",
       "        -2.93679292e-02, -5.71236993e-02,  5.95478501e-04,\n",
       "         2.89424500e-02, -7.40781208e-02, -1.96082757e-02,\n",
       "         1.77075660e-02, -3.59563979e-02, -8.85852812e-02,\n",
       "        -6.29033352e-02,  1.01395893e-01, -7.31158248e-03,\n",
       "         7.97480822e-03, -1.50250241e-02],\n",
       "       [ 2.37927944e-01, -1.80633137e-01,  1.42183366e-01,\n",
       "        -4.78466011e-01, -1.88813454e-01,  4.76611503e-01,\n",
       "         5.16808486e-03, -4.97472851e-02,  3.20942187e-02,\n",
       "         4.42389499e-02, -5.36612557e-02,  4.02631447e-03,\n",
       "         3.79735291e-02, -7.12208557e-02,  1.19332619e-02,\n",
       "         1.49517135e-02, -7.57914592e-04,  8.66859649e-02,\n",
       "         8.93518848e-03, -8.57853547e-02],\n",
       "       [ 2.73318797e-01, -1.74911617e-01,  1.36470083e-01,\n",
       "        -5.12131756e-01, -1.95273965e-01,  4.66573087e-01,\n",
       "         1.47928093e-02, -2.65396902e-02,  4.15594883e-02,\n",
       "         4.56514642e-02, -3.21307741e-02, -3.25911792e-03,\n",
       "         1.92569491e-02, -8.21472717e-02,  7.53140479e-02,\n",
       "         3.81026911e-02, -2.82049550e-02,  1.20345001e-01,\n",
       "        -7.60446860e-03, -1.04275122e-01],\n",
       "       [ 2.02509205e-01, -1.80739625e-01,  8.65221708e-02,\n",
       "        -4.43749747e-01, -2.10936010e-01,  4.27538500e-01,\n",
       "         1.53780168e-02, -1.63118074e-02,  6.21320050e-02,\n",
       "         2.10431727e-02, -3.88463360e-02, -2.15341010e-02,\n",
       "         1.42366911e-02, -7.35680816e-02,  6.63688948e-02,\n",
       "         7.66189104e-02, -5.66295814e-02,  1.23968994e-01,\n",
       "        -2.65845383e-02, -1.01513612e-01],\n",
       "       [ 1.79434876e-01, -3.32288798e-02,  9.56979632e-02,\n",
       "        -5.25958820e-02,  1.72337058e-01, -1.18987826e-01,\n",
       "        -5.94580839e-02, -1.35665913e-01,  2.28389057e-02,\n",
       "         9.83117194e-02,  5.52511123e-02,  2.56644331e-01,\n",
       "        -1.80429824e-01,  9.69716285e-02, -3.59955407e-02,\n",
       "         6.11364337e-02, -2.92778326e-02, -7.46031660e-02,\n",
       "        -2.37663284e-01, -7.72940082e-02],\n",
       "       [ 2.06017769e-01,  4.96138571e-03,  1.85983591e-01,\n",
       "        -6.58554049e-02,  1.21794814e-01, -1.12079380e-01,\n",
       "        -9.21328719e-02, -2.75956510e-01,  7.09936837e-02,\n",
       "        -9.40179471e-02, -1.31926753e-01,  1.09887595e-01,\n",
       "        -1.06344727e-01, -7.52904095e-03, -1.15151854e-01,\n",
       "        -4.18067215e-01,  3.79382938e-02, -2.35265236e-02,\n",
       "        -1.31239865e-01, -1.19032856e-02],\n",
       "       [ 3.39050251e-01, -9.25204119e-02,  3.61188583e-02,\n",
       "        -3.94242003e-01,  9.38856461e-02, -3.08346803e-01,\n",
       "        -3.18489652e-01, -1.28923564e-01, -1.12940422e-01,\n",
       "        -1.88627081e-01, -1.23018005e-01,  2.87250106e-02,\n",
       "        -8.31371839e-03,  3.46717343e-02, -1.88616615e-01,\n",
       "        -2.13533130e-01,  4.35294575e-02, -4.65295507e-02,\n",
       "         5.39202425e-02,  4.26338759e-02],\n",
       "       [ 3.72029999e-01, -1.15686697e-01,  1.06069927e-02,\n",
       "        -3.99746911e-01,  2.12773090e-02, -3.45580951e-01,\n",
       "        -2.87231756e-01, -2.99695999e-02, -1.57862696e-01,\n",
       "        -1.87185724e-01, -5.59147002e-02, -9.43937669e-02,\n",
       "         5.41384289e-02,  1.95666414e-02, -3.53787508e-02,\n",
       "         5.06531060e-02, -1.55374260e-01, -4.66275708e-04,\n",
       "         1.40610545e-01,  7.29449981e-04],\n",
       "       [ 2.64793887e-01, -9.54478776e-02,  3.03930779e-03,\n",
       "        -3.14338557e-01,  3.82409698e-02, -1.88553195e-01,\n",
       "        -3.40387388e-01, -1.65112828e-01, -9.86105203e-02,\n",
       "        -1.40264773e-01, -4.15798831e-02,  3.60456098e-04,\n",
       "        -2.57662777e-02,  1.24659471e-03, -7.06916619e-03,\n",
       "         1.69160006e-01, -3.12476397e-01,  3.67743876e-02,\n",
       "         1.49810023e-01,  2.89788502e-02],\n",
       "       [ 1.49882752e-01, -7.24327547e-02,  1.91920313e-02,\n",
       "        -9.34400928e-02, -7.43751404e-02,  7.86987270e-02,\n",
       "         1.42107111e-02,  7.84742700e-02, -1.34879080e-02,\n",
       "        -1.67405895e-01, -4.77669459e-03,  8.84139836e-02,\n",
       "        -1.24059940e-01, -3.34821253e-03,  2.58430480e-01,\n",
       "         5.80912824e-02, -1.95790895e-01,  9.70750811e-02,\n",
       "        -2.54509663e-01,  2.92197340e-01],\n",
       "       [ 4.48501464e-01, -7.81767801e-02, -8.24228075e-02,\n",
       "        -1.06906675e-01,  1.22414384e-01,  1.54207529e-02,\n",
       "         1.24213052e-01,  2.90734096e-01, -1.01442840e-01,\n",
       "        -2.14743523e-01, -1.63538031e-02,  1.52523490e-01,\n",
       "        -7.71957688e-02,  4.89600855e-02,  2.62791448e-01,\n",
       "        -1.35533544e-01, -1.04892045e-01,  2.40630661e-02,\n",
       "        -1.25319045e-03,  1.08659726e-01],\n",
       "       [ 4.67876188e-01, -9.62351123e-02,  3.13939401e-02,\n",
       "        -1.89153231e-01,  6.55752350e-02, -2.05208231e-01,\n",
       "         2.17174525e-01,  3.97324567e-01, -1.39284264e-01,\n",
       "        -1.27540005e-01, -7.70332368e-04,  3.00341435e-02,\n",
       "         4.12429188e-02,  1.23175039e-01,  1.64520014e-01,\n",
       "        -1.83932017e-01,  6.32626115e-02,  4.29282514e-02,\n",
       "         1.93687787e-02,  1.81947835e-02],\n",
       "       [ 3.76504729e-01,  6.77811028e-02,  1.07999960e-01,\n",
       "        -5.56259774e-02,  2.03305694e-01,  1.31657616e-03,\n",
       "         2.62857126e-01,  2.68410131e-01, -4.87886297e-02,\n",
       "         1.28093147e-01,  6.93731958e-02,  2.56587184e-01,\n",
       "         2.58872481e-02,  1.01909002e-01,  1.97132797e-01,\n",
       "        -1.72881277e-01, -3.82255719e-02,  1.40558845e-02,\n",
       "         7.59781166e-02,  9.68461653e-04],\n",
       "       [ 2.69501642e-01, -3.58980983e-02,  2.49048447e-01,\n",
       "        -2.22709197e-01,  1.65477102e-01,  2.25916011e-01,\n",
       "         1.88337973e-01,  8.54895634e-02, -4.49736488e-02,\n",
       "         2.78421175e-01,  2.52197061e-02,  1.28647290e-01,\n",
       "         9.39812031e-02,  3.59856717e-02,  8.50585517e-02,\n",
       "        -2.79360093e-03, -1.92922921e-02, -1.27958125e-01,\n",
       "         9.39107472e-02,  2.01617533e-02],\n",
       "       [ 2.53664381e-01, -1.92156624e-01,  5.55172200e-02,\n",
       "        -7.12499919e-02, -1.57405925e-01, -7.16290290e-02,\n",
       "         1.71602370e-03, -1.14222741e-02,  1.17988079e-01,\n",
       "        -1.75085774e-01,  2.84857996e-02, -1.92774399e-02,\n",
       "        -9.15565413e-02, -2.03974952e-01,  5.19925877e-02,\n",
       "         9.01423724e-02, -7.54805869e-02,  2.12380506e-01,\n",
       "        -2.72337387e-01,  2.89879156e-01],\n",
       "       [ 2.98500893e-01, -2.79777761e-01, -4.87240756e-02,\n",
       "         4.16473122e-02, -2.46030618e-01, -2.37771039e-01,\n",
       "         1.24022961e-01,  4.01033433e-02,  1.65997667e-01,\n",
       "         4.14598373e-02,  5.10281970e-02, -1.21527502e-01,\n",
       "         1.73876322e-01, -2.14118579e-01, -1.84301764e-01,\n",
       "        -3.85154450e-02,  1.48357520e-01,  1.01794400e-01,\n",
       "        -6.72332226e-03,  1.50725721e-02],\n",
       "       [ 2.53174929e-01, -1.26670593e-01,  1.28629797e-01,\n",
       "         2.09313173e-02, -8.99609404e-02, -2.19798991e-01,\n",
       "         1.88588091e-01,  3.14123245e-02,  2.61500438e-01,\n",
       "         1.23937137e-01,  1.00452548e-01,  8.74701442e-02,\n",
       "        -4.17623601e-02, -1.56163224e-01, -4.08624667e-02,\n",
       "         4.00250137e-02,  1.58089243e-01,  1.00868545e-02,\n",
       "        -5.06373601e-02,  1.85179769e-01],\n",
       "       [ 4.98790212e-01, -4.15750957e-01, -1.51109130e-01,\n",
       "        -4.98892179e-02,  9.83644904e-03, -1.98266810e-01,\n",
       "         1.12643855e-01,  1.03284784e-01,  1.06289704e-01,\n",
       "         4.29417661e-02,  7.08208932e-02, -1.27063859e-02,\n",
       "         7.93088333e-02, -3.63831782e-03, -9.56666529e-02,\n",
       "         2.12580164e-02,  1.04044919e-01,  2.00442185e-02,\n",
       "        -4.53497783e-02,  3.46344019e-02],\n",
       "       [ 2.97081853e-01, -6.81304196e-02,  1.41186904e-01,\n",
       "        -1.98659674e-01,  2.44479252e-01, -2.70844391e-01,\n",
       "        -4.95799376e-02, -9.37896828e-02,  1.95154062e-02,\n",
       "         4.09767070e-01,  1.24127345e-01,  1.44316396e-01,\n",
       "         8.00965114e-02, -1.11994867e-01,  1.17947162e-01,\n",
       "         2.22062165e-01,  7.78263668e-02,  1.00176153e-01,\n",
       "        -5.91774997e-02, -6.08043838e-02],\n",
       "       [ 1.13526436e-01, -3.02700944e-02,  1.13781292e-01,\n",
       "         1.46910232e-02,  4.31169440e-04, -3.05681838e-02,\n",
       "         1.93441199e-01, -1.56407513e-01,  2.77200307e-02,\n",
       "        -1.97382087e-02, -1.00929927e-01,  1.18310143e-01,\n",
       "        -1.07435000e-01, -2.13208371e-01,  5.45255716e-02,\n",
       "        -3.14832362e-02, -1.11031364e-01, -1.72111697e-02,\n",
       "        -4.55260947e-01,  4.47708988e-02],\n",
       "       [ 6.72970344e-02, -4.70542352e-02,  1.47702796e-02,\n",
       "         3.64071099e-02, -7.26672852e-02, -5.46706405e-02,\n",
       "         1.61898556e-01, -7.74921725e-02, -9.73335513e-02,\n",
       "         7.60061070e-02, -1.45729507e-01,  5.65924021e-02,\n",
       "        -2.82917566e-01, -3.65827760e-01, -1.60108519e-01,\n",
       "         2.83793562e-02, -1.61510181e-01, -8.68866347e-03,\n",
       "         2.99148833e-01,  2.05192513e-01],\n",
       "       [ 2.11319982e-01, -3.80638711e-02,  1.14094489e-01,\n",
       "         3.88327475e-02,  3.50029221e-03, -1.03531661e-01,\n",
       "         3.25360833e-01, -6.09370407e-02, -1.12629675e-01,\n",
       "         1.01342947e-01, -2.07899803e-01,  9.50435958e-02,\n",
       "        -2.28374568e-01, -3.76266871e-01, -8.30166112e-02,\n",
       "        -7.60250196e-02, -1.94757468e-01, -1.04865003e-01,\n",
       "         7.85312808e-02, -4.75900600e-02],\n",
       "       [ 4.79628217e-01, -3.37656686e-01, -1.66267122e-01,\n",
       "         7.62985304e-02, -1.19278698e-01, -1.41258377e-01,\n",
       "         3.17054589e-01,  1.45273431e-01, -1.55243735e-01,\n",
       "         3.28175895e-02, -1.44095104e-01, -4.27940620e-02,\n",
       "         9.52213989e-02, -1.02712733e-01, -1.57009848e-01,\n",
       "        -4.76895246e-02, -7.05880515e-02, -2.59902015e-02,\n",
       "         6.94732109e-03, -1.12169270e-01],\n",
       "       [ 5.51889148e-01, -2.92623883e-01, -2.59034979e-01,\n",
       "        -1.53888529e-03, -4.90351056e-02, -9.29593290e-02,\n",
       "         2.16193406e-01,  1.73995208e-01, -1.05371989e-01,\n",
       "        -3.84972825e-02, -7.53914742e-02, -5.03391762e-02,\n",
       "         1.38647427e-01, -1.16117714e-01, -2.28712381e-02,\n",
       "        -4.24425360e-02, -6.84559875e-02, -2.65781059e-02,\n",
       "         1.69801603e-02, -1.41830509e-01],\n",
       "       [ 4.03920292e-02, -1.84737218e-02,  8.28855285e-02,\n",
       "         1.02018199e-02,  2.57855030e-02, -4.27497925e-02,\n",
       "         9.85497349e-02, -1.77016905e-01,  5.04998520e-02,\n",
       "        -1.42629024e-01, -1.39390617e-01,  4.90251554e-02,\n",
       "        -1.03094078e-01,  1.01392647e-01,  2.13753283e-02,\n",
       "        -8.01738039e-02, -3.67660174e-02, -2.58818357e-01,\n",
       "        -3.77256989e-01, -4.19707658e-01],\n",
       "       [ 1.14748752e-01, -1.07147517e-02,  1.34926249e-01,\n",
       "         3.78770059e-02,  1.85682097e-02, -8.45790972e-02,\n",
       "         2.14091997e-01, -2.85254864e-01,  1.94312315e-01,\n",
       "        -2.02357224e-01, -4.54835815e-01,  9.36563351e-02,\n",
       "         6.91473992e-02,  1.80304422e-01,  1.40253836e-01,\n",
       "         1.30843161e-01,  3.98753990e-02, -5.34115446e-02,\n",
       "         6.58997076e-02, -2.93538348e-02],\n",
       "       [ 7.20934663e-02, -3.41712931e-02,  1.27768684e-01,\n",
       "         4.08295301e-02,  3.28649988e-02, -7.28858516e-02,\n",
       "         1.45961762e-01, -1.67767970e-01,  1.72781406e-01,\n",
       "        -1.44005059e-01, -3.74285522e-01,  7.69088098e-02,\n",
       "         9.40758866e-02,  8.40655843e-02,  1.92590178e-01,\n",
       "         8.03958479e-02,  2.49522936e-01,  7.63876323e-02,\n",
       "         1.82241789e-01,  6.46079234e-02],\n",
       "       [ 1.56696736e-01, -7.85388971e-02,  1.29963196e-01,\n",
       "         7.33948508e-02, -4.23210956e-02, -1.04428248e-01,\n",
       "         2.45132239e-01, -2.29067486e-01,  1.84906370e-01,\n",
       "        -1.19408487e-01, -4.28641630e-01,  6.06276076e-02,\n",
       "         1.81573179e-01,  1.14180179e-01,  1.15640663e-01,\n",
       "         1.87119364e-01,  8.17948427e-02,  8.70682728e-02,\n",
       "         1.42917901e-01,  4.48282148e-02],\n",
       "       [ 2.40236863e-02, -6.75867374e-03,  4.52410722e-02,\n",
       "        -1.61796478e-02,  2.10158563e-02,  4.50763662e-03,\n",
       "         1.01223353e-01, -1.25773397e-01, -8.46416820e-02,\n",
       "        -1.12693689e-01,  1.65924723e-01, -4.00305803e-02,\n",
       "         4.82662658e-02,  1.52985169e-02, -2.93781639e-02,\n",
       "        -3.71591851e-02,  1.18411646e-01,  1.64528160e-01,\n",
       "         4.00051660e-02,  1.39687540e-01],\n",
       "       [ 1.25344252e-01, -3.70971993e-02,  1.62692571e-01,\n",
       "        -1.68148956e-02,  4.66452967e-02,  1.04248627e-02,\n",
       "         3.43758504e-01, -3.48579231e-01, -2.45964660e-01,\n",
       "        -2.77403661e-01,  4.13036189e-01, -3.66122825e-02,\n",
       "         1.04715910e-01,  3.65852673e-03,  7.10150380e-03,\n",
       "         3.69146673e-02,  4.49850368e-02,  5.29937537e-02,\n",
       "         2.60059489e-02, -1.01210514e-02],\n",
       "       [ 1.19106370e-01, -2.05407588e-02,  1.73425309e-01,\n",
       "        -1.73718896e-02,  6.42721452e-02,  1.77925034e-02,\n",
       "         3.44239755e-01, -3.72693380e-01, -2.29805472e-01,\n",
       "        -2.84116259e-01,  4.21733887e-01, -3.75793605e-02,\n",
       "         7.79614388e-02,  3.23556735e-02,  2.74279508e-02,\n",
       "         3.30020744e-02,  1.90626362e-02,  3.90043753e-02,\n",
       "         2.63866985e-02, -4.38048529e-02],\n",
       "       [ 5.24474576e-02, -1.52707848e-02,  8.11777146e-02,\n",
       "         2.39485524e-03,  8.85364903e-03, -1.17290220e-02,\n",
       "         2.02695388e-01, -2.71796232e-01, -1.43285264e-01,\n",
       "        -1.77044987e-01,  2.72500654e-01,  5.80254207e-03,\n",
       "        -1.25710349e-02,  8.37509182e-03, -2.19966186e-02,\n",
       "        -2.35174162e-03, -4.24992894e-02, -1.64518593e-02,\n",
       "         1.23557953e-01, -1.06661756e-01]])"
      ]
     },
     "execution_count": 110,
     "metadata": {},
     "output_type": "execute_result"
    }
   ],
   "source": [
    "F_main.shape\n",
    "np.flip(F_main,axis=1)"
   ]
  },
  {
   "cell_type": "code",
   "execution_count": 92,
   "metadata": {},
   "outputs": [
    {
     "data": {
      "text/plain": [
       "<matplotlib.contour.QuadContourSet at 0x1a1a7c2da0>"
      ]
     },
     "execution_count": 92,
     "metadata": {},
     "output_type": "execute_result"
    },
    {
     "data": {
      "image/png": "[encoded data removed]",
      "text/plain": [
       "<Figure size 432x288 with 1 Axes>"
      ]
     },
     "metadata": {},
     "output_type": "display_data"
    }
   ],
   "source": [
    "import matplotlib.pyplot as plt\n",
    "plt.contour(F_main)"
   ]
  },
  {
   "cell_type": "code",
   "execution_count": 91,
   "metadata": {},
   "outputs": [
    {
     "ename": "NameError",
     "evalue": "name 'plt' is not defined",
     "output_type": "error",
     "traceback": [
      "\u001b[0;31m---------------------------------------------------------------------------\u001b[0m",
      "\u001b[0;31mNameError\u001b[0m                                 Traceback (most recent call last)",
      "\u001b[0;32m<ipython-input-91-a78f57101a5e>\u001b[0m in \u001b[0;36m<module>\u001b[0;34m()\u001b[0m\n\u001b[0;32m----> 1\u001b[0;31m \u001b[0mplt\u001b[0m\u001b[0;34m.\u001b[0m\u001b[0mshow\u001b[0m\u001b[0;34m\u001b[0m\u001b[0m\n\u001b[0m",
      "\u001b[0;31mNameError\u001b[0m: name 'plt' is not defined"
     ]
    }
   ],
   "source": [
    "plt.show"
   ]
  },
  {
   "cell_type": "code",
   "execution_count": 100,
   "metadata": {},
   "outputs": [
    {
     "ename": "AttributeError",
     "evalue": "'AxesImage' object has no attribute 'savefig'",
     "output_type": "error",
     "traceback": [
      "\u001b[0;31m---------------------------------------------------------------------------\u001b[0m",
      "\u001b[0;31mAttributeError\u001b[0m                            Traceback (most recent call last)",
      "\u001b[0;32m<ipython-input-100-1774c172974c>\u001b[0m in \u001b[0;36m<module>\u001b[0;34m()\u001b[0m\n\u001b[1;32m      4\u001b[0m \u001b[0;31m#add x-y axis labels\u001b[0m\u001b[0;34m\u001b[0m\u001b[0;34m\u001b[0m\u001b[0m\n\u001b[1;32m      5\u001b[0m \u001b[0;31m#change the magnitude of Z(magnitude vs color)\u001b[0m\u001b[0;34m\u001b[0m\u001b[0;34m\u001b[0m\u001b[0m\n\u001b[0;32m----> 6\u001b[0;31m \u001b[0mfig\u001b[0m\u001b[0;34m.\u001b[0m\u001b[0msavefig\u001b[0m\u001b[0;34m(\u001b[0m\u001b[0;34m'first_maingroup.png'\u001b[0m\u001b[0;34m)\u001b[0m\u001b[0;34m\u001b[0m\u001b[0m\n\u001b[0m",
      "\u001b[0;31mAttributeError\u001b[0m: 'AxesImage' object has no attribute 'savefig'"
     ]
    },
    {
     "data": {
      "image/png": "[encoded data removed]",
      "text/plain": [
       "<Figure size 432x288 with 1 Axes>"
      ]
     },
     "metadata": {},
     "output_type": "display_data"
    }
   ],
   "source": [
    "import matplotlib.pyplot as plt\n",
    "import matplotlib.cm as cm\n",
    "fig=plt.imshow(F_main, interpolation='nearest', cmap=\"rainbow\")\n",
    "#add x-y axis labels\n",
    "#change the magnitude of Z(magnitude vs color)\n",
    "fig.savefig('first_maingroup.png')\n",
    "\n",
    "\n",
    "fig = plt.figure()\n",
    "ax = plt.subplot(111)\n",
    "ax.plot(x, y, label='$y = numbers')\n",
    "plt.title('Legend inside')\n",
    "ax.legend()\n",
    "#plt.show()\n",
    " \n",
    "fig.savefig('plot.png')"
   ]
  },
  {
   "cell_type": "code",
   "execution_count": 96,
   "metadata": {},
   "outputs": [
    {
     "data": {
      "image/png": "[encoded data removed]",
      "text/plain": [
       "<Figure size 432x288 with 1 Axes>"
      ]
     },
     "metadata": {},
     "output_type": "display_data"
    }
   ],
   "source": [
    "import numpy as np\n",
    "import matplotlib\n",
    "import matplotlib.pyplot as plt\n",
    "# sphinx_gallery_thumbnail_number = 2\n",
    "\n",
    "vegetables = [\"cucumber\", \"tomato\", \"lettuce\", \"asparagus\",\n",
    "              \"potato\", \"wheat\", \"barley\"]\n",
    "farmers = [\"Farmer Joe\", \"Upland Bros.\", \"Smith Gardening\",\n",
    "           \"Agrifun\", \"Organiculture\", \"BioGoods Ltd.\", \"Cornylee Corp.\"]\n",
    "\n",
    "harvest = np.array([[0.8, 2.4, 2.5, 3.9, 0.0, 4.0, 0.0],\n",
    "                    [2.4, 0.0, 4.0, 1.0, 2.7, 0.0, 0.0],\n",
    "                    [1.1, 2.4, 0.8, 4.3, 1.9, 4.4, 0.0],\n",
    "                    [0.6, 0.0, 0.3, 0.0, 3.1, 0.0, 0.0],\n",
    "                    [0.7, 1.7, 0.6, 2.6, 2.2, 6.2, 0.0],\n",
    "                    [1.3, 1.2, 0.0, 0.0, 0.0, 3.2, 5.1],\n",
    "                    [0.1, 2.0, 0.0, 1.4, 0.0, 1.9, 6.3]])\n",
    "\n",
    "\n",
    "fig, ax = plt.subplots()\n",
    "im = ax.imshow(harvest)\n",
    "\n",
    "# We want to show all ticks...\n",
    "ax.set_xticks(np.arange(len(farmers)))\n",
    "ax.set_yticks(np.arange(len(vegetables)))\n",
    "# ... and label them with the respective list entries\n",
    "ax.set_xticklabels(farmers)\n",
    "ax.set_yticklabels(vegetables)\n",
    "\n",
    "# Rotate the tick labels and set their alignment.\n",
    "plt.setp(ax.get_xticklabels(), rotation=45, ha=\"right\",\n",
    "         rotation_mode=\"anchor\")\n",
    "\n",
    "# Loop over data dimensions and create text annotations.\n",
    "for i in range(len(vegetables)):\n",
    "    for j in range(len(farmers)):\n",
    "        text = ax.text(j, i, harvest[i, j],\n",
    "                       ha=\"center\", va=\"center\", color=\"w\")\n",
    "\n",
    "ax.set_title(\"Harvest of local farmers (in tons/year)\")\n",
    "fig.tight_layout()\n",
    "plt.show()"
   ]
  },
  {
   "cell_type": "code",
   "execution_count": 103,
   "metadata": {},
   "outputs": [],
   "source": [
    "a=[[1,2],[3,4]]\n",
    "a=np.array(a)"
   ]
  },
  {
   "cell_type": "code",
   "execution_count": 104,
   "metadata": {},
   "outputs": [
    {
     "data": {
      "text/plain": [
       "array([[1, 2],\n",
       "       [3, 4]])"
      ]
     },
     "execution_count": 104,
     "metadata": {},
     "output_type": "execute_result"
    }
   ],
   "source": [
    "a"
   ]
  },
  {
   "cell_type": "code",
   "execution_count": 109,
   "metadata": {},
   "outputs": [
    {
     "data": {
      "text/plain": [
       "array([[2, 1],\n",
       "       [4, 3]])"
      ]
     },
     "execution_count": 109,
     "metadata": {},
     "output_type": "execute_result"
    }
   ],
   "source": [
    "np.flip(a,axis=1)"
   ]
  },
  {
   "cell_type": "code",
   "execution_count": 111,
   "metadata": {},
   "outputs": [
    {
     "data": {
      "image/png": "[encoded data removed]",
      "text/plain": [
       "<Figure size 432x288 with 1 Axes>"
      ]
     },
     "metadata": {},
     "output_type": "display_data"
    }
   ],
   "source": [
    "fig=plt.imshow(F_main, interpolation='nearest', cmap=\"rainbow\")"
   ]
  },
  {
   "cell_type": "code",
   "execution_count": 114,
   "metadata": {},
   "outputs": [
    {
     "data": {
      "text/plain": [
       "array([-0.16177285,  0.03648941,  0.02465026,  0.2810642 , -0.2382847 ,\n",
       "       -0.20699188, -0.02890579,  0.02955872, -0.04111761, -0.08163381,\n",
       "       -0.02981744, -0.01825185, -0.00538479, -0.0326702 ,  0.14696353,\n",
       "       -0.03846329, -0.24085072,  0.0721984 , -0.06265571,  0.10341094])"
      ]
     },
     "execution_count": 114,
     "metadata": {},
     "output_type": "execute_result"
    }
   ],
   "source": [
    "F_main[1,:]"
   ]
  },
  {
   "cell_type": "code",
   "execution_count": 115,
   "metadata": {},
   "outputs": [],
   "source": [
    "F_main_flip=np.flip(F_main,axis=1)"
   ]
  },
  {
   "cell_type": "code",
   "execution_count": 116,
   "metadata": {},
   "outputs": [
    {
     "data": {
      "image/png": "[encoded data removed]",
      "text/plain": [
       "<Figure size 432x288 with 1 Axes>"
      ]
     },
     "metadata": {},
     "output_type": "display_data"
    }
   ],
   "source": [
    "fig=plt.imshow(F_main_flip, interpolation='nearest', cmap=\"rainbow\")"
   ]
  },
  {
   "cell_type": "code",
   "execution_count": 117,
   "metadata": {},
   "outputs": [
    {
     "data": {
      "text/plain": [
       "<matplotlib.image.AxesImage at 0x1a1d3280f0>"
      ]
     },
     "execution_count": 117,
     "metadata": {},
     "output_type": "execute_result"
    }
   ],
   "source": [
    "fig"
   ]
  },
  {
   "cell_type": "code",
   "execution_count": 119,
   "metadata": {},
   "outputs": [],
   "source": [
    "fig.colorbar"
   ]
  },
  {
   "cell_type": "code",
   "execution_count": null,
   "metadata": {},
   "outputs": [],
   "source": []
  }
 ],
 "metadata": {
  "kernelspec": {
   "display_name": "Python 3",
   "language": "python",
   "name": "python3"
  },
  "language_info": {
   "codemirror_mode": {
    "name": "ipython",
    "version": 3
   },
   "file_extension": ".py",
   "mimetype": "text/x-python",
   "name": "python",
   "nbconvert_exporter": "python",
   "pygments_lexer": "ipython3",
   "version": "3.6.5"
  }
 },
 "nbformat": 4,
 "nbformat_minor": 2
}
