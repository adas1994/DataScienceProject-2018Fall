{
 "cells": [
  {
   "cell_type": "code",
   "execution_count": 2,
   "metadata": {},
   "outputs": [
    {
     "data": {
      "text/html": [
       "<div>\n",
       "<style scoped>\n",
       "    .dataframe tbody tr th:only-of-type {\n",
       "        vertical-align: middle;\n",
       "    }\n",
       "\n",
       "    .dataframe tbody tr th {\n",
       "        vertical-align: top;\n",
       "    }\n",
       "\n",
       "    .dataframe thead th {\n",
       "        text-align: right;\n",
       "    }\n",
       "</style>\n",
       "<table border=\"1\" class=\"dataframe\">\n",
       "  <thead>\n",
       "    <tr style=\"text-align: right;\">\n",
       "      <th></th>\n",
       "      <th>1O2</th>\n",
       "      <th>1Li1O4P1</th>\n",
       "      <th>2Si1</th>\n",
       "      <th>1Mg1</th>\n",
       "      <th>2Mg1</th>\n",
       "      <th>1Se2</th>\n",
       "      <th>1S1</th>\n",
       "      <th>1N1</th>\n",
       "      <th>1Mg2</th>\n",
       "      <th>2Mg1O4</th>\n",
       "      <th>...</th>\n",
       "      <th>11Ba2Mn2</th>\n",
       "      <th>6Ca1Ho1Sn2</th>\n",
       "      <th>6Bi2Ca1Ho1</th>\n",
       "      <th>4Mo1P1</th>\n",
       "      <th>6Ho1Sn2Zn1</th>\n",
       "      <th>2F11W2Y1</th>\n",
       "      <th>11Ba2W2Y1</th>\n",
       "      <th>8Ca1Mn2P2</th>\n",
       "      <th>2Ca1Mn2O8</th>\n",
       "      <th>6Ca1Cr2La1</th>\n",
       "    </tr>\n",
       "  </thead>\n",
       "  <tbody>\n",
       "    <tr>\n",
       "      <th>O</th>\n",
       "      <td>0</td>\n",
       "      <td>0</td>\n",
       "      <td>282</td>\n",
       "      <td>7</td>\n",
       "      <td>2</td>\n",
       "      <td>0</td>\n",
       "      <td>0</td>\n",
       "      <td>2</td>\n",
       "      <td>0</td>\n",
       "      <td>0</td>\n",
       "      <td>...</td>\n",
       "      <td>0</td>\n",
       "      <td>1</td>\n",
       "      <td>1</td>\n",
       "      <td>1</td>\n",
       "      <td>1</td>\n",
       "      <td>0</td>\n",
       "      <td>0</td>\n",
       "      <td>1</td>\n",
       "      <td>0</td>\n",
       "      <td>1</td>\n",
       "    </tr>\n",
       "    <tr>\n",
       "      <th>Li</th>\n",
       "      <td>4</td>\n",
       "      <td>0</td>\n",
       "      <td>1</td>\n",
       "      <td>17</td>\n",
       "      <td>12</td>\n",
       "      <td>0</td>\n",
       "      <td>2</td>\n",
       "      <td>1</td>\n",
       "      <td>15</td>\n",
       "      <td>0</td>\n",
       "      <td>...</td>\n",
       "      <td>0</td>\n",
       "      <td>0</td>\n",
       "      <td>0</td>\n",
       "      <td>0</td>\n",
       "      <td>0</td>\n",
       "      <td>0</td>\n",
       "      <td>0</td>\n",
       "      <td>0</td>\n",
       "      <td>0</td>\n",
       "      <td>0</td>\n",
       "    </tr>\n",
       "    <tr>\n",
       "      <th>Mg</th>\n",
       "      <td>2</td>\n",
       "      <td>1</td>\n",
       "      <td>35</td>\n",
       "      <td>0</td>\n",
       "      <td>0</td>\n",
       "      <td>0</td>\n",
       "      <td>2</td>\n",
       "      <td>0</td>\n",
       "      <td>0</td>\n",
       "      <td>0</td>\n",
       "      <td>...</td>\n",
       "      <td>0</td>\n",
       "      <td>0</td>\n",
       "      <td>0</td>\n",
       "      <td>0</td>\n",
       "      <td>0</td>\n",
       "      <td>0</td>\n",
       "      <td>0</td>\n",
       "      <td>0</td>\n",
       "      <td>0</td>\n",
       "      <td>0</td>\n",
       "    </tr>\n",
       "    <tr>\n",
       "      <th>P</th>\n",
       "      <td>1</td>\n",
       "      <td>0</td>\n",
       "      <td>2</td>\n",
       "      <td>1</td>\n",
       "      <td>0</td>\n",
       "      <td>0</td>\n",
       "      <td>1</td>\n",
       "      <td>0</td>\n",
       "      <td>0</td>\n",
       "      <td>0</td>\n",
       "      <td>...</td>\n",
       "      <td>0</td>\n",
       "      <td>0</td>\n",
       "      <td>0</td>\n",
       "      <td>0</td>\n",
       "      <td>0</td>\n",
       "      <td>0</td>\n",
       "      <td>0</td>\n",
       "      <td>0</td>\n",
       "      <td>1</td>\n",
       "      <td>0</td>\n",
       "    </tr>\n",
       "    <tr>\n",
       "      <th>F</th>\n",
       "      <td>0</td>\n",
       "      <td>0</td>\n",
       "      <td>0</td>\n",
       "      <td>0</td>\n",
       "      <td>5</td>\n",
       "      <td>0</td>\n",
       "      <td>0</td>\n",
       "      <td>1</td>\n",
       "      <td>0</td>\n",
       "      <td>0</td>\n",
       "      <td>...</td>\n",
       "      <td>1</td>\n",
       "      <td>0</td>\n",
       "      <td>0</td>\n",
       "      <td>0</td>\n",
       "      <td>0</td>\n",
       "      <td>0</td>\n",
       "      <td>1</td>\n",
       "      <td>0</td>\n",
       "      <td>0</td>\n",
       "      <td>0</td>\n",
       "    </tr>\n",
       "  </tbody>\n",
       "</table>\n",
       "<p>5 rows × 83131 columns</p>\n",
       "</div>"
      ],
      "text/plain": [
       "    1O2  1Li1O4P1  2Si1  1Mg1  2Mg1  1Se2  1S1  1N1  1Mg2  2Mg1O4     ...      \\\n",
       "O     0         0   282     7     2     0    0    2     0       0     ...       \n",
       "Li    4         0     1    17    12     0    2    1    15       0     ...       \n",
       "Mg    2         1    35     0     0     0    2    0     0       0     ...       \n",
       "P     1         0     2     1     0     0    1    0     0       0     ...       \n",
       "F     0         0     0     0     5     0    0    1     0       0     ...       \n",
       "\n",
       "    11Ba2Mn2  6Ca1Ho1Sn2  6Bi2Ca1Ho1  4Mo1P1  6Ho1Sn2Zn1  2F11W2Y1  11Ba2W2Y1  \\\n",
       "O          0           1           1       1           1         0          0   \n",
       "Li         0           0           0       0           0         0          0   \n",
       "Mg         0           0           0       0           0         0          0   \n",
       "P          0           0           0       0           0         0          0   \n",
       "F          1           0           0       0           0         0          1   \n",
       "\n",
       "    8Ca1Mn2P2  2Ca1Mn2O8  6Ca1Cr2La1  \n",
       "O           1          0           1  \n",
       "Li          0          0           0  \n",
       "Mg          0          0           0  \n",
       "P           0          1           0  \n",
       "F           0          0           0  \n",
       "\n",
       "[5 rows x 83131 columns]"
      ]
     },
     "execution_count": 2,
     "metadata": {},
     "output_type": "execute_result"
    }
   ],
   "source": [
    "import pandas as pd\n",
    "obj=pd.read_csv('first_Matrix_09_13_2018.csv',index_col=0)\n",
    "obj.head()"
   ]
  },
  {
   "cell_type": "code",
   "execution_count": 3,
   "metadata": {},
   "outputs": [
    {
     "data": {
      "text/plain": [
       "1O2           0\n",
       "1Li1O4P1      0\n",
       "2Si1        282\n",
       "1Mg1          7\n",
       "2Mg1          2\n",
       "Name: O, dtype: int64"
      ]
     },
     "execution_count": 3,
     "metadata": {},
     "output_type": "execute_result"
    }
   ],
   "source": [
    "obj.loc[\"O\",:].head()"
   ]
  },
  {
   "cell_type": "code",
   "execution_count": 4,
   "metadata": {},
   "outputs": [
    {
     "data": {
      "text/html": [
       "<div>\n",
       "<style scoped>\n",
       "    .dataframe tbody tr th:only-of-type {\n",
       "        vertical-align: middle;\n",
       "    }\n",
       "\n",
       "    .dataframe tbody tr th {\n",
       "        vertical-align: top;\n",
       "    }\n",
       "\n",
       "    .dataframe thead th {\n",
       "        text-align: right;\n",
       "    }\n",
       "</style>\n",
       "<table border=\"1\" class=\"dataframe\">\n",
       "  <thead>\n",
       "    <tr style=\"text-align: right;\">\n",
       "      <th></th>\n",
       "      <th>1O2</th>\n",
       "      <th>1Li1O4P1</th>\n",
       "      <th>2Si1</th>\n",
       "      <th>1Mg1</th>\n",
       "      <th>2Mg1</th>\n",
       "      <th>1Se2</th>\n",
       "      <th>1S1</th>\n",
       "      <th>1N1</th>\n",
       "      <th>1Mg2</th>\n",
       "      <th>2Mg1O4</th>\n",
       "      <th>...</th>\n",
       "      <th>11Ba2Mn2</th>\n",
       "      <th>6Ca1Ho1Sn2</th>\n",
       "      <th>6Bi2Ca1Ho1</th>\n",
       "      <th>4Mo1P1</th>\n",
       "      <th>6Ho1Sn2Zn1</th>\n",
       "      <th>2F11W2Y1</th>\n",
       "      <th>11Ba2W2Y1</th>\n",
       "      <th>8Ca1Mn2P2</th>\n",
       "      <th>2Ca1Mn2O8</th>\n",
       "      <th>6Ca1Cr2La1</th>\n",
       "    </tr>\n",
       "  </thead>\n",
       "  <tbody>\n",
       "    <tr>\n",
       "      <th>Os</th>\n",
       "      <td>2</td>\n",
       "      <td>0</td>\n",
       "      <td>0</td>\n",
       "      <td>0</td>\n",
       "      <td>0</td>\n",
       "      <td>1</td>\n",
       "      <td>0</td>\n",
       "      <td>6</td>\n",
       "      <td>0</td>\n",
       "      <td>0</td>\n",
       "      <td>...</td>\n",
       "      <td>0</td>\n",
       "      <td>0</td>\n",
       "      <td>0</td>\n",
       "      <td>0</td>\n",
       "      <td>0</td>\n",
       "      <td>0</td>\n",
       "      <td>0</td>\n",
       "      <td>0</td>\n",
       "      <td>0</td>\n",
       "      <td>0</td>\n",
       "    </tr>\n",
       "    <tr>\n",
       "      <th>Be</th>\n",
       "      <td>0</td>\n",
       "      <td>0</td>\n",
       "      <td>1</td>\n",
       "      <td>0</td>\n",
       "      <td>0</td>\n",
       "      <td>0</td>\n",
       "      <td>1</td>\n",
       "      <td>0</td>\n",
       "      <td>0</td>\n",
       "      <td>0</td>\n",
       "      <td>...</td>\n",
       "      <td>0</td>\n",
       "      <td>0</td>\n",
       "      <td>0</td>\n",
       "      <td>0</td>\n",
       "      <td>0</td>\n",
       "      <td>0</td>\n",
       "      <td>0</td>\n",
       "      <td>0</td>\n",
       "      <td>0</td>\n",
       "      <td>0</td>\n",
       "    </tr>\n",
       "    <tr>\n",
       "      <th>Th</th>\n",
       "      <td>1</td>\n",
       "      <td>0</td>\n",
       "      <td>0</td>\n",
       "      <td>0</td>\n",
       "      <td>0</td>\n",
       "      <td>1</td>\n",
       "      <td>1</td>\n",
       "      <td>1</td>\n",
       "      <td>2</td>\n",
       "      <td>0</td>\n",
       "      <td>...</td>\n",
       "      <td>0</td>\n",
       "      <td>0</td>\n",
       "      <td>0</td>\n",
       "      <td>0</td>\n",
       "      <td>0</td>\n",
       "      <td>0</td>\n",
       "      <td>0</td>\n",
       "      <td>0</td>\n",
       "      <td>0</td>\n",
       "      <td>0</td>\n",
       "    </tr>\n",
       "    <tr>\n",
       "      <th>Tc</th>\n",
       "      <td>1</td>\n",
       "      <td>0</td>\n",
       "      <td>0</td>\n",
       "      <td>0</td>\n",
       "      <td>0</td>\n",
       "      <td>0</td>\n",
       "      <td>0</td>\n",
       "      <td>7</td>\n",
       "      <td>0</td>\n",
       "      <td>0</td>\n",
       "      <td>...</td>\n",
       "      <td>0</td>\n",
       "      <td>0</td>\n",
       "      <td>0</td>\n",
       "      <td>0</td>\n",
       "      <td>0</td>\n",
       "      <td>0</td>\n",
       "      <td>0</td>\n",
       "      <td>0</td>\n",
       "      <td>0</td>\n",
       "      <td>0</td>\n",
       "    </tr>\n",
       "    <tr>\n",
       "      <th>Pu</th>\n",
       "      <td>4</td>\n",
       "      <td>0</td>\n",
       "      <td>0</td>\n",
       "      <td>0</td>\n",
       "      <td>1</td>\n",
       "      <td>1</td>\n",
       "      <td>1</td>\n",
       "      <td>1</td>\n",
       "      <td>0</td>\n",
       "      <td>0</td>\n",
       "      <td>...</td>\n",
       "      <td>0</td>\n",
       "      <td>0</td>\n",
       "      <td>0</td>\n",
       "      <td>0</td>\n",
       "      <td>0</td>\n",
       "      <td>0</td>\n",
       "      <td>0</td>\n",
       "      <td>0</td>\n",
       "      <td>0</td>\n",
       "      <td>0</td>\n",
       "    </tr>\n",
       "  </tbody>\n",
       "</table>\n",
       "<p>5 rows × 83131 columns</p>\n",
       "</div>"
      ],
      "text/plain": [
       "    1O2  1Li1O4P1  2Si1  1Mg1  2Mg1  1Se2  1S1  1N1  1Mg2  2Mg1O4     ...      \\\n",
       "Os    2         0     0     0     0     1    0    6     0       0     ...       \n",
       "Be    0         0     1     0     0     0    1    0     0       0     ...       \n",
       "Th    1         0     0     0     0     1    1    1     2       0     ...       \n",
       "Tc    1         0     0     0     0     0    0    7     0       0     ...       \n",
       "Pu    4         0     0     0     1     1    1    1     0       0     ...       \n",
       "\n",
       "    11Ba2Mn2  6Ca1Ho1Sn2  6Bi2Ca1Ho1  4Mo1P1  6Ho1Sn2Zn1  2F11W2Y1  11Ba2W2Y1  \\\n",
       "Os         0           0           0       0           0         0          0   \n",
       "Be         0           0           0       0           0         0          0   \n",
       "Th         0           0           0       0           0         0          0   \n",
       "Tc         0           0           0       0           0         0          0   \n",
       "Pu         0           0           0       0           0         0          0   \n",
       "\n",
       "    8Ca1Mn2P2  2Ca1Mn2O8  6Ca1Cr2La1  \n",
       "Os          0          0           0  \n",
       "Be          0          0           0  \n",
       "Th          0          0           0  \n",
       "Tc          0          0           0  \n",
       "Pu          0          0           0  \n",
       "\n",
       "[5 rows x 83131 columns]"
      ]
     },
     "execution_count": 4,
     "metadata": {},
     "output_type": "execute_result"
    }
   ],
   "source": [
    "obj.tail()"
   ]
  },
  {
   "cell_type": "markdown",
   "metadata": {},
   "source": [
    "obj.head()"
   ]
  },
  {
   "cell_type": "code",
   "execution_count": 5,
   "metadata": {},
   "outputs": [
    {
     "data": {
      "text/plain": [
       "Index(['O', 'Li', 'Mg', 'P', 'F', 'Mn', 'Fe', 'Si', 'S', 'V', 'Cu', 'Co', 'Ni',\n",
       "       'Ca', 'Ba', 'Na', 'N', 'Ti', 'Cr', 'Zn', 'B', 'Al', 'K', 'Sn', 'Se',\n",
       "       'H', 'C', 'Sb', 'Ge', 'Bi', 'Sr', 'Cl', 'W', 'Mo', 'Te', 'Y', 'La',\n",
       "       'Rb', 'Nb', 'Ga', 'Ag', 'In', 'Cd', 'Cs', 'As', 'Ce', 'Pd', 'Zr', 'I',\n",
       "       'Tl', 'Au', 'Rh', 'Hf', 'Pb', 'Pt', 'Br', 'Ta', 'Nd', 'Hg', 'Sc', 'Sm',\n",
       "       'Ru', 'U', 'Pr', 'Ir', 'Yb', 'Ho', 'Er', 'Dy', 'Tb', 'Lu', 'Tm', 'Gd',\n",
       "       'Eu', 'Re', 'Os', 'Be', 'Th', 'Tc', 'Pu'],\n",
       "      dtype='object')"
      ]
     },
     "execution_count": 5,
     "metadata": {},
     "output_type": "execute_result"
    }
   ],
   "source": [
    "obj.index"
   ]
  },
  {
   "cell_type": "code",
   "execution_count": 6,
   "metadata": {},
   "outputs": [],
   "source": [
    "from scipy.sparse.linalg import svds, eigs\n",
    "from scipy.sparse import csc_matrix\n",
    "#do decompostion for certain matrix\n",
    "a=csc_matrix(obj, dtype=float)\n",
    "#a=svds(obj,k=10)\n",
    "u, s, vt = svds(a, k=10)"
   ]
  },
  {
   "cell_type": "code",
   "execution_count": 7,
   "metadata": {},
   "outputs": [],
   "source": [
    "#normalization\n",
    "from sklearn.preprocessing import normalize\n",
    "obj_raw_norm=normalize(obj, norm='l2', axis=1)\n",
    "#function usage\n",
    "#sklearn.preprocessing.normalize(X, norm=’l2’, axis=1, copy=True, return_norm=False)\n"
   ]
  },
  {
   "cell_type": "code",
   "execution_count": 8,
   "metadata": {},
   "outputs": [
    {
     "data": {
      "text/plain": [
       "array([[0.        , 0.        , 0.52252245, ..., 0.00185292, 0.        ,\n",
       "        0.00185292],\n",
       "       [0.01211749, 0.        , 0.00302937, ..., 0.        , 0.        ,\n",
       "        0.        ],\n",
       "       [0.00761448, 0.00380724, 0.13325334, ..., 0.        , 0.        ,\n",
       "        0.        ]])"
      ]
     },
     "execution_count": 8,
     "metadata": {},
     "output_type": "execute_result"
    }
   ],
   "source": [
    "#norm success, but the label and index are lost\n",
    "obj_raw_norm[:3]"
   ]
  },
  {
   "cell_type": "code",
   "execution_count": 9,
   "metadata": {},
   "outputs": [],
   "source": [
    "from scipy.sparse.linalg import svds, eigs\n",
    "from scipy.sparse import csc_matrix\n",
    "#do decompostion for obj_raw_norm\n",
    "a=csc_matrix(obj_raw_norm, dtype=float)\n",
    "#a=svds(obj,k=10)\n",
    "u, s, vt = svds(a, k=20)"
   ]
  },
  {
   "cell_type": "code",
   "execution_count": 10,
   "metadata": {},
   "outputs": [
    {
     "data": {
      "text/plain": [
       "(80, 20)"
      ]
     },
     "execution_count": 10,
     "metadata": {},
     "output_type": "execute_result"
    }
   ],
   "source": [
    "u.shape"
   ]
  },
  {
   "cell_type": "code",
   "execution_count": 11,
   "metadata": {},
   "outputs": [],
   "source": [
    "import numpy as np\n",
    "s_diagonal=np.diag(s)"
   ]
  },
  {
   "cell_type": "code",
   "execution_count": 12,
   "metadata": {},
   "outputs": [],
   "source": [
    "#get elements mapping value\n",
    "#F is matrix we want(for all elements)\n",
    "F=np.dot(u,s_diagonal)"
   ]
  },
  {
   "cell_type": "code",
   "execution_count": 13,
   "metadata": {},
   "outputs": [],
   "source": [
    "#select elements type from the paper and use pandas substract the raw number\n",
    "#try to use periodic table pick needed elements\n",
    "import pymatgen as mg\n",
    "from pymatgen.core import periodic_table, Element\n",
    "\n",
    "#build elements list from data(data's index)\n",
    "elements_list=list(obj.index)\n",
    "\n",
    "#select main group element\n",
    "#FIRST try select list from PNAS paper FIG.2.A\n",
    "\n",
    "#get main group list by pymatgen\n",
    "test=[\"Li\",\"Be\",\"B\",\"C\",\"N\",\"O\",\"F\"]\n",
    "group_main_list=[]\n",
    "for element_string in test:\n",
    "    Ele=Element(element_string)\n",
    "    group_main_list.append(Ele.group)\n",
    "\n",
    "#build elements_list_main, create subset of each group,catch them from elements_list\n",
    "#sort them by atom number, append the subset to element list\n",
    "\n",
    "elements_list_main=[]\n",
    "for group_number in group_main_list:\n",
    "    #creat subset\n",
    "    elements_sublist=[]\n",
    "    for raw_element in elements_list:\n",
    "        if Element(raw_element).group==group_number:\n",
    "            if Element(raw_element).number<57 or Element(raw_element).number>71:\n",
    "                elements_sublist.append(raw_element)\n",
    "    #sort subset\n",
    "    elements_sublist.sort(key=lambda x:Element(x).number)\n",
    "    #add subset to elements_list_main\n",
    "    elements_list_main+=elements_sublist\n",
    "    #elements_list_main.append(\"{}\".format(group_number))\n",
    "\n",
    "\n",
    "#apply the raw number to mapping value\n",
    "raw_number_list=[]\n",
    "for element_select in elements_list_main:\n",
    "    for raw_number in range(len(elements_list)):\n",
    "        if element_select==elements_list[raw_number]:\n",
    "            raw_number_list.append(raw_number)\n",
    "            \n",
    "    \n",
    "\n",
    "\n",
    "#draw the mapping(visualization)\n",
    "\n",
    "#perform pca and visualization\n"
   ]
  },
  {
   "cell_type": "code",
   "execution_count": 14,
   "metadata": {},
   "outputs": [
    {
     "data": {
      "text/plain": [
       "['H',\n",
       " 'Li',\n",
       " 'Na',\n",
       " 'K',\n",
       " 'Rb',\n",
       " 'Cs',\n",
       " 'Be',\n",
       " 'Mg',\n",
       " 'Ca',\n",
       " 'Sr',\n",
       " 'Ba',\n",
       " 'B',\n",
       " 'Al',\n",
       " 'Ga',\n",
       " 'In',\n",
       " 'Tl',\n",
       " 'C',\n",
       " 'Si',\n",
       " 'Ge',\n",
       " 'Sn',\n",
       " 'Pb',\n",
       " 'N',\n",
       " 'P',\n",
       " 'As',\n",
       " 'Sb',\n",
       " 'Bi',\n",
       " 'O',\n",
       " 'S',\n",
       " 'Se',\n",
       " 'Te',\n",
       " 'F',\n",
       " 'Cl',\n",
       " 'Br',\n",
       " 'I']"
      ]
     },
     "execution_count": 14,
     "metadata": {},
     "output_type": "execute_result"
    }
   ],
   "source": [
    "elements_list_main"
   ]
  },
  {
   "cell_type": "code",
   "execution_count": 15,
   "metadata": {},
   "outputs": [],
   "source": [
    "test=[\"Li\",\"Be\",\"B\",\"C\",\"N\",\"O\",\"F\"]\n",
    "group_main_list=[]\n",
    "for element_string in test:\n",
    "    Ele=Element(element_string)\n",
    "    group_main_list.append(Ele.group)"
   ]
  },
  {
   "cell_type": "code",
   "execution_count": 16,
   "metadata": {},
   "outputs": [],
   "source": [
    "F_main=F[raw_number_list,:]"
   ]
  },
  {
   "cell_type": "code",
   "execution_count": 17,
   "metadata": {},
   "outputs": [],
   "source": [
    "F_main.shape\n",
    "F_main_flip=np.flip(F_main,axis=1)"
   ]
  },
  {
   "cell_type": "code",
   "execution_count": 18,
   "metadata": {},
   "outputs": [
    {
     "data": {
      "text/plain": [
       "<Figure size 640x480 with 1 Axes>"
      ]
     },
     "metadata": {},
     "output_type": "display_data"
    }
   ],
   "source": [
    "import matplotlib.pyplot as plt\n",
    "fig=plt.imshow(F_main_flip, interpolation='nearest', cmap=\"rainbow\")\n",
    "plt.show(fig)"
   ]
  },
  {
   "cell_type": "code",
   "execution_count": 19,
   "metadata": {},
   "outputs": [
    {
     "data": {
      "image/png": "[encoded data removed]",
      "text/plain": [
       "<Figure size 432x288 with 2 Axes>"
      ]
     },
     "metadata": {},
     "output_type": "display_data"
    }
   ],
   "source": [
    "import numpy as np\n",
    "import matplotlib\n",
    "import matplotlib.pyplot as plt\n",
    "from matplotlib.pyplot import figure\n",
    "\n",
    "\n",
    "# sphinx_gallery_thumbnail_number = 2\n",
    "\n",
    "vegetables = elements_list_main\n",
    "farmers = list(range(1,21))\n",
    "\n",
    "harvest = F_main_flip\n",
    "\n",
    "\n",
    "fig, ax = plt.subplots()\n",
    "im = ax.imshow(harvest,aspect=20/34,cmap=\"PuOr\")\n",
    "#figure(num=None, figsize=(10, 20), dpi=1000, facecolor='w', edgecolor='k')\n",
    "# We want to show all ticks...\n",
    "ax.set_xticks(np.arange(len(farmers)))\n",
    "ax.set_yticks(np.arange(len(vegetables)))\n",
    "# ... and label them with the respective list entries\n",
    "ax.set_xticklabels(farmers)\n",
    "ax.set_yticklabels(vegetables,fontsize=7)\n",
    "fig.colorbar(im)\n",
    "# Rotate the tick labels and set their alignment.\n",
    "#plt.setp(ax.get_xticklabels(), rotation=45, ha=\"right\",\n",
    "         #rotation_mode=\"anchor\")\n",
    "\n",
    "# Loop over data dimensions and create text annotations.\n",
    "#for i in range(len(vegetables)):\n",
    "    #for j in range(len(farmers)):\n",
    "        #text = ax.text(j, i, harvest[i, j],\n",
    "                       #ha=\"center\", va=\"center\", color=\"w\")\n",
    "\n",
    "ax.set_title(\"Elements vector\")\n",
    "#fig.tight_layout()\n",
    "plt.show()\n",
    "fig.savefig(\"test.png\",format=\"png\",dpi=1000)"
   ]
  },
  {
   "cell_type": "code",
   "execution_count": 55,
   "metadata": {},
   "outputs": [
    {
     "data": {
      "image/png": "[encoded data removed]",
      "text/plain": [
       "<Figure size 432x288 with 1 Axes>"
      ]
     },
     "metadata": {},
     "output_type": "display_data"
    }
   ],
   "source": [
    "from sklearn.decomposition import PCA\n",
    "import numpy as np\n",
    "import numpy as np\n",
    "import matplotlib\n",
    "import matplotlib.pyplot as plt\n",
    "from matplotlib.pyplot import figure\n",
    "#sklearn.decomposition.PCA(n_components=None, copy=True, whiten=False)\n",
    "pca=PCA(n_components=None, copy=True, whiten=False)\n",
    "\n",
    "F_main_flip=np.loadtxt('SVD_main_group.txt')\n",
    "pcaTransformed_lat = pca.fit_transform(F_main_flip)\n",
    "first2pca = pcaTransformed_lat[:,:2]\n",
    "data_main = first2pca[:,:]\n",
    "data_main.shape\n",
    "#data_main_flip=np.flip(data_main,axis=1)\n",
    "\n",
    "#'b', 'g', 'r', 'c', 'm', 'y', 'k', 'w'\n",
    "'''\n",
    "elements_list_main[0:6]\n",
    "elements_list_main[6:11]\n",
    "elements_list_main[11:16]\n",
    "elements_list_main[16:21]\n",
    "elements_list_main[21:26]\n",
    "elements_list_main[26:30]\n",
    "elements_list_main[30:]\n",
    "'''\n",
    "fig,ax= plt.subplots()\n",
    "ax.scatter(data_main[:6,0],data_main[:6,1],color='b')\n",
    "ax.scatter(data_main[6:11,0],data_main[6:11,1],color='g')\n",
    "ax.scatter(data_main[11:16,0],data_main[11:16,1],color='r')\n",
    "ax.scatter(data_main[16:21,0],data_main[16:21,1],color='c')\n",
    "ax.scatter(data_main[21:26,0],data_main[21:26,1],color='m')\n",
    "ax.scatter(data_main[26:30,0],data_main[26:30,1],color='y')\n",
    "ax.scatter(data_main[30:,0],data_main[30:,1],color='k')\n",
    "#plt.xlim(-0.4,0.75)\n",
    "#plt.ylim(-0.5,0.75)\n",
    "for i in range(len(elements_list_main)):\n",
    "    txt = elements_list_main[i]\n",
    "    ax.annotate(txt, (data_main[i,0], data_main[i,1]))\n",
    "plt.xlabel(\"PCA1(15.95%)\")\n",
    "plt.ylabel(\"PCA2(14.67%)\")\n",
    "fig.savefig(\"S_SVD.png\",format=\"png\",dpi=1000)"
   ]
  },
  {
   "cell_type": "code",
   "execution_count": 48,
   "metadata": {},
   "outputs": [
    {
     "data": {
      "text/plain": [
       "['F', 'Cl', 'Br', 'I']"
      ]
     },
     "execution_count": 48,
     "metadata": {},
     "output_type": "execute_result"
    }
   ],
   "source": [
    "first2pca.shape\n",
    "elements_list_main\n",
    "elements_list_main[0:6]\n",
    "elements_list_main[6:11]\n",
    "elements_list_main[11:16]\n",
    "elements_list_main[16:21]\n",
    "elements_list_main[21:26]\n",
    "elements_list_main[26:30]\n",
    "elements_list_main[30:]"
   ]
  },
  {
   "cell_type": "code",
   "execution_count": 21,
   "metadata": {},
   "outputs": [
    {
     "data": {
      "text/plain": [
       "['H',\n",
       " 'Li',\n",
       " 'Na',\n",
       " 'K',\n",
       " 'Rb',\n",
       " 'Cs',\n",
       " 'Be',\n",
       " 'Mg',\n",
       " 'Ca',\n",
       " 'Sr',\n",
       " 'Ba',\n",
       " 'B',\n",
       " 'Al',\n",
       " 'Ga',\n",
       " 'In',\n",
       " 'Tl',\n",
       " 'C',\n",
       " 'Si',\n",
       " 'Ge',\n",
       " 'Sn',\n",
       " 'Pb',\n",
       " 'N',\n",
       " 'P',\n",
       " 'As',\n",
       " 'Sb',\n",
       " 'Bi',\n",
       " 'O',\n",
       " 'S',\n",
       " 'Se',\n",
       " 'Te',\n",
       " 'F',\n",
       " 'Cl',\n",
       " 'Br',\n",
       " 'I']"
      ]
     },
     "execution_count": 21,
     "metadata": {},
     "output_type": "execute_result"
    }
   ],
   "source": [
    "#this is the y-axis elements\n",
    "elements_list_main"
   ]
  },
  {
   "cell_type": "code",
   "execution_count": 22,
   "metadata": {},
   "outputs": [],
   "source": [
    "#flip the F to make the largest singular value at first\n",
    "F_flip=np.flip(F,axis=1)\n",
    "\n",
    "#store the SVD original matrix and processed matrix\n",
    "\n"
   ]
  },
  {
   "cell_type": "code",
   "execution_count": 23,
   "metadata": {},
   "outputs": [
    {
     "name": "stdout",
     "output_type": "stream",
     "text": [
      "(80, 20)\n",
      "(34, 20)\n"
     ]
    }
   ],
   "source": [
    "#print the matrix shape of both matrixs\n",
    "print(F_flip.shape)\n",
    "print(F_main_flip.shape)"
   ]
  },
  {
   "cell_type": "code",
   "execution_count": 24,
   "metadata": {},
   "outputs": [],
   "source": [
    "#store data\n",
    "np.savetxt('SVD_original.txt', F_flip)\n",
    "np.savetxt('SVD_main_group.txt', F_main_flip)\n",
    "\n",
    "\n",
    "\n",
    "\n",
    "\n",
    "\n",
    "\n"
   ]
  },
  {
   "cell_type": "code",
   "execution_count": 25,
   "metadata": {},
   "outputs": [],
   "source": [
    "#get the required dataset of ABC2D6(formation energy and elements)\n",
    "#do a full rotation to match formula and use space group to make sure the structure  \n",
    "#build the model "
   ]
  },
  {
   "cell_type": "code",
   "execution_count": 26,
   "metadata": {},
   "outputs": [
    {
     "data": {
      "text/plain": [
       "(34, 20)"
      ]
     },
     "execution_count": 26,
     "metadata": {},
     "output_type": "execute_result"
    }
   ],
   "source": [
    " F_main_flip.shape"
   ]
  },
  {
   "cell_type": "code",
   "execution_count": 27,
   "metadata": {},
   "outputs": [],
   "source": [
    "from sklearn.decomposition import PCA\n",
    "#sklearn.decomposition.PCA(n_components=None, copy=True, whiten=False)\n",
    "pca=PCA(n_components=None, copy=True, whiten=False)"
   ]
  },
  {
   "cell_type": "code",
   "execution_count": 28,
   "metadata": {},
   "outputs": [
    {
     "data": {
      "text/plain": [
       "PCA(copy=True, iterated_power='auto', n_components=None, random_state=None,\n",
       "  svd_solver='auto', tol=0.0, whiten=False)"
      ]
     },
     "execution_count": 28,
     "metadata": {},
     "output_type": "execute_result"
    }
   ],
   "source": [
    "pca.fit(F_main_flip)"
   ]
  },
  {
   "cell_type": "code",
   "execution_count": 29,
   "metadata": {},
   "outputs": [
    {
     "data": {
      "text/plain": [
       "array([0.06655187, 0.06119614, 0.04549465, 0.04336116, 0.03560791,\n",
       "       0.0331084 , 0.02876628, 0.02711044, 0.02528015, 0.02361498,\n",
       "       0.00919246, 0.00532335, 0.00413241, 0.00348022, 0.00221443,\n",
       "       0.00140601, 0.00057528, 0.00037117, 0.00026354, 0.00014534])"
      ]
     },
     "execution_count": 29,
     "metadata": {},
     "output_type": "execute_result"
    }
   ],
   "source": [
    "pca.explained_variance_"
   ]
  },
  {
   "cell_type": "code",
   "execution_count": 30,
   "metadata": {},
   "outputs": [
    {
     "data": {
      "text/plain": [
       "array([0.15952177, 0.14668433, 0.10904859, 0.10393471, 0.08535051,\n",
       "       0.0793593 , 0.06895144, 0.06498247, 0.06059535, 0.05660403,\n",
       "       0.0220339 , 0.01275982, 0.00990521, 0.00834193, 0.00530789,\n",
       "       0.00337013, 0.00137891, 0.00088967, 0.00063169, 0.00034837])"
      ]
     },
     "execution_count": 30,
     "metadata": {},
     "output_type": "execute_result"
    }
   ],
   "source": [
    "pca.explained_variance_ratio_"
   ]
  },
  {
   "cell_type": "code",
   "execution_count": 31,
   "metadata": {},
   "outputs": [],
   "source": [
    "pca=PCA(n_components=4, copy=True, whiten=True)"
   ]
  },
  {
   "cell_type": "code",
   "execution_count": 32,
   "metadata": {},
   "outputs": [
    {
     "data": {
      "text/plain": [
       "PCA(copy=True, iterated_power='auto', n_components=4, random_state=None,\n",
       "  svd_solver='auto', tol=0.0, whiten=True)"
      ]
     },
     "execution_count": 32,
     "metadata": {},
     "output_type": "execute_result"
    }
   ],
   "source": [
    "pca.fit(F_main_flip)"
   ]
  },
  {
   "cell_type": "code",
   "execution_count": 33,
   "metadata": {},
   "outputs": [
    {
     "data": {
      "text/plain": [
       "array([0.06655187, 0.06119614, 0.04549465, 0.04336116])"
      ]
     },
     "execution_count": 33,
     "metadata": {},
     "output_type": "execute_result"
    }
   ],
   "source": [
    "pca.explained_variance_"
   ]
  },
  {
   "cell_type": "code",
   "execution_count": 34,
   "metadata": {},
   "outputs": [
    {
     "data": {
      "image/png": "[encoded data removed]",
      "text/plain": [
       "<Figure size 432x288 with 1 Axes>"
      ]
     },
     "metadata": {},
     "output_type": "display_data"
    }
   ],
   "source": [
    "#daw a PCA1 and PCA2 plot,add percent\n",
    "from sklearn.decomposition import PCA\n",
    "import numpy as np\n",
    "#sklearn.decomposition.PCA(n_components=None, copy=True, whiten=False)\n",
    "pca=PCA(n_components=None, copy=True, whiten=False)\n",
    "\n",
    "F_main_flip=np.loadtxt('SVD_main_group.txt')\n",
    "pcaTransformed_lat = pca.fit_transform(F_main_flip)\n",
    "first2pca = pcaTransformed_lat[:,:2]\n",
    "data_main = first2pca[:,:]\n",
    "data_main.shape\n",
    "data_main_flip=np.flip(data_main,axis=1)\n",
    "\n",
    "plt.show(fig)\n",
    "fig = plt.figure()\n",
    "ax = fig.add_subplot(111)\n",
    "\n",
    "ax.scatter(data_main[:,0],data_main[:,1],label='1st two svd components')\n",
    "#plt.xlim(-0.4,0.75)\n",
    "#plt.ylim(-0.5,0.75)\n",
    "for i in range(len(elements_list_main)):\n",
    "    txt = elements_list_main[i]\n",
    "    ax.annotate(txt, (data_main[i,0], data_main[i,1]))"
   ]
  },
  {
   "cell_type": "code",
   "execution_count": 35,
   "metadata": {},
   "outputs": [
    {
     "data": {
      "image/png": "[encoded data removed]",
      "text/plain": [
       "<Figure size 432x288 with 1 Axes>"
      ]
     },
     "metadata": {},
     "output_type": "display_data"
    },
    {
     "data": {
      "image/png": "[encoded data removed]",
      "text/plain": [
       "<Figure size 432x288 with 1 Axes>"
      ]
     },
     "metadata": {},
     "output_type": "display_data"
    }
   ],
   "source": [
    "from sklearn.decomposition import PCA\n",
    "import numpy as np\n",
    "#sklearn.decomposition.PCA(n_components=None, copy=True, whiten=False)\n",
    "pca=PCA(n_components=None, copy=True, whiten=True)\n",
    "\n",
    "F_main_flip=np.loadtxt('SVD_main_group.txt')\n",
    "pcaTransformed_lat = pca.fit_transform(F_main_flip)\n",
    "first2pca = pcaTransformed_lat[:,:2]\n",
    "data_main = first2pca[:,:]\n",
    "data_main.shape\n",
    "data_main_flip=np.flip(data_main,axis=1)\n",
    "fig=plt.imshow(data_main_flip, interpolation='nearest', cmap=\"rainbow\")\n",
    "plt.show(fig)\n",
    "\n",
    "fig = plt.figure()\n",
    "ax = fig.add_subplot(111)\n",
    "\n",
    "\n",
    "\n",
    "ax.scatter(data_main[:,0],data_main[:,1],label='1st two svd components')\n",
    "#plt.xlim(-0.4,0.75)\n",
    "#plt.ylim(-0.5,0.75)\n",
    "for i in range(len(elements_list_main)):\n",
    "    txt = elements_list_main[i]\n",
    "    ax.annotate(txt, (data_main[i,0], data_main[i,1]))"
   ]
  },
  {
   "cell_type": "code",
   "execution_count": null,
   "metadata": {},
   "outputs": [],
   "source": []
  }
 ],
 "metadata": {
  "kernelspec": {
   "display_name": "Python 3",
   "language": "python",
   "name": "python3"
  },
  "language_info": {
   "codemirror_mode": {
    "name": "ipython",
    "version": 3
   },
   "file_extension": ".py",
   "mimetype": "text/x-python",
   "name": "python",
   "nbconvert_exporter": "python",
   "pygments_lexer": "ipython3",
   "version": "3.6.5"
  }
 },
 "nbformat": 4,
 "nbformat_minor": 2
}
