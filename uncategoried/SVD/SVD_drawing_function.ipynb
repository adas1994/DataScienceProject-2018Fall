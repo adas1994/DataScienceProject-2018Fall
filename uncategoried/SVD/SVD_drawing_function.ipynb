{
 "cells": [
  {
   "cell_type": "code",
   "execution_count": null,
   "metadata": {},
   "outputs": [],
   "source": [
    "\n"
   ]
  },
  {
   "cell_type": "code",
   "execution_count": null,
   "metadata": {},
   "outputs": [],
   "source": []
  },
  {
   "cell_type": "code",
   "execution_count": null,
   "metadata": {},
   "outputs": [],
   "source": []
  },
  {
   "cell_type": "code",
   "execution_count": null,
   "metadata": {},
   "outputs": [],
   "source": []
  },
  {
   "cell_type": "code",
   "execution_count": 3,
   "metadata": {},
   "outputs": [],
   "source": [
    "def draw_scatter(ax,path='just_aed_20rep.txt'):\n",
    "    from pymatgen import Composition, Element\n",
    "    import numpy as np\n",
    "    import matplotlib\n",
    "    import matplotlib.pyplot as plt\n",
    "    from matplotlib.pyplot import figure\n",
    "\n",
    "\n",
    "    #load main group element\n",
    "    with open(\"elements_list_main.txt\", \"r\") as text_file:\n",
    "        a=text_file.read()\n",
    "    elements_list_main=a.split()\n",
    "\n",
    "    #load vector matrix\n",
    "    #F should be 80*20\n",
    "    F=np.loadtxt(path)\n",
    "    F.shape\n",
    "    G=F\n",
    "    raw_number_list=[25, 1,15,22,37,43, 76, 2, 13, 30, 14, 20, 21, 39, 41, 49, 26, 7, 28, 23, 53, 16, 3, 44, 27, 29, 0, 8, 24, 34, 4, 31, 55, 48]\n",
    "    F=F[raw_number_list,:]\n",
    "    #normalize F\n",
    "    from sklearn.preprocessing import normalize\n",
    "    F_norm=normalize(F, norm='l2', axis=1)\n",
    "    F=F_norm\n",
    "\n",
    "\n",
    "\n",
    "\n",
    "    # sphinx_gallery_thumbnail_number = 2\n",
    "\n",
    "    vegetables = elements_list_main\n",
    "    farmers = list(range(1,21))\n",
    "\n",
    "    harvest = F\n",
    "\n",
    "\n",
    "    im = ax.imshow(harvest,aspect=20/34,cmap=\"PuOr\")\n",
    "    #figure(num=None, figsize=(10, 20), dpi=1000, facecolor='w', edgecolor='k')\n",
    "    # We want to show all ticks...\n",
    "    ax.set_xticks(np.arange(len(farmers)))\n",
    "    ax.set_yticks(np.arange(len(vegetables)))\n",
    "    # ... and label them with the respective list entries\n",
    "    ax.set_xticklabels(farmers)\n",
    "    ax.set_yticklabels(vegetables,fontsize=7)\n",
    "    fig.colorbar(im)\n",
    "    # Rotate the tick labels and set their alignment.\n",
    "    #plt.setp(ax.get_xticklabels(), rotation=45, ha=\"right\",\n",
    "             #rotation_mode=\"anchor\")\n",
    "\n",
    "    # Loop over data dimensions and create text annotations.\n",
    "    #for i in range(len(vegetables)):\n",
    "        #for j in range(len(farmers)):\n",
    "            #text = ax.text(j, i, harvest[i, j],\n",
    "                           #ha=\"center\", va=\"center\", color=\"w\")\n",
    "\n",
    "    ax.set_title(\"Elements vector\")\n",
    "    #fig.tight_layout()\n",
    "    #plt.show()\n",
    "    #fig.savefig(\"test.png\",format=\"png\",dpi=1000)"
   ]
  },
  {
   "cell_type": "code",
   "execution_count": 4,
   "metadata": {},
   "outputs": [
    {
     "ename": "NameError",
     "evalue": "name 'ax' is not defined",
     "output_type": "error",
     "traceback": [
      "\u001b[0;31m---------------------------------------------------------------------------\u001b[0m",
      "\u001b[0;31mNameError\u001b[0m                                 Traceback (most recent call last)",
      "\u001b[0;32m<ipython-input-4-239bcbb5b6d8>\u001b[0m in \u001b[0;36m<module>\u001b[0;34m()\u001b[0m\n\u001b[0;32m----> 1\u001b[0;31m \u001b[0max_combo_colormap\u001b[0m\u001b[0;34m=\u001b[0m\u001b[0max\u001b[0m\u001b[0;34m\u001b[0m\u001b[0m\n\u001b[0m\u001b[1;32m      2\u001b[0m \u001b[0mfigure_combo_colormap\u001b[0m\u001b[0;34m=\u001b[0m\u001b[0mfig\u001b[0m\u001b[0;34m\u001b[0m\u001b[0m\n",
      "\u001b[0;31mNameError\u001b[0m: name 'ax' is not defined"
     ]
    }
   ],
   "source": [
    "ax_combo_colormap=ax\n",
    "figure_combo_colormap=fig"
   ]
  },
  {
   "cell_type": "code",
   "execution_count": 5,
   "metadata": {},
   "outputs": [
    {
     "ename": "NameError",
     "evalue": "name 'F' is not defined",
     "output_type": "error",
     "traceback": [
      "\u001b[0;31m---------------------------------------------------------------------------\u001b[0m",
      "\u001b[0;31mNameError\u001b[0m                                 Traceback (most recent call last)",
      "\u001b[0;32m<ipython-input-5-753ff982eedf>\u001b[0m in \u001b[0;36m<module>\u001b[0;34m()\u001b[0m\n\u001b[1;32m      8\u001b[0m \u001b[0mpca\u001b[0m\u001b[0;34m=\u001b[0m\u001b[0mPCA\u001b[0m\u001b[0;34m(\u001b[0m\u001b[0mn_components\u001b[0m\u001b[0;34m=\u001b[0m\u001b[0;32mNone\u001b[0m\u001b[0;34m,\u001b[0m \u001b[0mcopy\u001b[0m\u001b[0;34m=\u001b[0m\u001b[0;32mTrue\u001b[0m\u001b[0;34m,\u001b[0m \u001b[0mwhiten\u001b[0m\u001b[0;34m=\u001b[0m\u001b[0;32mFalse\u001b[0m\u001b[0;34m)\u001b[0m\u001b[0;34m\u001b[0m\u001b[0m\n\u001b[1;32m      9\u001b[0m \u001b[0;34m\u001b[0m\u001b[0m\n\u001b[0;32m---> 10\u001b[0;31m \u001b[0mpcaTransformed_lat\u001b[0m \u001b[0;34m=\u001b[0m \u001b[0mpca\u001b[0m\u001b[0;34m.\u001b[0m\u001b[0mfit_transform\u001b[0m\u001b[0;34m(\u001b[0m\u001b[0mF\u001b[0m\u001b[0;34m)\u001b[0m\u001b[0;34m\u001b[0m\u001b[0m\n\u001b[0m\u001b[1;32m     11\u001b[0m \u001b[0mfirst2pca\u001b[0m \u001b[0;34m=\u001b[0m \u001b[0mpcaTransformed_lat\u001b[0m\u001b[0;34m[\u001b[0m\u001b[0;34m:\u001b[0m\u001b[0;34m,\u001b[0m\u001b[0;34m:\u001b[0m\u001b[0;36m2\u001b[0m\u001b[0;34m]\u001b[0m\u001b[0;34m\u001b[0m\u001b[0m\n\u001b[1;32m     12\u001b[0m \u001b[0mdata_main\u001b[0m \u001b[0;34m=\u001b[0m \u001b[0mfirst2pca\u001b[0m\u001b[0;34m[\u001b[0m\u001b[0;34m:\u001b[0m\u001b[0;34m,\u001b[0m\u001b[0;34m:\u001b[0m\u001b[0;34m]\u001b[0m\u001b[0;34m\u001b[0m\u001b[0m\n",
      "\u001b[0;31mNameError\u001b[0m: name 'F' is not defined"
     ]
    }
   ],
   "source": [
    "from sklearn.decomposition import PCA\n",
    "import numpy as np\n",
    "import numpy as np\n",
    "import matplotlib\n",
    "import matplotlib.pyplot as plt\n",
    "from matplotlib.pyplot import figure\n",
    "#sklearn.decomposition.PCA(n_components=None, copy=True, whiten=False)\n",
    "pca=PCA(n_components=None, copy=True, whiten=False)\n",
    "\n",
    "pcaTransformed_lat = pca.fit_transform(F)\n",
    "first2pca = pcaTransformed_lat[:,:2]\n",
    "data_main = first2pca[:,:]\n",
    "data_main.shape\n",
    "#data_main_flip=np.flip(data_main,axis=1)\n",
    "\n",
    "#'b', 'g', 'r', 'c', 'm', 'y', 'k', 'w'\n",
    "'''\n",
    "elements_list_main[0:6]\n",
    "elements_list_main[6:11]\n",
    "elements_list_main[11:16]\n",
    "elements_list_main[16:21]\n",
    "elements_list_main[21:26]\n",
    "elements_list_main[26:30]\n",
    "elements_list_main[30:]\n",
    "'''\n",
    "fig,ax= plt.subplots()\n",
    "ax.scatter(data_main[:6,0],data_main[:6,1],color='b')\n",
    "ax.scatter(data_main[6:11,0],data_main[6:11,1],color='g')\n",
    "ax.scatter(data_main[11:16,0],data_main[11:16,1],color='r')\n",
    "ax.scatter(data_main[16:21,0],data_main[16:21,1],color='c')\n",
    "ax.scatter(data_main[21:26,0],data_main[21:26,1],color='m')\n",
    "ax.scatter(data_main[26:30,0],data_main[26:30,1],color='y')\n",
    "ax.scatter(data_main[30:,0],data_main[30:,1],color='k')\n",
    "#plt.xlim(-0.4,0.75)\n",
    "#plt.ylim(-0.5,0.75)\n",
    "for i in range(len(elements_list_main)):\n",
    "    txt = elements_list_main[i]\n",
    "    ax.annotate(txt, (data_main[i,0], data_main[i,1]))\n",
    "plt.xlabel(\"PCA1(25.52%)\")\n",
    "plt.ylabel(\"PCA2(15.76%)\")\n",
    "fig.savefig(\"S_SVD.png\",format=\"png\",dpi=1000)"
   ]
  },
  {
   "cell_type": "code",
   "execution_count": null,
   "metadata": {},
   "outputs": [],
   "source": [
    "pca.explained_variance_ratio_"
   ]
  },
  {
   "cell_type": "code",
   "execution_count": null,
   "metadata": {},
   "outputs": [],
   "source": [
    "ax_combo_scatter=ax\n",
    "figure_combo_scatter=fig"
   ]
  },
  {
   "cell_type": "code",
   "execution_count": null,
   "metadata": {},
   "outputs": [],
   "source": [
    "plt.close(\"all\")\n",
    "fig, ((ax1, ax2), (ax3, ax4)) = plt.subplots(nrows=2, ncols=2)\n",
    "draw_scatter(ax1)\n",
    "draw_scatter(ax2)"
   ]
  },
  {
   "cell_type": "code",
   "execution_count": null,
   "metadata": {},
   "outputs": [],
   "source": [
    "draw_scatter(ax1)"
   ]
  },
  {
   "cell_type": "code",
   "execution_count": null,
   "metadata": {},
   "outputs": [],
   "source": []
  }
 ],
 "metadata": {
  "kernelspec": {
   "display_name": "Python 3",
   "language": "python",
   "name": "python3"
  },
  "language_info": {
   "codemirror_mode": {
    "name": "ipython",
    "version": 3
   },
   "file_extension": ".py",
   "mimetype": "text/x-python",
   "name": "python",
   "nbconvert_exporter": "python",
   "pygments_lexer": "ipython3",
   "version": "3.6.5"
  }
 },
 "nbformat": 4,
 "nbformat_minor": 2
}
