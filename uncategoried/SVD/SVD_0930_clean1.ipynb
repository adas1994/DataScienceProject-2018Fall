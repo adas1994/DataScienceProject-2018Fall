{
 "cells": [
  {
   "cell_type": "code",
   "execution_count": 3,
   "metadata": {},
   "outputs": [
    {
     "data": {
      "text/html": [
       "<div>\n",
       "<style scoped>\n",
       "    .dataframe tbody tr th:only-of-type {\n",
       "        vertical-align: middle;\n",
       "    }\n",
       "\n",
       "    .dataframe tbody tr th {\n",
       "        vertical-align: top;\n",
       "    }\n",
       "\n",
       "    .dataframe thead th {\n",
       "        text-align: right;\n",
       "    }\n",
       "</style>\n",
       "<table border=\"1\" class=\"dataframe\">\n",
       "  <thead>\n",
       "    <tr style=\"text-align: right;\">\n",
       "      <th></th>\n",
       "      <th>1O2</th>\n",
       "      <th>1Li1O4P1</th>\n",
       "      <th>2Si1</th>\n",
       "      <th>1Mg1</th>\n",
       "      <th>2Mg1</th>\n",
       "      <th>1Se2</th>\n",
       "      <th>1S1</th>\n",
       "      <th>1N1</th>\n",
       "      <th>1Mg2</th>\n",
       "      <th>2Mg1O4</th>\n",
       "      <th>...</th>\n",
       "      <th>11Ba2Mn2</th>\n",
       "      <th>6Ca1Ho1Sn2</th>\n",
       "      <th>6Bi2Ca1Ho1</th>\n",
       "      <th>4Mo1P1</th>\n",
       "      <th>6Ho1Sn2Zn1</th>\n",
       "      <th>2F11W2Y1</th>\n",
       "      <th>11Ba2W2Y1</th>\n",
       "      <th>8Ca1Mn2P2</th>\n",
       "      <th>2Ca1Mn2O8</th>\n",
       "      <th>6Ca1Cr2La1</th>\n",
       "    </tr>\n",
       "  </thead>\n",
       "  <tbody>\n",
       "    <tr>\n",
       "      <th>O</th>\n",
       "      <td>0</td>\n",
       "      <td>0</td>\n",
       "      <td>282</td>\n",
       "      <td>7</td>\n",
       "      <td>2</td>\n",
       "      <td>0</td>\n",
       "      <td>0</td>\n",
       "      <td>2</td>\n",
       "      <td>0</td>\n",
       "      <td>0</td>\n",
       "      <td>...</td>\n",
       "      <td>0</td>\n",
       "      <td>1</td>\n",
       "      <td>1</td>\n",
       "      <td>1</td>\n",
       "      <td>1</td>\n",
       "      <td>0</td>\n",
       "      <td>0</td>\n",
       "      <td>1</td>\n",
       "      <td>0</td>\n",
       "      <td>1</td>\n",
       "    </tr>\n",
       "    <tr>\n",
       "      <th>Li</th>\n",
       "      <td>4</td>\n",
       "      <td>0</td>\n",
       "      <td>1</td>\n",
       "      <td>17</td>\n",
       "      <td>12</td>\n",
       "      <td>0</td>\n",
       "      <td>2</td>\n",
       "      <td>1</td>\n",
       "      <td>15</td>\n",
       "      <td>0</td>\n",
       "      <td>...</td>\n",
       "      <td>0</td>\n",
       "      <td>0</td>\n",
       "      <td>0</td>\n",
       "      <td>0</td>\n",
       "      <td>0</td>\n",
       "      <td>0</td>\n",
       "      <td>0</td>\n",
       "      <td>0</td>\n",
       "      <td>0</td>\n",
       "      <td>0</td>\n",
       "    </tr>\n",
       "    <tr>\n",
       "      <th>Mg</th>\n",
       "      <td>2</td>\n",
       "      <td>1</td>\n",
       "      <td>35</td>\n",
       "      <td>0</td>\n",
       "      <td>0</td>\n",
       "      <td>0</td>\n",
       "      <td>2</td>\n",
       "      <td>0</td>\n",
       "      <td>0</td>\n",
       "      <td>0</td>\n",
       "      <td>...</td>\n",
       "      <td>0</td>\n",
       "      <td>0</td>\n",
       "      <td>0</td>\n",
       "      <td>0</td>\n",
       "      <td>0</td>\n",
       "      <td>0</td>\n",
       "      <td>0</td>\n",
       "      <td>0</td>\n",
       "      <td>0</td>\n",
       "      <td>0</td>\n",
       "    </tr>\n",
       "    <tr>\n",
       "      <th>P</th>\n",
       "      <td>1</td>\n",
       "      <td>0</td>\n",
       "      <td>2</td>\n",
       "      <td>1</td>\n",
       "      <td>0</td>\n",
       "      <td>0</td>\n",
       "      <td>1</td>\n",
       "      <td>0</td>\n",
       "      <td>0</td>\n",
       "      <td>0</td>\n",
       "      <td>...</td>\n",
       "      <td>0</td>\n",
       "      <td>0</td>\n",
       "      <td>0</td>\n",
       "      <td>0</td>\n",
       "      <td>0</td>\n",
       "      <td>0</td>\n",
       "      <td>0</td>\n",
       "      <td>0</td>\n",
       "      <td>1</td>\n",
       "      <td>0</td>\n",
       "    </tr>\n",
       "    <tr>\n",
       "      <th>F</th>\n",
       "      <td>0</td>\n",
       "      <td>0</td>\n",
       "      <td>0</td>\n",
       "      <td>0</td>\n",
       "      <td>5</td>\n",
       "      <td>0</td>\n",
       "      <td>0</td>\n",
       "      <td>1</td>\n",
       "      <td>0</td>\n",
       "      <td>0</td>\n",
       "      <td>...</td>\n",
       "      <td>1</td>\n",
       "      <td>0</td>\n",
       "      <td>0</td>\n",
       "      <td>0</td>\n",
       "      <td>0</td>\n",
       "      <td>0</td>\n",
       "      <td>1</td>\n",
       "      <td>0</td>\n",
       "      <td>0</td>\n",
       "      <td>0</td>\n",
       "    </tr>\n",
       "  </tbody>\n",
       "</table>\n",
       "<p>5 rows × 83131 columns</p>\n",
       "</div>"
      ],
      "text/plain": [
       "    1O2  1Li1O4P1  2Si1  1Mg1  2Mg1  1Se2  1S1  1N1  1Mg2  2Mg1O4     ...      \\\n",
       "O     0         0   282     7     2     0    0    2     0       0     ...       \n",
       "Li    4         0     1    17    12     0    2    1    15       0     ...       \n",
       "Mg    2         1    35     0     0     0    2    0     0       0     ...       \n",
       "P     1         0     2     1     0     0    1    0     0       0     ...       \n",
       "F     0         0     0     0     5     0    0    1     0       0     ...       \n",
       "\n",
       "    11Ba2Mn2  6Ca1Ho1Sn2  6Bi2Ca1Ho1  4Mo1P1  6Ho1Sn2Zn1  2F11W2Y1  11Ba2W2Y1  \\\n",
       "O          0           1           1       1           1         0          0   \n",
       "Li         0           0           0       0           0         0          0   \n",
       "Mg         0           0           0       0           0         0          0   \n",
       "P          0           0           0       0           0         0          0   \n",
       "F          1           0           0       0           0         0          1   \n",
       "\n",
       "    8Ca1Mn2P2  2Ca1Mn2O8  6Ca1Cr2La1  \n",
       "O           1          0           1  \n",
       "Li          0          0           0  \n",
       "Mg          0          0           0  \n",
       "P           0          1           0  \n",
       "F           0          0           0  \n",
       "\n",
       "[5 rows x 83131 columns]"
      ]
     },
     "execution_count": 3,
     "metadata": {},
     "output_type": "execute_result"
    }
   ],
   "source": [
    "import pandas as pd\n",
    "obj=pd.read_csv('first_Matrix_09_13_2018.csv',index_col=0)\n",
    "obj.head()"
   ]
  },
  {
   "cell_type": "code",
   "execution_count": 4,
   "metadata": {},
   "outputs": [
    {
     "data": {
      "text/plain": [
       "1O2           0\n",
       "1Li1O4P1      0\n",
       "2Si1        282\n",
       "1Mg1          7\n",
       "2Mg1          2\n",
       "Name: O, dtype: int64"
      ]
     },
     "execution_count": 4,
     "metadata": {},
     "output_type": "execute_result"
    }
   ],
   "source": [
    "obj.loc[\"O\",:].head()"
   ]
  },
  {
   "cell_type": "code",
   "execution_count": 5,
   "metadata": {},
   "outputs": [
    {
     "data": {
      "text/html": [
       "<div>\n",
       "<style scoped>\n",
       "    .dataframe tbody tr th:only-of-type {\n",
       "        vertical-align: middle;\n",
       "    }\n",
       "\n",
       "    .dataframe tbody tr th {\n",
       "        vertical-align: top;\n",
       "    }\n",
       "\n",
       "    .dataframe thead th {\n",
       "        text-align: right;\n",
       "    }\n",
       "</style>\n",
       "<table border=\"1\" class=\"dataframe\">\n",
       "  <thead>\n",
       "    <tr style=\"text-align: right;\">\n",
       "      <th></th>\n",
       "      <th>1O2</th>\n",
       "      <th>1Li1O4P1</th>\n",
       "      <th>2Si1</th>\n",
       "      <th>1Mg1</th>\n",
       "      <th>2Mg1</th>\n",
       "      <th>1Se2</th>\n",
       "      <th>1S1</th>\n",
       "      <th>1N1</th>\n",
       "      <th>1Mg2</th>\n",
       "      <th>2Mg1O4</th>\n",
       "      <th>...</th>\n",
       "      <th>11Ba2Mn2</th>\n",
       "      <th>6Ca1Ho1Sn2</th>\n",
       "      <th>6Bi2Ca1Ho1</th>\n",
       "      <th>4Mo1P1</th>\n",
       "      <th>6Ho1Sn2Zn1</th>\n",
       "      <th>2F11W2Y1</th>\n",
       "      <th>11Ba2W2Y1</th>\n",
       "      <th>8Ca1Mn2P2</th>\n",
       "      <th>2Ca1Mn2O8</th>\n",
       "      <th>6Ca1Cr2La1</th>\n",
       "    </tr>\n",
       "  </thead>\n",
       "  <tbody>\n",
       "    <tr>\n",
       "      <th>Os</th>\n",
       "      <td>2</td>\n",
       "      <td>0</td>\n",
       "      <td>0</td>\n",
       "      <td>0</td>\n",
       "      <td>0</td>\n",
       "      <td>1</td>\n",
       "      <td>0</td>\n",
       "      <td>6</td>\n",
       "      <td>0</td>\n",
       "      <td>0</td>\n",
       "      <td>...</td>\n",
       "      <td>0</td>\n",
       "      <td>0</td>\n",
       "      <td>0</td>\n",
       "      <td>0</td>\n",
       "      <td>0</td>\n",
       "      <td>0</td>\n",
       "      <td>0</td>\n",
       "      <td>0</td>\n",
       "      <td>0</td>\n",
       "      <td>0</td>\n",
       "    </tr>\n",
       "    <tr>\n",
       "      <th>Be</th>\n",
       "      <td>0</td>\n",
       "      <td>0</td>\n",
       "      <td>1</td>\n",
       "      <td>0</td>\n",
       "      <td>0</td>\n",
       "      <td>0</td>\n",
       "      <td>1</td>\n",
       "      <td>0</td>\n",
       "      <td>0</td>\n",
       "      <td>0</td>\n",
       "      <td>...</td>\n",
       "      <td>0</td>\n",
       "      <td>0</td>\n",
       "      <td>0</td>\n",
       "      <td>0</td>\n",
       "      <td>0</td>\n",
       "      <td>0</td>\n",
       "      <td>0</td>\n",
       "      <td>0</td>\n",
       "      <td>0</td>\n",
       "      <td>0</td>\n",
       "    </tr>\n",
       "    <tr>\n",
       "      <th>Th</th>\n",
       "      <td>1</td>\n",
       "      <td>0</td>\n",
       "      <td>0</td>\n",
       "      <td>0</td>\n",
       "      <td>0</td>\n",
       "      <td>1</td>\n",
       "      <td>1</td>\n",
       "      <td>1</td>\n",
       "      <td>2</td>\n",
       "      <td>0</td>\n",
       "      <td>...</td>\n",
       "      <td>0</td>\n",
       "      <td>0</td>\n",
       "      <td>0</td>\n",
       "      <td>0</td>\n",
       "      <td>0</td>\n",
       "      <td>0</td>\n",
       "      <td>0</td>\n",
       "      <td>0</td>\n",
       "      <td>0</td>\n",
       "      <td>0</td>\n",
       "    </tr>\n",
       "    <tr>\n",
       "      <th>Tc</th>\n",
       "      <td>1</td>\n",
       "      <td>0</td>\n",
       "      <td>0</td>\n",
       "      <td>0</td>\n",
       "      <td>0</td>\n",
       "      <td>0</td>\n",
       "      <td>0</td>\n",
       "      <td>7</td>\n",
       "      <td>0</td>\n",
       "      <td>0</td>\n",
       "      <td>...</td>\n",
       "      <td>0</td>\n",
       "      <td>0</td>\n",
       "      <td>0</td>\n",
       "      <td>0</td>\n",
       "      <td>0</td>\n",
       "      <td>0</td>\n",
       "      <td>0</td>\n",
       "      <td>0</td>\n",
       "      <td>0</td>\n",
       "      <td>0</td>\n",
       "    </tr>\n",
       "    <tr>\n",
       "      <th>Pu</th>\n",
       "      <td>4</td>\n",
       "      <td>0</td>\n",
       "      <td>0</td>\n",
       "      <td>0</td>\n",
       "      <td>1</td>\n",
       "      <td>1</td>\n",
       "      <td>1</td>\n",
       "      <td>1</td>\n",
       "      <td>0</td>\n",
       "      <td>0</td>\n",
       "      <td>...</td>\n",
       "      <td>0</td>\n",
       "      <td>0</td>\n",
       "      <td>0</td>\n",
       "      <td>0</td>\n",
       "      <td>0</td>\n",
       "      <td>0</td>\n",
       "      <td>0</td>\n",
       "      <td>0</td>\n",
       "      <td>0</td>\n",
       "      <td>0</td>\n",
       "    </tr>\n",
       "  </tbody>\n",
       "</table>\n",
       "<p>5 rows × 83131 columns</p>\n",
       "</div>"
      ],
      "text/plain": [
       "    1O2  1Li1O4P1  2Si1  1Mg1  2Mg1  1Se2  1S1  1N1  1Mg2  2Mg1O4     ...      \\\n",
       "Os    2         0     0     0     0     1    0    6     0       0     ...       \n",
       "Be    0         0     1     0     0     0    1    0     0       0     ...       \n",
       "Th    1         0     0     0     0     1    1    1     2       0     ...       \n",
       "Tc    1         0     0     0     0     0    0    7     0       0     ...       \n",
       "Pu    4         0     0     0     1     1    1    1     0       0     ...       \n",
       "\n",
       "    11Ba2Mn2  6Ca1Ho1Sn2  6Bi2Ca1Ho1  4Mo1P1  6Ho1Sn2Zn1  2F11W2Y1  11Ba2W2Y1  \\\n",
       "Os         0           0           0       0           0         0          0   \n",
       "Be         0           0           0       0           0         0          0   \n",
       "Th         0           0           0       0           0         0          0   \n",
       "Tc         0           0           0       0           0         0          0   \n",
       "Pu         0           0           0       0           0         0          0   \n",
       "\n",
       "    8Ca1Mn2P2  2Ca1Mn2O8  6Ca1Cr2La1  \n",
       "Os          0          0           0  \n",
       "Be          0          0           0  \n",
       "Th          0          0           0  \n",
       "Tc          0          0           0  \n",
       "Pu          0          0           0  \n",
       "\n",
       "[5 rows x 83131 columns]"
      ]
     },
     "execution_count": 5,
     "metadata": {},
     "output_type": "execute_result"
    }
   ],
   "source": [
    "obj.tail()"
   ]
  },
  {
   "cell_type": "markdown",
   "metadata": {},
   "source": [
    "obj.head()"
   ]
  },
  {
   "cell_type": "code",
   "execution_count": 6,
   "metadata": {},
   "outputs": [
    {
     "data": {
      "text/plain": [
       "Index(['O', 'Li', 'Mg', 'P', 'F', 'Mn', 'Fe', 'Si', 'S', 'V', 'Cu', 'Co', 'Ni',\n",
       "       'Ca', 'Ba', 'Na', 'N', 'Ti', 'Cr', 'Zn', 'B', 'Al', 'K', 'Sn', 'Se',\n",
       "       'H', 'C', 'Sb', 'Ge', 'Bi', 'Sr', 'Cl', 'W', 'Mo', 'Te', 'Y', 'La',\n",
       "       'Rb', 'Nb', 'Ga', 'Ag', 'In', 'Cd', 'Cs', 'As', 'Ce', 'Pd', 'Zr', 'I',\n",
       "       'Tl', 'Au', 'Rh', 'Hf', 'Pb', 'Pt', 'Br', 'Ta', 'Nd', 'Hg', 'Sc', 'Sm',\n",
       "       'Ru', 'U', 'Pr', 'Ir', 'Yb', 'Ho', 'Er', 'Dy', 'Tb', 'Lu', 'Tm', 'Gd',\n",
       "       'Eu', 'Re', 'Os', 'Be', 'Th', 'Tc', 'Pu'],\n",
       "      dtype='object')"
      ]
     },
     "execution_count": 6,
     "metadata": {},
     "output_type": "execute_result"
    }
   ],
   "source": [
    "obj.index"
   ]
  },
  {
   "cell_type": "code",
   "execution_count": 7,
   "metadata": {},
   "outputs": [],
   "source": [
    "from scipy.sparse.linalg import svds, eigs\n",
    "from scipy.sparse import csc_matrix\n",
    "#do decompostion for certain matrix\n",
    "a=csc_matrix(obj, dtype=float)\n",
    "#a=svds(obj,k=10)\n",
    "u, s, vt = svds(a, k=10)"
   ]
  },
  {
   "cell_type": "code",
   "execution_count": 8,
   "metadata": {},
   "outputs": [],
   "source": [
    "#normalization\n",
    "from sklearn.preprocessing import normalize\n",
    "obj_raw_norm=normalize(obj, norm='l2', axis=1)\n",
    "#function usage\n",
    "#sklearn.preprocessing.normalize(X, norm=’l2’, axis=1, copy=True, return_norm=False)\n"
   ]
  },
  {
   "cell_type": "code",
   "execution_count": 9,
   "metadata": {},
   "outputs": [
    {
     "data": {
      "text/plain": [
       "array([[0.        , 0.        , 0.52252245, ..., 0.00185292, 0.        ,\n",
       "        0.00185292],\n",
       "       [0.01211749, 0.        , 0.00302937, ..., 0.        , 0.        ,\n",
       "        0.        ],\n",
       "       [0.00761448, 0.00380724, 0.13325334, ..., 0.        , 0.        ,\n",
       "        0.        ]])"
      ]
     },
     "execution_count": 9,
     "metadata": {},
     "output_type": "execute_result"
    }
   ],
   "source": [
    "#norm success, but the label and index are lost\n",
    "obj_raw_norm[:3]"
   ]
  },
  {
   "cell_type": "code",
   "execution_count": 15,
   "metadata": {},
   "outputs": [],
   "source": [
    "from scipy.sparse.linalg import svds, eigs\n",
    "from scipy.sparse import csc_matrix\n",
    "#do decompostion for obj_raw_norm\n",
    "a=csc_matrix(obj_raw_norm, dtype=float)\n",
    "#a=svds(obj,k=10)\n",
    "u, s, vt = svds(a, k=20)"
   ]
  },
  {
   "cell_type": "code",
   "execution_count": 16,
   "metadata": {},
   "outputs": [],
   "source": [
    "#get elements mapping value\n",
    "#F is matrix we want(for all elements)\n",
    "F=np.dot(u,s_diagonal)"
   ]
  },
  {
   "cell_type": "code",
   "execution_count": 17,
   "metadata": {},
   "outputs": [],
   "source": [
    "error_matrix=np.dot(F,vt)-a"
   ]
  },
  {
   "cell_type": "code",
   "execution_count": 18,
   "metadata": {},
   "outputs": [
    {
     "data": {
      "text/plain": [
       "matrix([[-2.48295929e-02, -3.35639952e-02, -2.42418877e-01, ...,\n",
       "         -9.86847576e-04, -6.90104943e-04, -9.86847576e-04],\n",
       "        [ 5.14677797e-02, -8.28177508e-03,  3.83758645e-02, ...,\n",
       "          9.71362821e-05, -1.55666592e-04,  9.71362821e-05],\n",
       "        [-1.85619015e-03,  3.86009637e-02,  2.95898494e-03, ...,\n",
       "          2.91580287e-04, -3.09279493e-06,  2.91580287e-04],\n",
       "        ...,\n",
       "        [ 5.51572054e-02, -8.01313185e-03, -1.89071603e-02, ...,\n",
       "         -1.26755064e-04, -3.57454141e-06, -1.26755064e-04],\n",
       "        [ 4.76135522e-03, -1.16722941e-02,  2.10918279e-02, ...,\n",
       "          3.78254532e-05, -2.90592498e-05,  3.78254532e-05],\n",
       "        [-4.87777243e-02,  1.71738584e-03,  3.78985450e-03, ...,\n",
       "         -3.19802770e-05, -4.71642247e-05, -3.19802770e-05]])"
      ]
     },
     "execution_count": 18,
     "metadata": {},
     "output_type": "execute_result"
    }
   ],
   "source": [
    "error_matrix"
   ]
  },
  {
   "cell_type": "code",
   "execution_count": 19,
   "metadata": {},
   "outputs": [
    {
     "data": {
      "text/plain": [
       "6.011476265500893"
      ]
     },
     "execution_count": 19,
     "metadata": {},
     "output_type": "execute_result"
    }
   ],
   "source": [
    "#calculate error from error_matrix\n",
    "from numpy import linalg as LA\n",
    "LA.norm(error_matrix)"
   ]
  },
  {
   "cell_type": "code",
   "execution_count": 27,
   "metadata": {},
   "outputs": [],
   "source": [
    "error_square_matrix=np.square(error_matrix)\n",
    "square=np.sum(error_square_matrix,axis=1)"
   ]
  },
  {
   "cell_type": "code",
   "execution_count": 31,
   "metadata": {},
   "outputs": [],
   "source": [
    "square_list=square/error_square_matrix.shape[0]"
   ]
  },
  {
   "cell_type": "code",
   "execution_count": 32,
   "metadata": {},
   "outputs": [
    {
     "data": {
      "text/plain": [
       "0.005646538576668867"
      ]
     },
     "execution_count": 32,
     "metadata": {},
     "output_type": "execute_result"
    }
   ],
   "source": [
    "np.mean(square_list)"
   ]
  },
  {
   "cell_type": "code",
   "execution_count": null,
   "metadata": {},
   "outputs": [],
   "source": [
    "#select elements type from the paper and use pandas substract the raw number\n",
    "#try to use periodic table pick needed elements\n",
    "import pymatgen as mg\n",
    "from pymatgen.core import periodic_table, Element\n",
    "\n",
    "#build elements list from data(data's index)\n",
    "elements_list=list(obj.index)\n",
    "\n",
    "#select main group element\n",
    "#FIRST try select list from PNAS paper FIG.2.A\n",
    "\n",
    "#get main group list by pymatgen\n",
    "test=[\"Li\",\"Be\",\"B\",\"C\",\"N\",\"O\",\"F\"]\n",
    "group_main_list=[]\n",
    "for element_string in test:\n",
    "    Ele=Element(element_string)\n",
    "    group_main_list.append(Ele.group)\n",
    "\n",
    "#build elements_list_main, create subset of each group,catch them from elements_list\n",
    "#sort them by atom number, append the subset to element list\n",
    "\n",
    "elements_list_main=[]\n",
    "for group_number in group_main_list:\n",
    "    #creat subset\n",
    "    elements_sublist=[]\n",
    "    for raw_element in elements_list:\n",
    "        if Element(raw_element).group==group_number:\n",
    "            if Element(raw_element).number<57 or Element(raw_element).number>71:\n",
    "                elements_sublist.append(raw_element)\n",
    "    #sort subset\n",
    "    elements_sublist.sort(key=lambda x:Element(x).number)\n",
    "    #add subset to elements_list_main\n",
    "    elements_list_main+=elements_sublist\n",
    "    #elements_list_main.append(\"{}\".format(group_number))\n",
    "\n",
    "\n",
    "#apply the raw number to mapping value\n",
    "raw_number_list=[]\n",
    "for element_select in elements_list_main:\n",
    "    for raw_number in range(len(elements_list)):\n",
    "        if element_select==elements_list[raw_number]:\n",
    "            raw_number_list.append(raw_number)\n",
    "            \n",
    "    \n",
    "\n",
    "\n",
    "#draw the mapping(visualization)\n",
    "\n",
    "#perform pca and visualization\n"
   ]
  },
  {
   "cell_type": "code",
   "execution_count": null,
   "metadata": {},
   "outputs": [],
   "source": [
    "test=[\"Li\",\"Be\",\"B\",\"C\",\"N\",\"O\",\"F\"]\n",
    "group_main_list=[]\n",
    "for element_string in test:\n",
    "    Ele=Element(element_string)\n",
    "    group_main_list.append(Ele.group)"
   ]
  },
  {
   "cell_type": "code",
   "execution_count": null,
   "metadata": {},
   "outputs": [],
   "source": [
    "F_main=F[raw_number_list,:]"
   ]
  },
  {
   "cell_type": "code",
   "execution_count": null,
   "metadata": {},
   "outputs": [],
   "source": [
    "F_main.shape\n",
    "F_main_flip=np.flip(F_main,axis=1)"
   ]
  },
  {
   "cell_type": "code",
   "execution_count": null,
   "metadata": {},
   "outputs": [],
   "source": [
    "import matplotlib.pyplot as plt\n",
    "fig=plt.imshow(F_main_flip, interpolation='nearest', cmap=\"rainbow\")\n",
    "plt.show(fig)"
   ]
  },
  {
   "cell_type": "code",
   "execution_count": null,
   "metadata": {},
   "outputs": [],
   "source": [
    "#this is the y-axis elements\n",
    "elements_list_main"
   ]
  },
  {
   "cell_type": "code",
   "execution_count": null,
   "metadata": {},
   "outputs": [],
   "source": [
    "#flip the F to make the largest singular value at first\n",
    "F_flip=np.flip(F,axis=1)\n",
    "\n",
    "#store the SVD original matrix and processed matrix\n",
    "\n"
   ]
  },
  {
   "cell_type": "code",
   "execution_count": null,
   "metadata": {},
   "outputs": [],
   "source": [
    "#print the matrix shape of both matrixs\n",
    "print(F_flip.shape)\n",
    "print(F_main_flip.shape)"
   ]
  },
  {
   "cell_type": "code",
   "execution_count": null,
   "metadata": {},
   "outputs": [],
   "source": [
    "#store data\n",
    "np.savetxt('SVD_original.txt', F_flip)\n",
    "np.savetxt('SVD_main_group.txt', F_main_flip)"
   ]
  }
 ],
 "metadata": {
  "kernelspec": {
   "display_name": "Python 3",
   "language": "python",
   "name": "python3"
  },
  "language_info": {
   "codemirror_mode": {
    "name": "ipython",
    "version": 3
   },
   "file_extension": ".py",
   "mimetype": "text/x-python",
   "name": "python",
   "nbconvert_exporter": "python",
   "pygments_lexer": "ipython3",
   "version": "3.6.5"
  }
 },
 "nbformat": 4,
 "nbformat_minor": 2
}
