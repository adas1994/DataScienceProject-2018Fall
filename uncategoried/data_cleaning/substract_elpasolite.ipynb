{
 "cells": [
  {
   "cell_type": "code",
   "execution_count": 1,
   "metadata": {},
   "outputs": [
    {
     "data": {
      "text/plain": [
       "75056"
      ]
     },
     "execution_count": 1,
     "metadata": {},
     "output_type": "execute_result"
    }
   ],
   "source": [
    "import pandas as pd\n",
    "obj=pd.read_csv('data_clean2_09_12_2018.csv')\n",
    "len(obj)"
   ]
  },
  {
   "cell_type": "code",
   "execution_count": 2,
   "metadata": {},
   "outputs": [],
   "source": [
    "material_ids_after_clean=[]\n",
    "for i in range(len(obj[\"material_id\"])):\n",
    "    material_ids_after_clean.append(obj[\"material_id\"][i])"
   ]
  },
  {
   "cell_type": "code",
   "execution_count": 3,
   "metadata": {},
   "outputs": [
    {
     "data": {
      "text/plain": [
       "['mp-10000', 'mp-10003']"
      ]
     },
     "execution_count": 3,
     "metadata": {},
     "output_type": "execute_result"
    }
   ],
   "source": [
    "material_ids_after_clean[1:3]"
   ]
  },
  {
   "cell_type": "code",
   "execution_count": 4,
   "metadata": {},
   "outputs": [
    {
     "data": {
      "text/html": [
       "<div>\n",
       "<style scoped>\n",
       "    .dataframe tbody tr th:only-of-type {\n",
       "        vertical-align: middle;\n",
       "    }\n",
       "\n",
       "    .dataframe tbody tr th {\n",
       "        vertical-align: top;\n",
       "    }\n",
       "\n",
       "    .dataframe thead th {\n",
       "        text-align: right;\n",
       "    }\n",
       "</style>\n",
       "<table border=\"1\" class=\"dataframe\">\n",
       "  <thead>\n",
       "    <tr style=\"text-align: right;\">\n",
       "      <th></th>\n",
       "      <th>material_id</th>\n",
       "      <th>pretty_formula</th>\n",
       "    </tr>\n",
       "  </thead>\n",
       "  <tbody>\n",
       "    <tr>\n",
       "      <th>0</th>\n",
       "      <td>mp-1000</td>\n",
       "      <td>BaTe</td>\n",
       "    </tr>\n",
       "    <tr>\n",
       "      <th>1</th>\n",
       "      <td>mp-10000</td>\n",
       "      <td>Hf2S</td>\n",
       "    </tr>\n",
       "    <tr>\n",
       "      <th>2</th>\n",
       "      <td>mp-10003</td>\n",
       "      <td>Nb4CoSi</td>\n",
       "    </tr>\n",
       "    <tr>\n",
       "      <th>3</th>\n",
       "      <td>mp-10004</td>\n",
       "      <td>Mo3P</td>\n",
       "    </tr>\n",
       "    <tr>\n",
       "      <th>4</th>\n",
       "      <td>mp-1000440</td>\n",
       "      <td>CrN</td>\n",
       "    </tr>\n",
       "  </tbody>\n",
       "</table>\n",
       "</div>"
      ],
      "text/plain": [
       "  material_id pretty_formula\n",
       "0     mp-1000           BaTe\n",
       "1    mp-10000           Hf2S\n",
       "2    mp-10003        Nb4CoSi\n",
       "3    mp-10004           Mo3P\n",
       "4  mp-1000440            CrN"
      ]
     },
     "execution_count": 4,
     "metadata": {},
     "output_type": "execute_result"
    }
   ],
   "source": [
    "obj.head()"
   ]
  },
  {
   "cell_type": "code",
   "execution_count": 5,
   "metadata": {},
   "outputs": [],
   "source": [
    "#check all the elements of the material_ids_after_clean\n",
    "#store the data's point group, space group and formula"
   ]
  },
  {
   "cell_type": "code",
   "execution_count": 6,
   "metadata": {},
   "outputs": [
    {
     "name": "stdout",
     "output_type": "stream",
     "text": [
      "[{'material_id': 'mp-1000', 'pretty_formula': 'BaTe', 'energy': -8.64734519, 'spacegroup': {'source': 'spglib', 'symbol': 'Fm-3m', 'number': 225, 'point_group': 'm-3m', 'crystal_system': 'cubic', 'hall': '-F 4 2 3'}}, {'material_id': 'mp-10000', 'pretty_formula': 'Hf2S', 'energy': -54.26524496, 'spacegroup': {'source': 'spglib', 'symbol': 'P6_3/mmc', 'number': 194, 'point_group': '6/mmm', 'crystal_system': 'hexagonal', 'hall': '-P 6c 2c'}}, {'material_id': 'mp-10003', 'pretty_formula': 'Nb4CoSi', 'energy': -110.0939723, 'spacegroup': {'source': 'spglib', 'symbol': 'P4/mcc', 'number': 124, 'point_group': '4/mmm', 'crystal_system': 'tetragonal', 'hall': '-P 4 2c'}}, {'material_id': 'mp-10004', 'pretty_formula': 'Mo3P', 'energy': -157.39830964, 'spacegroup': {'source': 'spglib', 'symbol': 'I-42m', 'number': 121, 'point_group': '-42m', 'crystal_system': 'tetragonal', 'hall': 'I -4 2'}}, {'material_id': 'mp-1000440', 'pretty_formula': 'CrN', 'energy': -18.64352006, 'spacegroup': {'source': 'spglib', 'symbol': 'Fm-3m', 'number': 225, 'point_group': 'm-3m', 'crystal_system': 'cubic', 'hall': '-F 4 2 3'}}, {'material_id': 'mp-1000487', 'pretty_formula': 'CeAlO3', 'energy': -40.41843075, 'spacegroup': {'source': 'spglib', 'symbol': 'Pm-3m', 'number': 221, 'point_group': 'm-3m', 'crystal_system': 'cubic', 'hall': '-P 4 2 3'}}, {'material_id': 'mp-1000588', 'pretty_formula': 'U2IrC2', 'energy': -51.54211016, 'spacegroup': {'source': 'spglib', 'symbol': 'I4/mmm', 'number': 139, 'point_group': '4/mmm', 'crystal_system': 'tetragonal', 'hall': '-I 4 2'}}, {'material_id': 'mp-10006', 'pretty_formula': 'TlAgTe2', 'energy': -11.6484996, 'spacegroup': {'source': 'spglib', 'symbol': 'I-4m2', 'number': 119, 'point_group': '-42m', 'crystal_system': 'tetragonal', 'hall': 'I -4 -2'}}, {'material_id': 'mp-1000625', 'pretty_formula': 'K(CoSe)2', 'energy': -24.69765879, 'spacegroup': {'source': 'spglib', 'symbol': 'I4/mmm', 'number': 139, 'point_group': '4/mmm', 'crystal_system': 'tetragonal', 'hall': '-I 4 2'}}, {'material_id': 'mp-1000712', 'pretty_formula': 'RbYbS2', 'energy': -15.92284166, 'spacegroup': {'source': 'spglib', 'symbol': 'R-3m', 'number': 166, 'point_group': '-3m', 'crystal_system': 'trigonal', 'hall': '-R 3 2\"'}}]\n"
     ]
    }
   ],
   "source": [
    "#get all the data in the cleaned dataset\n",
    "\n",
    "from pymatgen import MPRester                                                     \n",
    "import urllib.request                                                             \n",
    "import json\n",
    "\n",
    "                                                                                  \n",
    "if __name__ == \"__main__\":                                                        \n",
    "    MAPI_KEY = \"zQIrujyVEwEhTBRW\"  # You must change this to your Materials API key! (or set MAPI_KEY env variable)\n",
    "                                                                                  \n",
    "    # fetch list of a list of all available materials                             \n",
    "    #with urllib.request.urlopen('https://www.materialsproject.org/rest/v1/materials//mids') as myurl:\n",
    "        #data = json.loads(myurl.read().decode())                                  \n",
    "        #material_ids = data['response'] # 75,000'ish material IDs are returned \n",
    "                                                                                  \n",
    "                                                                                  \n",
    "    with MPRester(MAPI_KEY) as m: # object for connecting to MP Rest interface \n",
    "        criteria={'material_id': {'$in':material_ids_after_clean[:]}} # to avoid straining the servers, this is only using the first 4 materials\n",
    "        #properties=['energy', 'pretty_formula','total_electrons','density']\n",
    "        properties=['material_id','pretty_formula','energy','spacegroup'] \n",
    "        # list a few quanteties of interest\n",
    "        data = m.query(criteria, properties)                                      \n",
    "        #print(data[:10])"
   ]
  },
  {
   "cell_type": "code",
   "execution_count": 9,
   "metadata": {},
   "outputs": [
    {
     "data": {
      "text/plain": [
       "{'material_id': 'mp-1000588',\n",
       " 'pretty_formula': 'U2IrC2',\n",
       " 'energy': -51.54211016,\n",
       " 'spacegroup': {'source': 'spglib',\n",
       "  'symbol': 'I4/mmm',\n",
       "  'number': 139,\n",
       "  'point_group': '4/mmm',\n",
       "  'crystal_system': 'tetragonal',\n",
       "  'hall': '-I 4 2'}}"
      ]
     },
     "execution_count": 9,
     "metadata": {},
     "output_type": "execute_result"
    }
   ],
   "source": [
    "data[6]"
   ]
  },
  {
   "cell_type": "code",
   "execution_count": 121,
   "metadata": {},
   "outputs": [],
   "source": [
    "#the required elpasolite structure has space group number 225, symbol as Fm-3m\n",
    "from pymatgen import Composition, Element\n",
    "\n",
    "needed_list=[]\n",
    "for k in range(len(data)):\n",
    "    compound=Composition(data[k][\"pretty_formula\"])\n",
    "        #fit the condition that # of elements=4 and space group number is 225\n",
    "    #if len(compound)==4 and data[i][\"spacegroup\"][\"number\"]==225:\n",
    "    if len(compound)==4:\n",
    "        #fit the formula is ABC2D6\n",
    "        #build compustition_permutation_list\n",
    "        compustition_permutation_list=[]\n",
    "        \n",
    "        ele_list=[]\n",
    "        for i in compound:\n",
    "            ele_list.append(str(i))\n",
    "        elements_list_permutation_list=[list(p) for p in permutations(ele_list)]\n",
    "        elpasolite_number=[\"\",\"\",\"2\",\"6\"]\n",
    "        for elements_list_permutation in elements_list_permutation_list:\n",
    "            #for a elements list, build sparse elements+number string\n",
    "            ele_list=[]\n",
    "            j=0\n",
    "            for element in elements_list_permutation:\n",
    "                ele_list.append(str(element)+elpasolite_number[j])\n",
    "                j+=1\n",
    "            #build permuations of sparse elements+number string\n",
    "            elements_split_list=[list(p) for p in permutations(ele_list)]\n",
    "\n",
    "            #build permuations of condense elements+number string\n",
    "            elements_conca_list=[]\n",
    "            for elements_split in elements_split_list:\n",
    "                elements_list=\"\"\n",
    "                for elements in elements_split:\n",
    "                    elements_list+=elements\n",
    "                elements_conca_list.append(elements_list)\n",
    "\n",
    "            #add condensed permuations of string to the whole\n",
    "            compustition_permutation_list+=elements_conca_list\n",
    "        #if data[k][\"pretty_formula\"] in compustition_permutation_list:\n",
    "            #needed_list.append(k)\n",
    "        \n",
    "        for j in compustition_permutation_list:\n",
    "            if data[k][\"pretty_formula\"]==j:\n",
    "                needed_list.append(k)\n",
    "                break"
   ]
  },
  {
   "cell_type": "code",
   "execution_count": 95,
   "metadata": {},
   "outputs": [
    {
     "data": {
      "text/plain": [
       "str"
      ]
     },
     "execution_count": 95,
     "metadata": {},
     "output_type": "execute_result"
    }
   ],
   "source": [
    "type(data[1][\"pretty_formula\"])"
   ]
  },
  {
   "cell_type": "code",
   "execution_count": 138,
   "metadata": {},
   "outputs": [
    {
     "data": {
      "text/plain": [
       "1114"
      ]
     },
     "execution_count": 138,
     "metadata": {},
     "output_type": "execute_result"
    }
   ],
   "source": [
    "len(needed_list)"
   ]
  },
  {
   "cell_type": "code",
   "execution_count": 139,
   "metadata": {},
   "outputs": [],
   "source": [
    "set_list=[]\n",
    "a=set()\n",
    "for i in needed_list:\n",
    "    len_before=len(a)\n",
    "    a.add(data[i][\"pretty_formula\"])\n",
    "    len_after=len(a)\n",
    "    if len_after>len_before:\n",
    "        set_list.append(i)\n",
    "    #print(i,data[i][\"pretty_formula\"])\n"
   ]
  },
  {
   "cell_type": "code",
   "execution_count": 141,
   "metadata": {},
   "outputs": [
    {
     "data": {
      "text/plain": [
       "848"
      ]
     },
     "execution_count": 141,
     "metadata": {},
     "output_type": "execute_result"
    }
   ],
   "source": [
    "len(set_list)"
   ]
  },
  {
   "cell_type": "code",
   "execution_count": 142,
   "metadata": {},
   "outputs": [],
   "source": [
    "data_elpasolite=[]\n",
    "for i in set_list:\n",
    "    data_elpasolite.append(data[i])"
   ]
  },
  {
   "cell_type": "code",
   "execution_count": 144,
   "metadata": {},
   "outputs": [
    {
     "data": {
      "text/plain": [
       "[{'material_id': 'mp-10093',\n",
       "  'pretty_formula': 'Sr2YbNbO6',\n",
       "  'energy': -144.71117075,\n",
       "  'spacegroup': {'source': 'spglib',\n",
       "   'symbol': 'P2_1/c',\n",
       "   'number': 14,\n",
       "   'point_group': '2/m',\n",
       "   'crystal_system': 'monoclinic',\n",
       "   'hall': '-P 2ybc'}},\n",
       " {'material_id': 'mp-1019568',\n",
       "  'pretty_formula': 'CaAl2SiO6',\n",
       "  'energy': -298.39845493,\n",
       "  'spacegroup': {'source': 'spglib',\n",
       "   'symbol': 'P1',\n",
       "   'number': 1,\n",
       "   'point_group': '1',\n",
       "   'crystal_system': 'triclinic',\n",
       "   'hall': 'P 1'}},\n",
       " {'material_id': 'mp-1019719',\n",
       "  'pretty_formula': 'CsSi2BO6',\n",
       "  'energy': -597.32726776,\n",
       "  'spacegroup': {'source': 'spglib',\n",
       "   'symbol': 'I4_1/acd',\n",
       "   'number': 142,\n",
       "   'point_group': '4/mmm',\n",
       "   'crystal_system': 'tetragonal',\n",
       "   'hall': 'I 4bw 2aw -1bw'}}]"
      ]
     },
     "execution_count": 144,
     "metadata": {},
     "output_type": "execute_result"
    }
   ],
   "source": [
    "data_elpasolite[:3]"
   ]
  },
  {
   "cell_type": "code",
   "execution_count": null,
   "metadata": {},
   "outputs": [],
   "source": []
  }
 ],
 "metadata": {
  "kernelspec": {
   "display_name": "Python 3",
   "language": "python",
   "name": "python3"
  },
  "language_info": {
   "codemirror_mode": {
    "name": "ipython",
    "version": 3
   },
   "file_extension": ".py",
   "mimetype": "text/x-python",
   "name": "python",
   "nbconvert_exporter": "python",
   "pygments_lexer": "ipython3",
   "version": "3.6.5"
  }
 },
 "nbformat": 4,
 "nbformat_minor": 2
}
