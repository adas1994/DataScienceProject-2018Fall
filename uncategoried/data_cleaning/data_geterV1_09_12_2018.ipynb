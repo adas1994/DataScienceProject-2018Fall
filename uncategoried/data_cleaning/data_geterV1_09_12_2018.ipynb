{
 "cells": [
  {
   "cell_type": "code",
   "execution_count": 1,
   "metadata": {},
   "outputs": [
    {
     "name": "stdout",
     "output_type": "stream",
     "text": [
      "[{'material_id': 'mp-1', 'pretty_formula': 'Cs', 'energy': -0.85881928, 'formation_energy': None, 'spacegroup': {'source': 'spglib', 'symbol': 'Im-3m', 'number': 229, 'point_group': 'm-3m', 'crystal_system': 'cubic', 'hall': '-I 4 2 3'}}, {'material_id': 'mp-10', 'pretty_formula': 'As', 'energy': -9.10133099, 'formation_energy': None, 'spacegroup': {'source': 'spglib', 'symbol': 'Pm-3m', 'number': 221, 'point_group': 'm-3m', 'crystal_system': 'cubic', 'hall': '-P 4 2 3'}}, {'material_id': 'mp-100', 'pretty_formula': 'Hf', 'energy': -9.77315415, 'formation_energy': None, 'spacegroup': {'source': 'spglib', 'symbol': 'Im-3m', 'number': 229, 'point_group': 'm-3m', 'crystal_system': 'cubic', 'hall': '-I 4 2 3'}}, {'material_id': 'mp-1000', 'pretty_formula': 'BaTe', 'energy': -8.64734519, 'formation_energy': None, 'spacegroup': {'source': 'spglib', 'symbol': 'Fm-3m', 'number': 225, 'point_group': 'm-3m', 'crystal_system': 'cubic', 'hall': '-F 4 2 3'}}, {'material_id': 'mp-10000', 'pretty_formula': 'Hf2S', 'energy': -54.26524496, 'formation_energy': None, 'spacegroup': {'source': 'spglib', 'symbol': 'P6_3/mmc', 'number': 194, 'point_group': '6/mmm', 'crystal_system': 'hexagonal', 'hall': '-P 6c 2c'}}, {'material_id': 'mp-10003', 'pretty_formula': 'Nb4CoSi', 'energy': -110.0939723, 'formation_energy': None, 'spacegroup': {'source': 'spglib', 'symbol': 'P4/mcc', 'number': 124, 'point_group': '4/mmm', 'crystal_system': 'tetragonal', 'hall': '-P 4 2c'}}, {'material_id': 'mp-10004', 'pretty_formula': 'Mo3P', 'energy': -157.39830964, 'formation_energy': None, 'spacegroup': {'source': 'spglib', 'symbol': 'I-42m', 'number': 121, 'point_group': '-42m', 'crystal_system': 'tetragonal', 'hall': 'I -4 2'}}, {'material_id': 'mp-1000440', 'pretty_formula': 'CrN', 'energy': -18.64352006, 'formation_energy': None, 'spacegroup': {'source': 'spglib', 'symbol': 'Fm-3m', 'number': 225, 'point_group': 'm-3m', 'crystal_system': 'cubic', 'hall': '-F 4 2 3'}}, {'material_id': 'mp-1000487', 'pretty_formula': 'CeAlO3', 'energy': -40.41843075, 'formation_energy': None, 'spacegroup': {'source': 'spglib', 'symbol': 'Pm-3m', 'number': 221, 'point_group': 'm-3m', 'crystal_system': 'cubic', 'hall': '-P 4 2 3'}}, {'material_id': 'mp-1000588', 'pretty_formula': 'U2IrC2', 'energy': -51.54211016, 'formation_energy': None, 'spacegroup': {'source': 'spglib', 'symbol': 'I4/mmm', 'number': 139, 'point_group': '4/mmm', 'crystal_system': 'tetragonal', 'hall': '-I 4 2'}}]\n"
     ]
    }
   ],
   "source": [
    "from pymatgen import MPRester                                                     \n",
    "import urllib.request                                                             \n",
    "import json\n",
    "\n",
    "                                                                                  \n",
    "if __name__ == \"__main__\":                                                        \n",
    "    MAPI_KEY = \"zQIrujyVEwEhTBRW\"  # You must change this to your Materials API key! (or set MAPI_KEY env variable)\n",
    "                                                                                  \n",
    "    # fetch list of a list of all available materials                             \n",
    "    with urllib.request.urlopen('https://www.materialsproject.org/rest/v1/materials//mids') as myurl:\n",
    "        data = json.loads(myurl.read().decode())                                  \n",
    "        material_ids = data['response'] # 75,000'ish material IDs are returned \n",
    "                                                                                  \n",
    "                                                                                  \n",
    "    with MPRester(MAPI_KEY) as m: # object for connecting to MP Rest interface \n",
    "        criteria={'material_id': {'$in':material_ids[:]}} # to avoid straining the servers, this is only using the first 4 materials\n",
    "        #properties=['energy', 'pretty_formula','total_electrons','density']\n",
    "        properties=['material_id','pretty_formula','energy','formation_energy','spacegroup'] \n",
    "        # list a few quanteties of interest\n",
    "        data = m.query(criteria, properties)                                      \n",
    "        print(data[:10])\n",
    "    "
   ]
  },
  {
   "cell_type": "code",
   "execution_count": 4,
   "metadata": {},
   "outputs": [],
   "source": [
    "import csv\n",
    "keys=data[0].keys()\n",
    "with open('third_dataset_09_12_2018.csv','w') as output_file:\n",
    "    dict_writer = csv.DictWriter(output_file, keys)\n",
    "    dict_writer.writeheader()\n",
    "    dict_writer.writerows(data)"
   ]
  },
  {
   "cell_type": "code",
   "execution_count": 7,
   "metadata": {},
   "outputs": [
    {
     "data": {
      "text/plain": [
       "83989"
      ]
     },
     "execution_count": 7,
     "metadata": {},
     "output_type": "execute_result"
    }
   ],
   "source": [
    "import pandas as pd\n",
    "obj=pd.read_csv('third_dataset_09_12_2018.csv')\n",
    "obj.head()\n",
    "len(obj)"
   ]
  },
  {
   "cell_type": "code",
   "execution_count": 14,
   "metadata": {},
   "outputs": [],
   "source": [
    "a=set()\n",
    "for data_point in data:\n",
    "    a.add(data_point[\"formation_energy\"])"
   ]
  },
  {
   "cell_type": "code",
   "execution_count": 9,
   "metadata": {},
   "outputs": [],
   "source": [
    "obj_old=pd.read_csv('second_dataset.csv')"
   ]
  },
  {
   "cell_type": "code",
   "execution_count": 15,
   "metadata": {},
   "outputs": [
    {
     "data": {
      "text/plain": [
       "{None}"
      ]
     },
     "execution_count": 15,
     "metadata": {},
     "output_type": "execute_result"
    }
   ],
   "source": [
    "a"
   ]
  },
  {
   "cell_type": "code",
   "execution_count": null,
   "metadata": {},
   "outputs": [],
   "source": []
  }
 ],
 "metadata": {
  "kernelspec": {
   "display_name": "Python 3",
   "language": "python",
   "name": "python3"
  },
  "language_info": {
   "codemirror_mode": {
    "name": "ipython",
    "version": 3
   },
   "file_extension": ".py",
   "mimetype": "text/x-python",
   "name": "python",
   "nbconvert_exporter": "python",
   "pygments_lexer": "ipython3",
   "version": "3.6.5"
  }
 },
 "nbformat": 4,
 "nbformat_minor": 2
}
