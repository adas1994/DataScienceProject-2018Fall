{
 "cells": [
  {
   "cell_type": "code",
   "execution_count": 1,
   "metadata": {},
   "outputs": [
    {
     "data": {
      "text/plain": [
       "75056"
      ]
     },
     "execution_count": 1,
     "metadata": {},
     "output_type": "execute_result"
    }
   ],
   "source": [
    "import pandas as pd\n",
    "obj=pd.read_csv('data_clean2_09_12_2018.csv')\n",
    "len(obj)"
   ]
  },
  {
   "cell_type": "code",
   "execution_count": 15,
   "metadata": {},
   "outputs": [],
   "source": [
    "material_ids_after_clean=[]\n",
    "for i in range(len(obj[\"material_id\"])):\n",
    "    material_ids_after_clean.append(obj[\"material_id\"][i])"
   ]
  },
  {
   "cell_type": "code",
   "execution_count": 16,
   "metadata": {},
   "outputs": [
    {
     "data": {
      "text/plain": [
       "['mp-10000', 'mp-10003']"
      ]
     },
     "execution_count": 16,
     "metadata": {},
     "output_type": "execute_result"
    }
   ],
   "source": [
    "material_ids_after_clean[1:3]"
   ]
  },
  {
   "cell_type": "code",
   "execution_count": 19,
   "metadata": {},
   "outputs": [
    {
     "data": {
      "text/html": [
       "<div>\n",
       "<style scoped>\n",
       "    .dataframe tbody tr th:only-of-type {\n",
       "        vertical-align: middle;\n",
       "    }\n",
       "\n",
       "    .dataframe tbody tr th {\n",
       "        vertical-align: top;\n",
       "    }\n",
       "\n",
       "    .dataframe thead th {\n",
       "        text-align: right;\n",
       "    }\n",
       "</style>\n",
       "<table border=\"1\" class=\"dataframe\">\n",
       "  <thead>\n",
       "    <tr style=\"text-align: right;\">\n",
       "      <th></th>\n",
       "      <th>material_id</th>\n",
       "      <th>pretty_formula</th>\n",
       "    </tr>\n",
       "  </thead>\n",
       "  <tbody>\n",
       "    <tr>\n",
       "      <th>0</th>\n",
       "      <td>mp-1000</td>\n",
       "      <td>BaTe</td>\n",
       "    </tr>\n",
       "    <tr>\n",
       "      <th>1</th>\n",
       "      <td>mp-10000</td>\n",
       "      <td>Hf2S</td>\n",
       "    </tr>\n",
       "    <tr>\n",
       "      <th>2</th>\n",
       "      <td>mp-10003</td>\n",
       "      <td>Nb4CoSi</td>\n",
       "    </tr>\n",
       "    <tr>\n",
       "      <th>3</th>\n",
       "      <td>mp-10004</td>\n",
       "      <td>Mo3P</td>\n",
       "    </tr>\n",
       "    <tr>\n",
       "      <th>4</th>\n",
       "      <td>mp-1000440</td>\n",
       "      <td>CrN</td>\n",
       "    </tr>\n",
       "  </tbody>\n",
       "</table>\n",
       "</div>"
      ],
      "text/plain": [
       "  material_id pretty_formula\n",
       "0     mp-1000           BaTe\n",
       "1    mp-10000           Hf2S\n",
       "2    mp-10003        Nb4CoSi\n",
       "3    mp-10004           Mo3P\n",
       "4  mp-1000440            CrN"
      ]
     },
     "execution_count": 19,
     "metadata": {},
     "output_type": "execute_result"
    }
   ],
   "source": [
    "obj.head()"
   ]
  },
  {
   "cell_type": "code",
   "execution_count": 75,
   "metadata": {},
   "outputs": [
    {
     "data": {
      "text/plain": [
       "'Nb4CoSi'"
      ]
     },
     "execution_count": 75,
     "metadata": {},
     "output_type": "execute_result"
    }
   ],
   "source": [
    "obj[\"pretty_formula\"][2]"
   ]
  },
  {
   "cell_type": "code",
   "execution_count": 83,
   "metadata": {},
   "outputs": [
    {
     "name": "stdout",
     "output_type": "stream",
     "text": [
      "0\n",
      "[]\n"
     ]
    }
   ],
   "source": [
    "from pymatgen import Composition, Element\n",
    "#check whether there is fraction formula\n",
    "fraction_N=0\n",
    "fraction_ids=[]\n",
    "\n",
    "for i in range(len(obj)):\n",
    "    compound=Composition(obj[\"pretty_formula\"][i])\n",
    "    for ele in compound:\n",
    "        if compound[ele]!=int(compound[ele]):\n",
    "            fraction_N+=1\n",
    "            if obj[\"material_id\"][i] not in fraction_ids:\n",
    "                fraction_ids.append(obj[\"material_id\"][i])\n",
    "print(fraction_N)\n",
    "print(fraction_ids)"
   ]
  },
  {
   "cell_type": "code",
   "execution_count": null,
   "metadata": {},
   "outputs": [],
   "source": [
    "#results show that evey number of elements is integer."
   ]
  },
  {
   "cell_type": "code",
   "execution_count": 84,
   "metadata": {},
   "outputs": [],
   "source": [
    "from pymatgen import Composition, Element\n",
    "\n",
    "#subtract element_environment matrix\n",
    "#first statistc the element_environment pair and count it's number\n",
    "\n",
    "element_environment={}\n",
    "\n",
    "for i in range(len(obj)):\n",
    "    compound=Composition(obj[\"pretty_formula\"][i])\n",
    "    elements_incomp=[]\n",
    "    \n",
    "    for ele in compound:\n",
    "        elements_incomp.append(str(ele))\n",
    "    \n",
    "    for ele in sorted(elements_incomp):\n",
    "        element_envir=str(int(compound[ele]))\n",
    "        for j in sorted(elements_incomp):\n",
    "            if j!=ele:\n",
    "                element_envir+=j+str(int(compound[j]))\n",
    "    \n",
    "        if element_envir in element_environment:\n",
    "            element_environment[element_envir]+=1\n",
    "        else:\n",
    "            element_environment[element_envir]=1"
   ]
  },
  {
   "cell_type": "code",
   "execution_count": 88,
   "metadata": {},
   "outputs": [
    {
     "data": {
      "text/plain": [
       "83131"
      ]
     },
     "execution_count": 88,
     "metadata": {},
     "output_type": "execute_result"
    }
   ],
   "source": [
    "len(element_environment)"
   ]
  },
  {
   "cell_type": "code",
   "execution_count": 92,
   "metadata": {},
   "outputs": [],
   "source": [
    "#sort the environment\n",
    "import operator\n",
    "sorted_element_environment = sorted(element_environment.items(), key=operator.itemgetter(1),reverse=True)"
   ]
  },
  {
   "cell_type": "code",
   "execution_count": 94,
   "metadata": {},
   "outputs": [
    {
     "data": {
      "text/plain": [
       "83131"
      ]
     },
     "execution_count": 94,
     "metadata": {},
     "output_type": "execute_result"
    }
   ],
   "source": [
    "len(sorted_element_environment)"
   ]
  },
  {
   "cell_type": "code",
   "execution_count": 96,
   "metadata": {},
   "outputs": [
    {
     "data": {
      "text/plain": [
       "[('11Ba2Mn2', 1),\n",
       " ('6Ca1Ho1Sn2', 1),\n",
       " ('6Bi2Ca1Ho1', 1),\n",
       " ('4Mo1P1', 1),\n",
       " ('6Ho1Sn2Zn1', 1),\n",
       " ('2F11W2Y1', 1),\n",
       " ('11Ba2W2Y1', 1),\n",
       " ('8Ca1Mn2P2', 1),\n",
       " ('2Ca1Mn2O8', 1),\n",
       " ('6Ca1Cr2La1', 1)]"
      ]
     },
     "execution_count": 96,
     "metadata": {},
     "output_type": "execute_result"
    }
   ],
   "source": [
    "sorted_element_environment[-10:]"
   ]
  },
  {
   "cell_type": "code",
   "execution_count": 109,
   "metadata": {},
   "outputs": [],
   "source": [
    "sorted_environment=[]\n",
    "for i in range(len(sorted_element_environment)):\n",
    "    sorted_environment.append(sorted_element_environment[i][0])"
   ]
  },
  {
   "cell_type": "code",
   "execution_count": 111,
   "metadata": {},
   "outputs": [
    {
     "data": {
      "text/plain": [
       "83131"
      ]
     },
     "execution_count": 111,
     "metadata": {},
     "output_type": "execute_result"
    }
   ],
   "source": [
    "len(sorted_environment)"
   ]
  },
  {
   "cell_type": "code",
   "execution_count": 128,
   "metadata": {},
   "outputs": [],
   "source": [
    "from pymatgen import Composition, Element\n",
    "\n",
    "#subtract element\n",
    "\n",
    "\n",
    "Element_dict={}\n",
    "\n",
    "for i in range(len(obj)):\n",
    "    compound=Composition(obj[\"pretty_formula\"][i])\n",
    "\n",
    "    for ele in compound:\n",
    "        if ele in Element_dict:\n",
    "            Element_dict[ele]+=1\n",
    "        else:\n",
    "            Element_dict[ele]=1\n",
    "    "
   ]
  },
  {
   "cell_type": "code",
   "execution_count": 129,
   "metadata": {},
   "outputs": [],
   "source": [
    "#sort the elements\n",
    "import operator\n",
    "sorted_Element_dict = sorted(Element_dict.items(), key=operator.itemgetter(1),reverse=True)"
   ]
  },
  {
   "cell_type": "code",
   "execution_count": 141,
   "metadata": {},
   "outputs": [],
   "source": [
    "sorted_Element=[]\n",
    "for i in range(len(sorted_Element_dict)):\n",
    "    sorted_Element.append(str(sorted_Element_dict[i][0]))"
   ]
  },
  {
   "cell_type": "code",
   "execution_count": 152,
   "metadata": {},
   "outputs": [],
   "source": [
    "d = pd.DataFrame(0, index=sorted_Element, columns=sorted_environment)"
   ]
  },
  {
   "cell_type": "code",
   "execution_count": 153,
   "metadata": {},
   "outputs": [
    {
     "data": {
      "text/html": [
       "<div>\n",
       "<style scoped>\n",
       "    .dataframe tbody tr th:only-of-type {\n",
       "        vertical-align: middle;\n",
       "    }\n",
       "\n",
       "    .dataframe tbody tr th {\n",
       "        vertical-align: top;\n",
       "    }\n",
       "\n",
       "    .dataframe thead th {\n",
       "        text-align: right;\n",
       "    }\n",
       "</style>\n",
       "<table border=\"1\" class=\"dataframe\">\n",
       "  <thead>\n",
       "    <tr style=\"text-align: right;\">\n",
       "      <th></th>\n",
       "      <th>1O2</th>\n",
       "      <th>1Li1O4P1</th>\n",
       "      <th>2Si1</th>\n",
       "      <th>1Mg1</th>\n",
       "      <th>2Mg1</th>\n",
       "      <th>1Se2</th>\n",
       "      <th>1S1</th>\n",
       "      <th>1N1</th>\n",
       "      <th>1Mg2</th>\n",
       "      <th>2Mg1O4</th>\n",
       "      <th>...</th>\n",
       "      <th>11Ba2Mn2</th>\n",
       "      <th>6Ca1Ho1Sn2</th>\n",
       "      <th>6Bi2Ca1Ho1</th>\n",
       "      <th>4Mo1P1</th>\n",
       "      <th>6Ho1Sn2Zn1</th>\n",
       "      <th>2F11W2Y1</th>\n",
       "      <th>11Ba2W2Y1</th>\n",
       "      <th>8Ca1Mn2P2</th>\n",
       "      <th>2Ca1Mn2O8</th>\n",
       "      <th>6Ca1Cr2La1</th>\n",
       "    </tr>\n",
       "  </thead>\n",
       "  <tbody>\n",
       "    <tr>\n",
       "      <th>O</th>\n",
       "      <td>0</td>\n",
       "      <td>0</td>\n",
       "      <td>0</td>\n",
       "      <td>0</td>\n",
       "      <td>0</td>\n",
       "      <td>0</td>\n",
       "      <td>0</td>\n",
       "      <td>0</td>\n",
       "      <td>0</td>\n",
       "      <td>0</td>\n",
       "      <td>...</td>\n",
       "      <td>0</td>\n",
       "      <td>0</td>\n",
       "      <td>0</td>\n",
       "      <td>0</td>\n",
       "      <td>0</td>\n",
       "      <td>0</td>\n",
       "      <td>0</td>\n",
       "      <td>0</td>\n",
       "      <td>0</td>\n",
       "      <td>0</td>\n",
       "    </tr>\n",
       "    <tr>\n",
       "      <th>Li</th>\n",
       "      <td>0</td>\n",
       "      <td>0</td>\n",
       "      <td>0</td>\n",
       "      <td>0</td>\n",
       "      <td>0</td>\n",
       "      <td>0</td>\n",
       "      <td>0</td>\n",
       "      <td>0</td>\n",
       "      <td>0</td>\n",
       "      <td>0</td>\n",
       "      <td>...</td>\n",
       "      <td>0</td>\n",
       "      <td>0</td>\n",
       "      <td>0</td>\n",
       "      <td>0</td>\n",
       "      <td>0</td>\n",
       "      <td>0</td>\n",
       "      <td>0</td>\n",
       "      <td>0</td>\n",
       "      <td>0</td>\n",
       "      <td>0</td>\n",
       "    </tr>\n",
       "    <tr>\n",
       "      <th>Mg</th>\n",
       "      <td>0</td>\n",
       "      <td>0</td>\n",
       "      <td>0</td>\n",
       "      <td>0</td>\n",
       "      <td>0</td>\n",
       "      <td>0</td>\n",
       "      <td>0</td>\n",
       "      <td>0</td>\n",
       "      <td>0</td>\n",
       "      <td>0</td>\n",
       "      <td>...</td>\n",
       "      <td>0</td>\n",
       "      <td>0</td>\n",
       "      <td>0</td>\n",
       "      <td>0</td>\n",
       "      <td>0</td>\n",
       "      <td>0</td>\n",
       "      <td>0</td>\n",
       "      <td>0</td>\n",
       "      <td>0</td>\n",
       "      <td>0</td>\n",
       "    </tr>\n",
       "    <tr>\n",
       "      <th>P</th>\n",
       "      <td>0</td>\n",
       "      <td>0</td>\n",
       "      <td>0</td>\n",
       "      <td>0</td>\n",
       "      <td>0</td>\n",
       "      <td>0</td>\n",
       "      <td>0</td>\n",
       "      <td>0</td>\n",
       "      <td>0</td>\n",
       "      <td>0</td>\n",
       "      <td>...</td>\n",
       "      <td>0</td>\n",
       "      <td>0</td>\n",
       "      <td>0</td>\n",
       "      <td>0</td>\n",
       "      <td>0</td>\n",
       "      <td>0</td>\n",
       "      <td>0</td>\n",
       "      <td>0</td>\n",
       "      <td>0</td>\n",
       "      <td>0</td>\n",
       "    </tr>\n",
       "    <tr>\n",
       "      <th>F</th>\n",
       "      <td>0</td>\n",
       "      <td>0</td>\n",
       "      <td>0</td>\n",
       "      <td>0</td>\n",
       "      <td>0</td>\n",
       "      <td>0</td>\n",
       "      <td>0</td>\n",
       "      <td>0</td>\n",
       "      <td>0</td>\n",
       "      <td>0</td>\n",
       "      <td>...</td>\n",
       "      <td>0</td>\n",
       "      <td>0</td>\n",
       "      <td>0</td>\n",
       "      <td>0</td>\n",
       "      <td>0</td>\n",
       "      <td>0</td>\n",
       "      <td>0</td>\n",
       "      <td>0</td>\n",
       "      <td>0</td>\n",
       "      <td>0</td>\n",
       "    </tr>\n",
       "  </tbody>\n",
       "</table>\n",
       "<p>5 rows × 83131 columns</p>\n",
       "</div>"
      ],
      "text/plain": [
       "    1O2  1Li1O4P1  2Si1  1Mg1  2Mg1  1Se2  1S1  1N1  1Mg2  2Mg1O4     ...      \\\n",
       "O     0         0     0     0     0     0    0    0     0       0     ...       \n",
       "Li    0         0     0     0     0     0    0    0     0       0     ...       \n",
       "Mg    0         0     0     0     0     0    0    0     0       0     ...       \n",
       "P     0         0     0     0     0     0    0    0     0       0     ...       \n",
       "F     0         0     0     0     0     0    0    0     0       0     ...       \n",
       "\n",
       "    11Ba2Mn2  6Ca1Ho1Sn2  6Bi2Ca1Ho1  4Mo1P1  6Ho1Sn2Zn1  2F11W2Y1  11Ba2W2Y1  \\\n",
       "O          0           0           0       0           0         0          0   \n",
       "Li         0           0           0       0           0         0          0   \n",
       "Mg         0           0           0       0           0         0          0   \n",
       "P          0           0           0       0           0         0          0   \n",
       "F          0           0           0       0           0         0          0   \n",
       "\n",
       "    8Ca1Mn2P2  2Ca1Mn2O8  6Ca1Cr2La1  \n",
       "O           0          0           0  \n",
       "Li          0          0           0  \n",
       "Mg          0          0           0  \n",
       "P           0          0           0  \n",
       "F           0          0           0  \n",
       "\n",
       "[5 rows x 83131 columns]"
      ]
     },
     "execution_count": 153,
     "metadata": {},
     "output_type": "execute_result"
    }
   ],
   "source": [
    "#build empty matrix\n",
    "d.head()"
   ]
  },
  {
   "cell_type": "code",
   "execution_count": 155,
   "metadata": {},
   "outputs": [],
   "source": [
    "from pymatgen import Composition, Element\n",
    "\n",
    "#subtract element_environment matrix\n",
    "#first statistc the element_environment pair and count it's number\n",
    "\n",
    "for i in range(len(obj)):\n",
    "    compound=Composition(obj[\"pretty_formula\"][i])\n",
    "    elements_incomp=[]\n",
    "    \n",
    "    for ele in compound:\n",
    "        elements_incomp.append(str(ele))\n",
    "    \n",
    "    for ele in sorted(elements_incomp):\n",
    "        element_envir=str(int(compound[ele]))\n",
    "        \n",
    "        for j in sorted(elements_incomp):\n",
    "            if j!=ele:\n",
    "                element_envir+=j+str(int(compound[j]))\n",
    "        \n",
    "        d[element_envir][ele]+=1"
   ]
  },
  {
   "cell_type": "code",
   "execution_count": 156,
   "metadata": {},
   "outputs": [
    {
     "data": {
      "text/html": [
       "<div>\n",
       "<style scoped>\n",
       "    .dataframe tbody tr th:only-of-type {\n",
       "        vertical-align: middle;\n",
       "    }\n",
       "\n",
       "    .dataframe tbody tr th {\n",
       "        vertical-align: top;\n",
       "    }\n",
       "\n",
       "    .dataframe thead th {\n",
       "        text-align: right;\n",
       "    }\n",
       "</style>\n",
       "<table border=\"1\" class=\"dataframe\">\n",
       "  <thead>\n",
       "    <tr style=\"text-align: right;\">\n",
       "      <th></th>\n",
       "      <th>1O2</th>\n",
       "      <th>1Li1O4P1</th>\n",
       "      <th>2Si1</th>\n",
       "      <th>1Mg1</th>\n",
       "      <th>2Mg1</th>\n",
       "      <th>1Se2</th>\n",
       "      <th>1S1</th>\n",
       "      <th>1N1</th>\n",
       "      <th>1Mg2</th>\n",
       "      <th>2Mg1O4</th>\n",
       "      <th>...</th>\n",
       "      <th>11Ba2Mn2</th>\n",
       "      <th>6Ca1Ho1Sn2</th>\n",
       "      <th>6Bi2Ca1Ho1</th>\n",
       "      <th>4Mo1P1</th>\n",
       "      <th>6Ho1Sn2Zn1</th>\n",
       "      <th>2F11W2Y1</th>\n",
       "      <th>11Ba2W2Y1</th>\n",
       "      <th>8Ca1Mn2P2</th>\n",
       "      <th>2Ca1Mn2O8</th>\n",
       "      <th>6Ca1Cr2La1</th>\n",
       "    </tr>\n",
       "  </thead>\n",
       "  <tbody>\n",
       "    <tr>\n",
       "      <th>O</th>\n",
       "      <td>0</td>\n",
       "      <td>0</td>\n",
       "      <td>282</td>\n",
       "      <td>7</td>\n",
       "      <td>2</td>\n",
       "      <td>0</td>\n",
       "      <td>0</td>\n",
       "      <td>2</td>\n",
       "      <td>0</td>\n",
       "      <td>0</td>\n",
       "      <td>...</td>\n",
       "      <td>0</td>\n",
       "      <td>1</td>\n",
       "      <td>1</td>\n",
       "      <td>1</td>\n",
       "      <td>1</td>\n",
       "      <td>0</td>\n",
       "      <td>0</td>\n",
       "      <td>1</td>\n",
       "      <td>0</td>\n",
       "      <td>1</td>\n",
       "    </tr>\n",
       "    <tr>\n",
       "      <th>Li</th>\n",
       "      <td>4</td>\n",
       "      <td>0</td>\n",
       "      <td>1</td>\n",
       "      <td>17</td>\n",
       "      <td>12</td>\n",
       "      <td>0</td>\n",
       "      <td>2</td>\n",
       "      <td>1</td>\n",
       "      <td>15</td>\n",
       "      <td>0</td>\n",
       "      <td>...</td>\n",
       "      <td>0</td>\n",
       "      <td>0</td>\n",
       "      <td>0</td>\n",
       "      <td>0</td>\n",
       "      <td>0</td>\n",
       "      <td>0</td>\n",
       "      <td>0</td>\n",
       "      <td>0</td>\n",
       "      <td>0</td>\n",
       "      <td>0</td>\n",
       "    </tr>\n",
       "    <tr>\n",
       "      <th>Mg</th>\n",
       "      <td>2</td>\n",
       "      <td>1</td>\n",
       "      <td>35</td>\n",
       "      <td>0</td>\n",
       "      <td>0</td>\n",
       "      <td>0</td>\n",
       "      <td>2</td>\n",
       "      <td>0</td>\n",
       "      <td>0</td>\n",
       "      <td>0</td>\n",
       "      <td>...</td>\n",
       "      <td>0</td>\n",
       "      <td>0</td>\n",
       "      <td>0</td>\n",
       "      <td>0</td>\n",
       "      <td>0</td>\n",
       "      <td>0</td>\n",
       "      <td>0</td>\n",
       "      <td>0</td>\n",
       "      <td>0</td>\n",
       "      <td>0</td>\n",
       "    </tr>\n",
       "    <tr>\n",
       "      <th>P</th>\n",
       "      <td>1</td>\n",
       "      <td>0</td>\n",
       "      <td>2</td>\n",
       "      <td>1</td>\n",
       "      <td>0</td>\n",
       "      <td>0</td>\n",
       "      <td>1</td>\n",
       "      <td>0</td>\n",
       "      <td>0</td>\n",
       "      <td>0</td>\n",
       "      <td>...</td>\n",
       "      <td>0</td>\n",
       "      <td>0</td>\n",
       "      <td>0</td>\n",
       "      <td>0</td>\n",
       "      <td>0</td>\n",
       "      <td>0</td>\n",
       "      <td>0</td>\n",
       "      <td>0</td>\n",
       "      <td>1</td>\n",
       "      <td>0</td>\n",
       "    </tr>\n",
       "    <tr>\n",
       "      <th>F</th>\n",
       "      <td>0</td>\n",
       "      <td>0</td>\n",
       "      <td>0</td>\n",
       "      <td>0</td>\n",
       "      <td>5</td>\n",
       "      <td>0</td>\n",
       "      <td>0</td>\n",
       "      <td>1</td>\n",
       "      <td>0</td>\n",
       "      <td>0</td>\n",
       "      <td>...</td>\n",
       "      <td>1</td>\n",
       "      <td>0</td>\n",
       "      <td>0</td>\n",
       "      <td>0</td>\n",
       "      <td>0</td>\n",
       "      <td>0</td>\n",
       "      <td>1</td>\n",
       "      <td>0</td>\n",
       "      <td>0</td>\n",
       "      <td>0</td>\n",
       "    </tr>\n",
       "  </tbody>\n",
       "</table>\n",
       "<p>5 rows × 83131 columns</p>\n",
       "</div>"
      ],
      "text/plain": [
       "    1O2  1Li1O4P1  2Si1  1Mg1  2Mg1  1Se2  1S1  1N1  1Mg2  2Mg1O4     ...      \\\n",
       "O     0         0   282     7     2     0    0    2     0       0     ...       \n",
       "Li    4         0     1    17    12     0    2    1    15       0     ...       \n",
       "Mg    2         1    35     0     0     0    2    0     0       0     ...       \n",
       "P     1         0     2     1     0     0    1    0     0       0     ...       \n",
       "F     0         0     0     0     5     0    0    1     0       0     ...       \n",
       "\n",
       "    11Ba2Mn2  6Ca1Ho1Sn2  6Bi2Ca1Ho1  4Mo1P1  6Ho1Sn2Zn1  2F11W2Y1  11Ba2W2Y1  \\\n",
       "O          0           1           1       1           1         0          0   \n",
       "Li         0           0           0       0           0         0          0   \n",
       "Mg         0           0           0       0           0         0          0   \n",
       "P          0           0           0       0           0         0          0   \n",
       "F          1           0           0       0           0         0          1   \n",
       "\n",
       "    8Ca1Mn2P2  2Ca1Mn2O8  6Ca1Cr2La1  \n",
       "O           1          0           1  \n",
       "Li          0          0           0  \n",
       "Mg          0          0           0  \n",
       "P           0          1           0  \n",
       "F           0          0           0  \n",
       "\n",
       "[5 rows x 83131 columns]"
      ]
     },
     "execution_count": 156,
     "metadata": {},
     "output_type": "execute_result"
    }
   ],
   "source": [
    "d.head()"
   ]
  },
  {
   "cell_type": "code",
   "execution_count": 158,
   "metadata": {},
   "outputs": [
    {
     "data": {
      "text/plain": [
       "Li    11683\n",
       "Mg     9449\n",
       "P      7349\n",
       "F      5978\n",
       "dtype: int64"
      ]
     },
     "execution_count": 158,
     "metadata": {},
     "output_type": "execute_result"
    }
   ],
   "source": [
    "#check the sum by rows\n",
    "d.sum(axis=1)[1:5]"
   ]
  },
  {
   "cell_type": "code",
   "execution_count": 160,
   "metadata": {},
   "outputs": [
    {
     "data": {
      "text/plain": [
       "[(Element Li, 11683), (Element Mg, 9449), (Element P, 7349), (Element F, 5978)]"
      ]
     },
     "execution_count": 160,
     "metadata": {},
     "output_type": "execute_result"
    }
   ],
   "source": [
    "#check the sum by rows\n",
    "sorted_Element_dict[1:5]"
   ]
  },
  {
   "cell_type": "code",
   "execution_count": null,
   "metadata": {},
   "outputs": [],
   "source": [
    "#looks good, store the matrix"
   ]
  },
  {
   "cell_type": "code",
   "execution_count": 167,
   "metadata": {},
   "outputs": [],
   "source": [
    "#save as csv\n",
    "df = pd.DataFrame(d)\n",
    "df.to_csv('first_Matrix_09_13_2018.csv')"
   ]
  }
 ],
 "metadata": {
  "kernelspec": {
   "display_name": "Python 3",
   "language": "python",
   "name": "python3"
  },
  "language_info": {
   "codemirror_mode": {
    "name": "ipython",
    "version": 3
   },
   "file_extension": ".py",
   "mimetype": "text/x-python",
   "name": "python",
   "nbconvert_exporter": "python",
   "pygments_lexer": "ipython3",
   "version": "3.6.5"
  }
 },
 "nbformat": 4,
 "nbformat_minor": 2
}
