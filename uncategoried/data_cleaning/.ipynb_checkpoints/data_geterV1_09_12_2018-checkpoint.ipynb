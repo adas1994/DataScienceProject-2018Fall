{
 "cells": [
  {
   "cell_type": "code",
   "execution_count": null,
   "metadata": {},
   "outputs": [],
   "source": [
    "from pymatgen import MPRester                                                     \n",
    "import urllib.request                                                             \n",
    "import json\n",
    "\n",
    "                                                                                  \n",
    "if __name__ == \"__main__\":                                                        \n",
    "    MAPI_KEY = \"zQIrujyVEwEhTBRW\"  # You must change this to your Materials API key! (or set MAPI_KEY env variable)\n",
    "                                                                                  \n",
    "    # fetch list of a list of all available materials                             \n",
    "    with urllib.request.urlopen('https://www.materialsproject.org/rest/v1/materials//mids') as myurl:\n",
    "        data = json.loads(myurl.read().decode())                                  \n",
    "        material_ids = data['response'] # 75,000'ish material IDs are returned \n",
    "                                                                                  \n",
    "                                                                                  \n",
    "    with MPRester(MAPI_KEY) as m: # object for connecting to MP Rest interface \n",
    "        criteria={'material_id': {'$in':material_ids[:]}} # to avoid straining the servers, this is only using the first 4 materials\n",
    "        #properties=['energy', 'pretty_formula','total_electrons','density']\n",
    "        properties=['material_id','pretty_formula','energy','formation_energy','spacegroup'] \n",
    "        # list a few quanteties of interest\n",
    "        data = m.query(criteria, properties)                                      \n",
    "        print(data[:10])\n",
    "    "
   ]
  },
  {
   "cell_type": "code",
   "execution_count": 4,
   "metadata": {},
   "outputs": [],
   "source": [
    "import csv\n",
    "keys=data[0].keys()\n",
    "with open('third_dataset_09_12_2018.csv','w') as output_file:\n",
    "    dict_writer = csv.DictWriter(output_file, keys)\n",
    "    dict_writer.writeheader()\n",
    "    dict_writer.writerows(data)"
   ]
  },
  {
   "cell_type": "code",
   "execution_count": 7,
   "metadata": {},
   "outputs": [
    {
     "data": {
      "text/plain": [
       "83989"
      ]
     },
     "execution_count": 7,
     "metadata": {},
     "output_type": "execute_result"
    }
   ],
   "source": [
    "import pandas as pd\n",
    "obj=pd.read_csv('third_dataset_09_12_2018.csv')\n",
    "obj.head()\n",
    "len(obj)"
   ]
  },
  {
   "cell_type": "code",
   "execution_count": 8,
   "metadata": {},
   "outputs": [
    {
     "data": {
      "text/plain": [
       "84119"
      ]
     },
     "execution_count": 8,
     "metadata": {},
     "output_type": "execute_result"
    }
   ],
   "source": [
    "len(material_ids)"
   ]
  },
  {
   "cell_type": "code",
   "execution_count": 9,
   "metadata": {},
   "outputs": [],
   "source": [
    "obj_old=pd.read_csv('second_dataset.csv')"
   ]
  },
  {
   "cell_type": "code",
   "execution_count": 10,
   "metadata": {},
   "outputs": [
    {
     "data": {
      "text/plain": [
       "83989"
      ]
     },
     "execution_count": 10,
     "metadata": {},
     "output_type": "execute_result"
    }
   ],
   "source": [
    "len(obj_old)"
   ]
  }
 ],
 "metadata": {
  "kernelspec": {
   "display_name": "Python 3",
   "language": "python",
   "name": "python3"
  },
  "language_info": {
   "codemirror_mode": {
    "name": "ipython",
    "version": 3
   },
   "file_extension": ".py",
   "mimetype": "text/x-python",
   "name": "python",
   "nbconvert_exporter": "python",
   "pygments_lexer": "ipython3",
   "version": "3.6.5"
  }
 },
 "nbformat": 4,
 "nbformat_minor": 2
}
