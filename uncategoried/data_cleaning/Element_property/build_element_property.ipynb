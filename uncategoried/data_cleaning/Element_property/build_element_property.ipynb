{
 "cells": [
  {
   "cell_type": "code",
   "execution_count": 33,
   "metadata": {},
   "outputs": [],
   "source": [
    "from mendeleev import element\n",
    "#build elements properties file\n",
    "#1.element 2.EN-Pauling 3.EN-Allen 4.Atomic number 5.Raw number 6.Column number"
   ]
  },
  {
   "cell_type": "code",
   "execution_count": 13,
   "metadata": {},
   "outputs": [],
   "source": [
    "text_file = open(\"elements_list_main.txt\", \"r\")"
   ]
  },
  {
   "cell_type": "code",
   "execution_count": 27,
   "metadata": {},
   "outputs": [],
   "source": [
    "text_file = open(\"elements_list_main.txt\", \"r\")\n",
    "for element in text_file:\n",
    "    main_element_list=element.split()"
   ]
  },
  {
   "cell_type": "code",
   "execution_count": 28,
   "metadata": {},
   "outputs": [
    {
     "data": {
      "text/plain": [
       "'H'"
      ]
     },
     "execution_count": 28,
     "metadata": {},
     "output_type": "execute_result"
    }
   ],
   "source": [
    "main_element_list[0]"
   ]
  },
  {
   "cell_type": "code",
   "execution_count": 29,
   "metadata": {},
   "outputs": [],
   "source": [
    "EN_Pauling_list=[]\n",
    "EN_Allen_list=[]\n",
    "AN_list=[]\n",
    "Raw_N=[]\n",
    "Column_N=[]"
   ]
  },
  {
   "cell_type": "code",
   "execution_count": 34,
   "metadata": {},
   "outputs": [],
   "source": [
    "h=element('H')"
   ]
  },
  {
   "cell_type": "code",
   "execution_count": 35,
   "metadata": {},
   "outputs": [
    {
     "data": {
      "text/plain": [
       "1"
      ]
     },
     "execution_count": 35,
     "metadata": {},
     "output_type": "execute_result"
    }
   ],
   "source": [
    "h.atomic_number"
   ]
  },
  {
   "cell_type": "code",
   "execution_count": 38,
   "metadata": {},
   "outputs": [
    {
     "data": {
      "text/plain": [
       "13.61"
      ]
     },
     "execution_count": 38,
     "metadata": {},
     "output_type": "execute_result"
    }
   ],
   "source": [
    "h.en_allen"
   ]
  },
  {
   "cell_type": "code",
   "execution_count": 39,
   "metadata": {},
   "outputs": [
    {
     "data": {
      "text/plain": [
       "2.2"
      ]
     },
     "execution_count": 39,
     "metadata": {},
     "output_type": "execute_result"
    }
   ],
   "source": [
    "h.en_pauling"
   ]
  },
  {
   "cell_type": "code",
   "execution_count": 42,
   "metadata": {},
   "outputs": [
    {
     "data": {
      "text/plain": [
       "<Group(symbol=IA, name=Alkali metals)>"
      ]
     },
     "execution_count": 42,
     "metadata": {},
     "output_type": "execute_result"
    }
   ],
   "source": [
    "h.group"
   ]
  },
  {
   "cell_type": "code",
   "execution_count": 43,
   "metadata": {},
   "outputs": [
    {
     "data": {
      "text/plain": [
       "14"
      ]
     },
     "execution_count": 43,
     "metadata": {},
     "output_type": "execute_result"
    }
   ],
   "source": [
    "element(\"Si\").atomic_number"
   ]
  },
  {
   "cell_type": "code",
   "execution_count": 44,
   "metadata": {},
   "outputs": [],
   "source": [
    "from mendeleev import element\n",
    "from pymatgen import Element"
   ]
  },
  {
   "cell_type": "code",
   "execution_count": 45,
   "metadata": {},
   "outputs": [],
   "source": [
    "test_element=\"Si\""
   ]
  },
  {
   "cell_type": "code",
   "execution_count": 58,
   "metadata": {},
   "outputs": [
    {
     "data": {
      "text/plain": [
       "3"
      ]
     },
     "execution_count": 58,
     "metadata": {},
     "output_type": "execute_result"
    }
   ],
   "source": [
    "element(test_element).en_allen\n",
    "element(test_element).en_pauling\n",
    "\n",
    "element(test_element).atomic_number\n",
    "\n",
    "#group is the column number\n",
    "Element(test_element).group\n",
    "\n",
    "#row is the row number\n",
    "Element(test_element).row"
   ]
  },
  {
   "cell_type": "code",
   "execution_count": null,
   "metadata": {},
   "outputs": [],
   "source": [
    "text_file = open(\"elements_list_main.txt\", \"r\")\n",
    "for element in text_file:\n",
    "    main_element_list=element.split()"
   ]
  },
  {
   "cell_type": "code",
   "execution_count": 66,
   "metadata": {},
   "outputs": [],
   "source": [
    "EN_Pauling_list=[]\n",
    "EN_Allen_list=[]\n",
    "AN_list=[]\n",
    "Raw_N=[]\n",
    "Column_N=[]\n",
    "\n",
    "for ele in main_element_list:\n",
    "    EN_Pauling_list.append(element(ele).en_pauling)\n",
    "    EN_Allen_list.append(element(ele).en_allen)\n",
    "    AN_list.append(element(ele).atomic_number)\n",
    "    Raw_N.append(Element(ele).row)\n",
    "    Column_N.append(Element(ele).group)"
   ]
  },
  {
   "cell_type": "code",
   "execution_count": 72,
   "metadata": {},
   "outputs": [],
   "source": [
    "df={\n",
    "   \"main_element_list\":main_element_list,\n",
    "   \"EN_PAULING\":EN_Pauling_list,\n",
    "   \"EN_Allen\":EN_Allen_list,\n",
    "   \"atomic_number\":AN_list,\n",
    "   \"raw_number\":Raw_N,\n",
    "   \"column_number\":Column_N,\n",
    "   }"
   ]
  },
  {
   "cell_type": "code",
   "execution_count": 73,
   "metadata": {},
   "outputs": [],
   "source": [
    "import pandas as pd\n",
    "DF=pd.DataFrame(df)"
   ]
  },
  {
   "cell_type": "code",
   "execution_count": 74,
   "metadata": {},
   "outputs": [
    {
     "data": {
      "text/html": [
       "<div>\n",
       "<style scoped>\n",
       "    .dataframe tbody tr th:only-of-type {\n",
       "        vertical-align: middle;\n",
       "    }\n",
       "\n",
       "    .dataframe tbody tr th {\n",
       "        vertical-align: top;\n",
       "    }\n",
       "\n",
       "    .dataframe thead th {\n",
       "        text-align: right;\n",
       "    }\n",
       "</style>\n",
       "<table border=\"1\" class=\"dataframe\">\n",
       "  <thead>\n",
       "    <tr style=\"text-align: right;\">\n",
       "      <th></th>\n",
       "      <th>main_element_list</th>\n",
       "      <th>EN_PAULING</th>\n",
       "      <th>EN_Allen</th>\n",
       "      <th>atomic_number</th>\n",
       "      <th>raw_number</th>\n",
       "      <th>column_number</th>\n",
       "    </tr>\n",
       "  </thead>\n",
       "  <tbody>\n",
       "    <tr>\n",
       "      <th>0</th>\n",
       "      <td>H</td>\n",
       "      <td>2.20</td>\n",
       "      <td>13.610</td>\n",
       "      <td>1</td>\n",
       "      <td>1</td>\n",
       "      <td>1</td>\n",
       "    </tr>\n",
       "    <tr>\n",
       "      <th>1</th>\n",
       "      <td>Li</td>\n",
       "      <td>0.98</td>\n",
       "      <td>5.392</td>\n",
       "      <td>3</td>\n",
       "      <td>2</td>\n",
       "      <td>1</td>\n",
       "    </tr>\n",
       "    <tr>\n",
       "      <th>2</th>\n",
       "      <td>Na</td>\n",
       "      <td>0.93</td>\n",
       "      <td>5.140</td>\n",
       "      <td>11</td>\n",
       "      <td>3</td>\n",
       "      <td>1</td>\n",
       "    </tr>\n",
       "    <tr>\n",
       "      <th>3</th>\n",
       "      <td>K</td>\n",
       "      <td>0.82</td>\n",
       "      <td>4.340</td>\n",
       "      <td>19</td>\n",
       "      <td>4</td>\n",
       "      <td>1</td>\n",
       "    </tr>\n",
       "    <tr>\n",
       "      <th>4</th>\n",
       "      <td>Rb</td>\n",
       "      <td>0.82</td>\n",
       "      <td>4.177</td>\n",
       "      <td>37</td>\n",
       "      <td>5</td>\n",
       "      <td>1</td>\n",
       "    </tr>\n",
       "    <tr>\n",
       "      <th>5</th>\n",
       "      <td>Cs</td>\n",
       "      <td>0.79</td>\n",
       "      <td>3.898</td>\n",
       "      <td>55</td>\n",
       "      <td>6</td>\n",
       "      <td>1</td>\n",
       "    </tr>\n",
       "    <tr>\n",
       "      <th>6</th>\n",
       "      <td>Be</td>\n",
       "      <td>1.57</td>\n",
       "      <td>9.323</td>\n",
       "      <td>4</td>\n",
       "      <td>2</td>\n",
       "      <td>2</td>\n",
       "    </tr>\n",
       "    <tr>\n",
       "      <th>7</th>\n",
       "      <td>Mg</td>\n",
       "      <td>1.31</td>\n",
       "      <td>7.646</td>\n",
       "      <td>12</td>\n",
       "      <td>3</td>\n",
       "      <td>2</td>\n",
       "    </tr>\n",
       "    <tr>\n",
       "      <th>8</th>\n",
       "      <td>Ca</td>\n",
       "      <td>1.00</td>\n",
       "      <td>6.113</td>\n",
       "      <td>20</td>\n",
       "      <td>4</td>\n",
       "      <td>2</td>\n",
       "    </tr>\n",
       "    <tr>\n",
       "      <th>9</th>\n",
       "      <td>Sr</td>\n",
       "      <td>0.95</td>\n",
       "      <td>5.695</td>\n",
       "      <td>38</td>\n",
       "      <td>5</td>\n",
       "      <td>2</td>\n",
       "    </tr>\n",
       "    <tr>\n",
       "      <th>10</th>\n",
       "      <td>Ba</td>\n",
       "      <td>0.89</td>\n",
       "      <td>5.211</td>\n",
       "      <td>56</td>\n",
       "      <td>6</td>\n",
       "      <td>2</td>\n",
       "    </tr>\n",
       "    <tr>\n",
       "      <th>11</th>\n",
       "      <td>B</td>\n",
       "      <td>2.04</td>\n",
       "      <td>12.130</td>\n",
       "      <td>5</td>\n",
       "      <td>2</td>\n",
       "      <td>13</td>\n",
       "    </tr>\n",
       "    <tr>\n",
       "      <th>12</th>\n",
       "      <td>Al</td>\n",
       "      <td>1.61</td>\n",
       "      <td>9.539</td>\n",
       "      <td>13</td>\n",
       "      <td>3</td>\n",
       "      <td>13</td>\n",
       "    </tr>\n",
       "    <tr>\n",
       "      <th>13</th>\n",
       "      <td>Ga</td>\n",
       "      <td>1.81</td>\n",
       "      <td>10.390</td>\n",
       "      <td>31</td>\n",
       "      <td>4</td>\n",
       "      <td>13</td>\n",
       "    </tr>\n",
       "    <tr>\n",
       "      <th>14</th>\n",
       "      <td>In</td>\n",
       "      <td>1.78</td>\n",
       "      <td>9.793</td>\n",
       "      <td>49</td>\n",
       "      <td>5</td>\n",
       "      <td>13</td>\n",
       "    </tr>\n",
       "    <tr>\n",
       "      <th>15</th>\n",
       "      <td>Tl</td>\n",
       "      <td>1.80</td>\n",
       "      <td>NaN</td>\n",
       "      <td>81</td>\n",
       "      <td>6</td>\n",
       "      <td>13</td>\n",
       "    </tr>\n",
       "    <tr>\n",
       "      <th>16</th>\n",
       "      <td>C</td>\n",
       "      <td>2.55</td>\n",
       "      <td>15.050</td>\n",
       "      <td>6</td>\n",
       "      <td>2</td>\n",
       "      <td>14</td>\n",
       "    </tr>\n",
       "    <tr>\n",
       "      <th>17</th>\n",
       "      <td>Si</td>\n",
       "      <td>1.90</td>\n",
       "      <td>11.330</td>\n",
       "      <td>14</td>\n",
       "      <td>3</td>\n",
       "      <td>14</td>\n",
       "    </tr>\n",
       "    <tr>\n",
       "      <th>18</th>\n",
       "      <td>Ge</td>\n",
       "      <td>2.01</td>\n",
       "      <td>11.800</td>\n",
       "      <td>32</td>\n",
       "      <td>4</td>\n",
       "      <td>14</td>\n",
       "    </tr>\n",
       "    <tr>\n",
       "      <th>19</th>\n",
       "      <td>Sn</td>\n",
       "      <td>1.96</td>\n",
       "      <td>10.790</td>\n",
       "      <td>50</td>\n",
       "      <td>5</td>\n",
       "      <td>14</td>\n",
       "    </tr>\n",
       "    <tr>\n",
       "      <th>20</th>\n",
       "      <td>Pb</td>\n",
       "      <td>1.80</td>\n",
       "      <td>10.970</td>\n",
       "      <td>82</td>\n",
       "      <td>6</td>\n",
       "      <td>14</td>\n",
       "    </tr>\n",
       "    <tr>\n",
       "      <th>21</th>\n",
       "      <td>N</td>\n",
       "      <td>3.04</td>\n",
       "      <td>18.130</td>\n",
       "      <td>7</td>\n",
       "      <td>2</td>\n",
       "      <td>15</td>\n",
       "    </tr>\n",
       "    <tr>\n",
       "      <th>22</th>\n",
       "      <td>P</td>\n",
       "      <td>2.19</td>\n",
       "      <td>13.330</td>\n",
       "      <td>15</td>\n",
       "      <td>3</td>\n",
       "      <td>15</td>\n",
       "    </tr>\n",
       "    <tr>\n",
       "      <th>23</th>\n",
       "      <td>As</td>\n",
       "      <td>2.18</td>\n",
       "      <td>13.080</td>\n",
       "      <td>33</td>\n",
       "      <td>4</td>\n",
       "      <td>15</td>\n",
       "    </tr>\n",
       "    <tr>\n",
       "      <th>24</th>\n",
       "      <td>Sb</td>\n",
       "      <td>2.05</td>\n",
       "      <td>11.740</td>\n",
       "      <td>51</td>\n",
       "      <td>5</td>\n",
       "      <td>15</td>\n",
       "    </tr>\n",
       "    <tr>\n",
       "      <th>25</th>\n",
       "      <td>Bi</td>\n",
       "      <td>1.90</td>\n",
       "      <td>11.900</td>\n",
       "      <td>83</td>\n",
       "      <td>6</td>\n",
       "      <td>15</td>\n",
       "    </tr>\n",
       "    <tr>\n",
       "      <th>26</th>\n",
       "      <td>O</td>\n",
       "      <td>3.44</td>\n",
       "      <td>21.360</td>\n",
       "      <td>8</td>\n",
       "      <td>2</td>\n",
       "      <td>16</td>\n",
       "    </tr>\n",
       "    <tr>\n",
       "      <th>27</th>\n",
       "      <td>S</td>\n",
       "      <td>2.58</td>\n",
       "      <td>15.310</td>\n",
       "      <td>16</td>\n",
       "      <td>3</td>\n",
       "      <td>16</td>\n",
       "    </tr>\n",
       "    <tr>\n",
       "      <th>28</th>\n",
       "      <td>Se</td>\n",
       "      <td>2.55</td>\n",
       "      <td>14.340</td>\n",
       "      <td>34</td>\n",
       "      <td>4</td>\n",
       "      <td>16</td>\n",
       "    </tr>\n",
       "    <tr>\n",
       "      <th>29</th>\n",
       "      <td>Te</td>\n",
       "      <td>2.10</td>\n",
       "      <td>12.760</td>\n",
       "      <td>52</td>\n",
       "      <td>5</td>\n",
       "      <td>16</td>\n",
       "    </tr>\n",
       "    <tr>\n",
       "      <th>30</th>\n",
       "      <td>F</td>\n",
       "      <td>3.98</td>\n",
       "      <td>24.800</td>\n",
       "      <td>9</td>\n",
       "      <td>2</td>\n",
       "      <td>17</td>\n",
       "    </tr>\n",
       "    <tr>\n",
       "      <th>31</th>\n",
       "      <td>Cl</td>\n",
       "      <td>3.16</td>\n",
       "      <td>16.970</td>\n",
       "      <td>17</td>\n",
       "      <td>3</td>\n",
       "      <td>17</td>\n",
       "    </tr>\n",
       "    <tr>\n",
       "      <th>32</th>\n",
       "      <td>Br</td>\n",
       "      <td>2.96</td>\n",
       "      <td>15.880</td>\n",
       "      <td>35</td>\n",
       "      <td>4</td>\n",
       "      <td>17</td>\n",
       "    </tr>\n",
       "    <tr>\n",
       "      <th>33</th>\n",
       "      <td>I</td>\n",
       "      <td>2.66</td>\n",
       "      <td>13.950</td>\n",
       "      <td>53</td>\n",
       "      <td>5</td>\n",
       "      <td>17</td>\n",
       "    </tr>\n",
       "  </tbody>\n",
       "</table>\n",
       "</div>"
      ],
      "text/plain": [
       "   main_element_list  EN_PAULING  EN_Allen  atomic_number  raw_number  \\\n",
       "0                  H        2.20    13.610              1           1   \n",
       "1                 Li        0.98     5.392              3           2   \n",
       "2                 Na        0.93     5.140             11           3   \n",
       "3                  K        0.82     4.340             19           4   \n",
       "4                 Rb        0.82     4.177             37           5   \n",
       "5                 Cs        0.79     3.898             55           6   \n",
       "6                 Be        1.57     9.323              4           2   \n",
       "7                 Mg        1.31     7.646             12           3   \n",
       "8                 Ca        1.00     6.113             20           4   \n",
       "9                 Sr        0.95     5.695             38           5   \n",
       "10                Ba        0.89     5.211             56           6   \n",
       "11                 B        2.04    12.130              5           2   \n",
       "12                Al        1.61     9.539             13           3   \n",
       "13                Ga        1.81    10.390             31           4   \n",
       "14                In        1.78     9.793             49           5   \n",
       "15                Tl        1.80       NaN             81           6   \n",
       "16                 C        2.55    15.050              6           2   \n",
       "17                Si        1.90    11.330             14           3   \n",
       "18                Ge        2.01    11.800             32           4   \n",
       "19                Sn        1.96    10.790             50           5   \n",
       "20                Pb        1.80    10.970             82           6   \n",
       "21                 N        3.04    18.130              7           2   \n",
       "22                 P        2.19    13.330             15           3   \n",
       "23                As        2.18    13.080             33           4   \n",
       "24                Sb        2.05    11.740             51           5   \n",
       "25                Bi        1.90    11.900             83           6   \n",
       "26                 O        3.44    21.360              8           2   \n",
       "27                 S        2.58    15.310             16           3   \n",
       "28                Se        2.55    14.340             34           4   \n",
       "29                Te        2.10    12.760             52           5   \n",
       "30                 F        3.98    24.800              9           2   \n",
       "31                Cl        3.16    16.970             17           3   \n",
       "32                Br        2.96    15.880             35           4   \n",
       "33                 I        2.66    13.950             53           5   \n",
       "\n",
       "    column_number  \n",
       "0               1  \n",
       "1               1  \n",
       "2               1  \n",
       "3               1  \n",
       "4               1  \n",
       "5               1  \n",
       "6               2  \n",
       "7               2  \n",
       "8               2  \n",
       "9               2  \n",
       "10              2  \n",
       "11             13  \n",
       "12             13  \n",
       "13             13  \n",
       "14             13  \n",
       "15             13  \n",
       "16             14  \n",
       "17             14  \n",
       "18             14  \n",
       "19             14  \n",
       "20             14  \n",
       "21             15  \n",
       "22             15  \n",
       "23             15  \n",
       "24             15  \n",
       "25             15  \n",
       "26             16  \n",
       "27             16  \n",
       "28             16  \n",
       "29             16  \n",
       "30             17  \n",
       "31             17  \n",
       "32             17  \n",
       "33             17  "
      ]
     },
     "execution_count": 74,
     "metadata": {},
     "output_type": "execute_result"
    }
   ],
   "source": [
    "DF"
   ]
  },
  {
   "cell_type": "code",
   "execution_count": 75,
   "metadata": {},
   "outputs": [],
   "source": [
    "DF.to_csv(\"element_properties.csv\", sep='\\t', encoding='utf-8')"
   ]
  },
  {
   "cell_type": "code",
   "execution_count": null,
   "metadata": {},
   "outputs": [],
   "source": []
  }
 ],
 "metadata": {
  "kernelspec": {
   "display_name": "Python 3",
   "language": "python",
   "name": "python3"
  },
  "language_info": {
   "codemirror_mode": {
    "name": "ipython",
    "version": 3
   },
   "file_extension": ".py",
   "mimetype": "text/x-python",
   "name": "python",
   "nbconvert_exporter": "python",
   "pygments_lexer": "ipython3",
   "version": "3.6.5"
  }
 },
 "nbformat": 4,
 "nbformat_minor": 2
}
