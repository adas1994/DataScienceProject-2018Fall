{
 "cells": [
  {
   "cell_type": "code",
   "execution_count": 5,
   "metadata": {},
   "outputs": [
    {
     "name": "stdout",
     "output_type": "stream",
     "text": [
      "[{'pretty_formula': 'Cs', 'energy': -0.85881928, 'density': 1.9352166385518854, 'spacegroup': {'source': 'spglib', 'symbol': 'Im-3m', 'number': 229, 'point_group': 'm-3m', 'crystal_system': 'cubic', 'hall': '-I 4 2 3'}, 'icsd_ids': [626969, 44754, 76941, 626975, 426937], 'unit_cell_formula': {'Cs': 1.0}}, {'pretty_formula': 'As', 'energy': -9.10133099, 'density': 6.064411010784095, 'spacegroup': {'source': 'spglib', 'symbol': 'Pm-3m', 'number': 221, 'point_group': 'm-3m', 'crystal_system': 'cubic', 'hall': '-P 4 2 3'}, 'icsd_ids': [162840, 162838, 162836, 162841, 162842, 158474, 162839], 'unit_cell_formula': {'As': 2.0}}, {'pretty_formula': 'Hf', 'energy': -9.77315415, 'density': 13.343941025284856, 'spacegroup': {'source': 'spglib', 'symbol': 'Im-3m', 'number': 229, 'point_group': 'm-3m', 'crystal_system': 'cubic', 'hall': '-I 4 2 3'}, 'icsd_ids': [76412, 638608, 104208, 53023], 'unit_cell_formula': {'Hf': 1.0}}, {'pretty_formula': 'BaTe', 'energy': -8.64734519, 'density': 4.9378855253777, 'spacegroup': {'source': 'spglib', 'symbol': 'Fm-3m', 'number': 225, 'point_group': 'm-3m', 'crystal_system': 'cubic', 'hall': '-F 4 2 3'}, 'icsd_ids': [616165, 616163, 29152, 43656], 'unit_cell_formula': {'Te': 1.0, 'Ba': 1.0}}, {'pretty_formula': 'Hf2S', 'energy': -54.26524496, 'density': 11.0352918738331, 'spacegroup': {'source': 'spglib', 'symbol': 'P6_3/mmc', 'number': 194, 'point_group': '6/mmm', 'crystal_system': 'hexagonal', 'hall': '-P 6c 2c'}, 'icsd_ids': [43203], 'unit_cell_formula': {'S': 2.0, 'Hf': 4.0}}, {'pretty_formula': 'Nb4CoSi', 'energy': -110.0939723, 'density': 7.830811766465719, 'spacegroup': {'source': 'spglib', 'symbol': 'P4/mcc', 'number': 124, 'point_group': '4/mmm', 'crystal_system': 'tetragonal', 'hall': '-P 4 2c'}, 'icsd_ids': [43233], 'unit_cell_formula': {'Si': 2.0, 'Co': 2.0, 'Nb': 8.0}}, {'pretty_formula': 'Mo3P', 'energy': -157.39830964, 'density': 8.99140463141588, 'spacegroup': {'source': 'spglib', 'symbol': 'I-42m', 'number': 121, 'point_group': '-42m', 'crystal_system': 'tetragonal', 'hall': 'I -4 2'}, 'icsd_ids': [237706, 43238], 'unit_cell_formula': {'P': 4.0, 'Mo': 12.0}}, {'pretty_formula': 'CrN', 'energy': -18.64352006, 'density': 6.101436298104519, 'spacegroup': {'source': 'spglib', 'symbol': 'Fm-3m', 'number': 225, 'point_group': 'm-3m', 'crystal_system': 'cubic', 'hall': '-F 4 2 3'}, 'icsd_ids': [626334, 626364, 626338, 626341, 53146, 236806, 626337, 41827, 626339, 181080, 236805, 192945, 37412, 152809], 'unit_cell_formula': {'Cr': 1.0, 'N': 1.0}}, {'pretty_formula': 'CeAlO3', 'energy': -40.41843075, 'density': 6.580909371394905, 'spacegroup': {'source': 'spglib', 'symbol': 'Pm-3m', 'number': 221, 'point_group': 'm-3m', 'crystal_system': 'cubic', 'hall': '-P 4 2 3'}, 'icsd_ids': [245273, 72558, 166283, 245565, 245272, 245274, 245564], 'unit_cell_formula': {'Ce': 1.0, 'Al': 1.0, 'O': 3.0}}, {'pretty_formula': 'U2IrC2', 'energy': -51.54211016, 'density': 15.206072624522033, 'spacegroup': {'source': 'spglib', 'symbol': 'I4/mmm', 'number': 139, 'point_group': '4/mmm', 'crystal_system': 'tetragonal', 'hall': '-I 4 2'}, 'icsd_ids': [9114, 618136, 618138], 'unit_cell_formula': {'U': 2.0, 'Ir': 1.0, 'C': 2.0}}]\n"
     ]
    }
   ],
   "source": [
    "from pymatgen import MPRester                                                     \n",
    "import urllib.request                                                             \n",
    "import json\n",
    "\n",
    "                                                                                  \n",
    "if __name__ == \"__main__\":                                                        \n",
    "    MAPI_KEY = \"zQIrujyVEwEhTBRW\"  # You must change this to your Materials API key! (or set MAPI_KEY env variable)\n",
    "                                                                                  \n",
    "    # fetch list of a list of all available materials                             \n",
    "    with urllib.request.urlopen('https://www.materialsproject.org/rest/v1/materials//mids') as myurl:\n",
    "        data = json.loads(myurl.read().decode())                                  \n",
    "        material_ids = data['response'] # 75,000'ish material IDs are returned \n",
    "                                                                                  \n",
    "                                                                                  \n",
    "    with MPRester(MAPI_KEY) as m: # object for connecting to MP Rest interface \n",
    "        criteria={'material_id': {'$in':material_ids[:]}} # to avoid straining the servers, this is only using the first 4 materials\n",
    "        #properties=['energy', 'pretty_formula','total_electrons','density']\n",
    "        properties=['pretty_formula','energy','density','spacegroup','icsd_ids','unit_cell_formula'] \n",
    "        # list a few quanteties of interest\n",
    "        data = m.query(criteria, properties)                                      \n",
    "        print(data[:10])\n",
    "    "
   ]
  },
  {
   "cell_type": "code",
   "execution_count": 6,
   "metadata": {},
   "outputs": [
    {
     "data": {
      "text/plain": [
       "83989"
      ]
     },
     "execution_count": 6,
     "metadata": {},
     "output_type": "execute_result"
    }
   ],
   "source": [
    "len(data)"
   ]
  },
  {
   "cell_type": "code",
   "execution_count": 11,
   "metadata": {},
   "outputs": [
    {
     "data": {
      "text/plain": [
       "{'energy': -0.85881928, 'pretty_formula': 'Cs'}"
      ]
     },
     "execution_count": 11,
     "metadata": {},
     "output_type": "execute_result"
    }
   ],
   "source": [
    "data[0]"
   ]
  },
  {
   "cell_type": "code",
   "execution_count": 12,
   "metadata": {},
   "outputs": [
    {
     "data": {
      "text/plain": [
       "[{'energy': -0.85881928, 'pretty_formula': 'Cs'},\n",
       " {'energy': -9.10133099, 'pretty_formula': 'As'},\n",
       " {'energy': -9.77315415, 'pretty_formula': 'Hf'},\n",
       " {'energy': -8.64734519, 'pretty_formula': 'BaTe'},\n",
       " {'energy': -54.26524496, 'pretty_formula': 'Hf2S'},\n",
       " {'energy': -110.0939723, 'pretty_formula': 'Nb4CoSi'},\n",
       " {'energy': -157.39830964, 'pretty_formula': 'Mo3P'},\n",
       " {'energy': -18.64352006, 'pretty_formula': 'CrN'},\n",
       " {'energy': -40.41843075, 'pretty_formula': 'CeAlO3'},\n",
       " {'energy': -51.54211016, 'pretty_formula': 'U2IrC2'},\n",
       " {'energy': -11.6484996, 'pretty_formula': 'TlAgTe2'},\n",
       " {'energy': -24.69765879, 'pretty_formula': 'K(CoSe)2'},\n",
       " {'energy': -15.92284166, 'pretty_formula': 'RbYbS2'},\n",
       " {'energy': -23.36813322, 'pretty_formula': 'MnB2'},\n",
       " {'energy': -31.86691013, 'pretty_formula': 'Ce3AlC'},\n",
       " {'energy': -21.01689239, 'pretty_formula': 'PuAs'},\n",
       " {'energy': -18.71185342, 'pretty_formula': 'Ca7Ge'},\n",
       " {'energy': -16.17697513, 'pretty_formula': 'KYbS2'},\n",
       " {'energy': -27.60469652, 'pretty_formula': 'GaTe'},\n",
       " {'energy': -40.24794401, 'pretty_formula': 'BaN2'},\n",
       " {'energy': -31.5030458, 'pretty_formula': 'Al(CoSi)2'},\n",
       " {'energy': -13.3378267, 'pretty_formula': 'MnSe'},\n",
       " {'energy': -143.05039194, 'pretty_formula': 'TaO3'},\n",
       " {'energy': -83.17915419, 'pretty_formula': 'Sc2ZnS4'},\n",
       " {'energy': -84.79816493, 'pretty_formula': 'Y2ZnS4'},\n",
       " {'energy': -75.46518537, 'pretty_formula': 'Sc2ZnSe4'},\n",
       " {'energy': -48.96630044, 'pretty_formula': 'Zn(InSe2)2'},\n",
       " {'energy': -78.52165847, 'pretty_formula': 'Mg(ScSe2)2'},\n",
       " {'energy': -77.48680788, 'pretty_formula': 'Y2ZnSe4'},\n",
       " {'energy': -50.70502953, 'pretty_formula': 'Cu2PPd2'},\n",
       " {'energy': -39.27677717, 'pretty_formula': 'BeC2'},\n",
       " {'energy': -88.56115473, 'pretty_formula': 'Y2MgS4'},\n",
       " {'energy': -52.02504684, 'pretty_formula': 'Mg(InSe2)2'},\n",
       " {'energy': -35.10129239, 'pretty_formula': 'CoCu2SnSe4'},\n",
       " {'energy': -545.6490227, 'pretty_formula': 'Li48P16S61'},\n",
       " {'energy': -72.60711, 'pretty_formula': 'Li(CN)2'},\n",
       " {'energy': -75.80635243, 'pretty_formula': 'H2CO3'},\n",
       " {'energy': -69.47004698, 'pretty_formula': 'Si(CO)2'},\n",
       " {'energy': -526.35185767, 'pretty_formula': 'Na2H3CO6'},\n",
       " {'energy': -19.79497449, 'pretty_formula': 'Si'},\n",
       " {'energy': -44.61733555, 'pretty_formula': 'Mn3N2'},\n",
       " {'energy': -32.82011149, 'pretty_formula': 'MnFe2Si'},\n",
       " {'energy': -15.76106297, 'pretty_formula': 'CsYbS2'},\n",
       " {'energy': -8.46440136, 'pretty_formula': 'SnS'},\n",
       " {'energy': -23.26096602, 'pretty_formula': 'TaS2'},\n",
       " {'energy': -17.32051984, 'pretty_formula': 'SiOs'},\n",
       " {'energy': -31.87366224, 'pretty_formula': 'CaFeO3'},\n",
       " {'energy': -57.31151308, 'pretty_formula': 'LiC6'},\n",
       " {'energy': -671.54655508, 'pretty_formula': 'C4O3'},\n",
       " {'energy': -92.60418937, 'pretty_formula': 'HfB12'},\n",
       " {'energy': -90.36387414, 'pretty_formula': 'B12W'},\n",
       " {'energy': -30.12783878, 'pretty_formula': 'LuNiC2'},\n",
       " {'energy': -21.06654193, 'pretty_formula': 'LuTlS2'},\n",
       " {'energy': -10.23315265, 'pretty_formula': 'PrBi'},\n",
       " {'energy': -32.58430048, 'pretty_formula': 'LuFeC2'},\n",
       " {'energy': -19.29969851, 'pretty_formula': 'LuTlSe2'},\n",
       " {'energy': -23.083601, 'pretty_formula': 'LuSi'},\n",
       " {'energy': -17.54170555, 'pretty_formula': 'LuGa'},\n",
       " {'energy': -31.52831798, 'pretty_formula': 'LuCoC2'},\n",
       " {'energy': -22.87466851, 'pretty_formula': 'LiZrSe2'},\n",
       " {'energy': -21.28200469, 'pretty_formula': 'TaSe2'},\n",
       " {'energy': -22.36960367, 'pretty_formula': 'LuCuS2'},\n",
       " {'energy': -17.03530862, 'pretty_formula': 'LiSnS2'},\n",
       " {'energy': -23.71014312, 'pretty_formula': 'LiTiS2'},\n",
       " {'energy': -16.2213421, 'pretty_formula': 'MoP'},\n",
       " {'energy': -23.5997598, 'pretty_formula': 'LiScS2'},\n",
       " {'energy': -24.50898442, 'pretty_formula': 'LiRh3'},\n",
       " {'energy': -48.74136733, 'pretty_formula': 'ZrB6'},\n",
       " {'energy': -17.00172503, 'pretty_formula': 'IrC'},\n",
       " {'energy': -19.22215241, 'pretty_formula': 'LiO3'},\n",
       " {'energy': -37.96443395, 'pretty_formula': 'KCoCl3'},\n",
       " {'energy': -4.09461871, 'pretty_formula': 'Ac'},\n",
       " {'energy': -15.20630177, 'pretty_formula': 'IrC'},\n",
       " {'energy': -10.64638385, 'pretty_formula': 'LiBe'},\n",
       " {'energy': -19.08678145, 'pretty_formula': 'VN'},\n",
       " {'energy': -15.62989143, 'pretty_formula': 'IrC'},\n",
       " {'energy': -20.89178985, 'pretty_formula': 'WN'},\n",
       " {'energy': -16.38711861, 'pretty_formula': 'LiB'},\n",
       " {'energy': -6.59267204, 'pretty_formula': 'InBi'},\n",
       " {'energy': -19.82113397, 'pretty_formula': 'HfN'},\n",
       " {'energy': -17.88403096, 'pretty_formula': 'LiB'},\n",
       " {'energy': -12.45536347, 'pretty_formula': 'MnGa'},\n",
       " {'energy': -15.78120295, 'pretty_formula': 'MoP'},\n",
       " {'energy': -15.21106999, 'pretty_formula': 'IrC'},\n",
       " {'energy': -19.0836301, 'pretty_formula': 'VN'},\n",
       " {'energy': -12.12240629, 'pretty_formula': 'HoP'},\n",
       " {'energy': -14.52314165, 'pretty_formula': 'HoN'},\n",
       " {'energy': -48.75285509, 'pretty_formula': 'EuTiO3'},\n",
       " {'energy': -36.88122289, 'pretty_formula': 'Dy(CrSi)2'},\n",
       " {'energy': -9.61101592, 'pretty_formula': 'HoBi'},\n",
       " {'energy': -17.63406333, 'pretty_formula': 'Li2SnIr'},\n",
       " {'energy': -21.24750102, 'pretty_formula': 'HfN'},\n",
       " {'energy': -11.31473895, 'pretty_formula': 'HoAs'},\n",
       " {'energy': -18.38248186, 'pretty_formula': 'HfC'},\n",
       " {'energy': -13.03111597, 'pretty_formula': 'LaC'},\n",
       " {'energy': -31.64539786, 'pretty_formula': 'Eu(CuSi)2'},\n",
       " {'energy': -37.7666071, 'pretty_formula': 'Mn2AlB2'},\n",
       " {'energy': -15.83727244, 'pretty_formula': 'ScC'},\n",
       " {'energy': -12.42962407, 'pretty_formula': 'NaLiICl'},\n",
       " {'energy': -11.82124084, 'pretty_formula': 'CsLiICl'}]"
      ]
     },
     "execution_count": 12,
     "metadata": {},
     "output_type": "execute_result"
    }
   ],
   "source": [
    "data[:100]"
   ]
  },
  {
   "cell_type": "code",
   "execution_count": 7,
   "metadata": {},
   "outputs": [],
   "source": [
    "import csv\n",
    "keys=data[0].keys()\n",
    "with open('second_dataset.csv','w') as output_file:\n",
    "    dict_writer = csv.DictWriter(output_file, keys)\n",
    "    dict_writer.writeheader()\n",
    "    dict_writer.writerows(data)"
   ]
  },
  {
   "cell_type": "code",
   "execution_count": null,
   "metadata": {},
   "outputs": [],
   "source": [
    "import csv\n",
    "toCSV = [{'name':'bob','age':25,'weight':200},\n",
    "         {'name':'jim','age':31,'weight':180}]\n",
    "keys = toCSV[0].keys()\n",
    "with open('people.csv', 'wb') as output_file:\n",
    "    dict_writer = csv.DictWriter(output_file, keys)\n",
    "    dict_writer.writeheader()\n",
    "    dict_writer.writerows(toCSV)"
   ]
  }
 ],
 "metadata": {
  "kernelspec": {
   "display_name": "Python 3",
   "language": "python",
   "name": "python3"
  },
  "language_info": {
   "codemirror_mode": {
    "name": "ipython",
    "version": 3
   },
   "file_extension": ".py",
   "mimetype": "text/x-python",
   "name": "python",
   "nbconvert_exporter": "python",
   "pygments_lexer": "ipython3",
   "version": "3.6.5"
  }
 },
 "nbformat": 4,
 "nbformat_minor": 2
}
