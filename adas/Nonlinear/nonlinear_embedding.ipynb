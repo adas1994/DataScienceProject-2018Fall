{
 "cells": [
  {
   "cell_type": "code",
   "execution_count": 1,
   "metadata": {},
   "outputs": [],
   "source": [
    "from sklearn.metrics.pairwise import euclidean_distances as ed\n",
    "import numpy as np\n",
    "import matplotlib.pyplot as plt\n",
    "from sklearn.manifold import MDS,TSNE,SpectralEmbedding,LocallyLinearEmbedding,Isomap\n",
    "import pandas as pd\n",
    "import re"
   ]
  },
  {
   "cell_type": "code",
   "execution_count": 2,
   "metadata": {},
   "outputs": [],
   "source": [
    "#data preprocess\n",
    "input_file = \"first_Matrix_09_13_2018.csv\"\n",
    "dataframe = pd.read_csv(input_file)\n",
    "data_matrix = dataframe.values\n",
    "\n",
    "elements = np.asarray(data_matrix[:,0]).astype(str)\n",
    "num_elements = len(elements)\n",
    "data_matrix = data_matrix[:,1:].astype(float)\n",
    "input_dim = data_matrix.shape[1]"
   ]
  },
  {
   "cell_type": "code",
   "execution_count": null,
   "metadata": {},
   "outputs": [],
   "source": [
    "##dimensional selection\n",
    "#for dimension selection. SVD and PCA can look at the figure of singular value and eigenvalue to see how it works\n",
    "#draw the first 30 singular_values/eigen_value to see how it decreases.\n",
    "#also, the loss function, MAE/MSE\n",
    "\n",
    "#no idea of evaluating other methods\n",
    "#guess loss is achievable\n",
    "\n",
    "#parameter selection for non-linear methods\n",
    "##dimenional reduction methods\n",
    "\n",
    "#implement by Yifan\n",
    "#1.SVD\n",
    "#2.PCA\n",
    "\n",
    "#by Adas(drawing)\n",
    "#1.MDS\n",
    "#2.Laplace Eigenmap\n",
    "#3.LLE(hessian LLE saved)\n",
    "#4.isomap\n",
    "\n",
    "#by Adas(not drawing)\n",
    "#1.TSNE\n",
    "\n",
    "#supply by Yifan\n",
    "#7.LDA(labelled by group)\n",
    "\n",
    "#AD\n",
    "#1.one-layer linear\n",
    "#2.one-layer non-linear\n",
    "#3.5-layer"
   ]
  },
  {
   "cell_type": "code",
   "execution_count": null,
   "metadata": {},
   "outputs": [],
   "source": [
    "##evaluation method 1-element numerical property : atomic_number(raw_number, column_number), ele_negativity_allen, ele_negativity_pauling\n",
    "#train/validation/test split, error examination"
   ]
  },
  {
   "cell_type": "code",
   "execution_count": null,
   "metadata": {},
   "outputs": [],
   "source": [
    "##evaluation method 2-2D mapping for element vector(PCA/t-SNE)"
   ]
  },
  {
   "cell_type": "code",
   "execution_count": null,
   "metadata": {},
   "outputs": [],
   "source": [
    "##evaluation method 3-formation energy(elapsite?,provosket?)"
   ]
  },
  {
   "cell_type": "code",
   "execution_count": 13,
   "metadata": {},
   "outputs": [
    {
     "data": {
      "text/plain": [
       "array([[  0.,   0., 282., ...,   1.,   0.,   1.],\n",
       "       [  4.,   0.,   1., ...,   0.,   0.,   0.],\n",
       "       [  2.,   1.,  35., ...,   0.,   0.,   0.],\n",
       "       ...,\n",
       "       [  1.,   0.,   0., ...,   0.,   0.,   0.],\n",
       "       [  1.,   0.,   0., ...,   0.,   0.,   0.],\n",
       "       [  4.,   0.,   0., ...,   0.,   0.,   0.]])"
      ]
     },
     "execution_count": 13,
     "metadata": {},
     "output_type": "execute_result"
    }
   ],
   "source": [
    "#should do L2 normalization for data_matrix at the axis=1\n",
    "#dimensions reduction methods: PCA,MDS,LDA(n different categories),isomap,LLE,\n",
    "#t-SNE(not good for 2-3dimension),but can be utilized to visualization\n",
    "#Auto encoder, Yann-Lecun paper to talk about how to adjust hyper parameter(layer,activiation function, filter size)"
   ]
  },
  {
   "cell_type": "code",
   "execution_count": null,
   "metadata": {},
   "outputs": [],
   "source": []
  },
  {
   "cell_type": "code",
   "execution_count": 7,
   "metadata": {},
   "outputs": [],
   "source": [
    "# Converting Raw Sparse Vectors to 20 and 30 dimensional embeddings using Laplace Eigenmap\n",
    "embedding_20dim = SpectralEmbedding(n_components=20)\n",
    "#embedding_30dim = SpectralEmbedding(n_components=30)\n",
    "x_transformed1 = embedding_20dim.fit_transform(data_matrix)\n",
    "#x_transformed2 = embedding_30dim.fit_transform(data_matrix)"
   ]
  },
  {
   "cell_type": "code",
   "execution_count": 10,
   "metadata": {},
   "outputs": [],
   "source": [
    "# Converting 20/30-dimensional embedding to 2/4dimensional embedding for scatterplot\n",
    "embedding_2d = TSNE(n_components=2,perplexity=4)\n",
    "#embedding_4d = TSNE(n_components=4,perplexity=4)\n",
    "TSNEprojection2d = embedding_2d.fit_transform(x_transformed1)#x_transformed2\n",
    "#TSNEprojection4d = embedding_4d.fit_transform(x_transformed1)#x_transformed2\n",
    "np.savetxt(\"tsne_embedding.txt\",TSNEprojection2d,delimiter='\\t')"
   ]
  },
  {
   "cell_type": "code",
   "execution_count": 11,
   "metadata": {},
   "outputs": [
    {
     "data": {
      "text/plain": [
       "(80, 20)"
      ]
     },
     "execution_count": 11,
     "metadata": {},
     "output_type": "execute_result"
    }
   ],
   "source": [
    "x_transformed1.shape"
   ]
  },
  {
   "cell_type": "code",
   "execution_count": 12,
   "metadata": {},
   "outputs": [
    {
     "data": {
      "text/plain": [
       "(80, 83131)"
      ]
     },
     "execution_count": 12,
     "metadata": {},
     "output_type": "execute_result"
    }
   ],
   "source": []
  },
  {
   "cell_type": "code",
   "execution_count": null,
   "metadata": {},
   "outputs": [],
   "source": []
  }
 ],
 "metadata": {
  "kernelspec": {
   "display_name": "Python 3",
   "language": "python",
   "name": "python3"
  },
  "language_info": {
   "codemirror_mode": {
    "name": "ipython",
    "version": 3
   },
   "file_extension": ".py",
   "mimetype": "text/x-python",
   "name": "python",
   "nbconvert_exporter": "python",
   "pygments_lexer": "ipython3",
   "version": "3.6.5"
  }
 },
 "nbformat": 4,
 "nbformat_minor": 2
}
