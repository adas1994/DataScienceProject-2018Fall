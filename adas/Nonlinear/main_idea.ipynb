{
 "cells": [
  {
   "cell_type": "code",
   "execution_count": null,
   "metadata": {},
   "outputs": [],
   "source": [
    "##dimenional reduction methods\n",
    "\n",
    "#implement by Yifan\n",
    "#1.SVD\n",
    "#2.PCA\n",
    "\n",
    "#by Adas(drawing)\n",
    "#1.MDS\n",
    "#2.Laplace Eigenmap\n",
    "#3.LLE(hessian LLE saved)\n",
    "#4.isomap\n",
    "\n",
    "#by Adas(not drawing)\n",
    "#1.TSNE\n",
    "\n",
    "#supply by Yifan\n",
    "#1.LDA(labelled by group)\n",
    "\n",
    "#AD\n",
    "#1.one-layer linear\n",
    "#2.one-layer non-linear\n",
    "    #activation function= Relu+Relu\n",
    "    #activation function=Relu+Sigmoild\n",
    "#3.5-layer\n",
    "#4.look at the Yan-Lecun hyperparameter selection\n",
    "\n",
    "##in-situ evaluation\n",
    "# SVD/PCA draw the first 30 singular_values/eigen_value to see how it decreases.\n",
    "#Loss function for all the methods(some methods may have pre-pocessing, may not be consistant)"
   ]
  },
  {
   "cell_type": "code",
   "execution_count": null,
   "metadata": {},
   "outputs": [],
   "source": [
    "##evaluation method 1-element numerical property : atomic_number(raw_number, column_number), \n",
    "##ele_negativity_allen, ele_negativity_pauling\n",
    "\n",
    "#train/validation/test split, error examination"
   ]
  },
  {
   "cell_type": "code",
   "execution_count": null,
   "metadata": {},
   "outputs": [],
   "source": [
    "##evaluation method 2-2D mapping for element vector(PCA/t-SNE)"
   ]
  },
  {
   "cell_type": "code",
   "execution_count": null,
   "metadata": {},
   "outputs": [],
   "source": [
    "##evaluation method 3-formation energy(elapsite?,provosket?)"
   ]
  },
  {
   "cell_type": "code",
   "execution_count": 13,
   "metadata": {},
   "outputs": [
    {
     "data": {
      "text/plain": [
       "array([[  0.,   0., 282., ...,   1.,   0.,   1.],\n",
       "       [  4.,   0.,   1., ...,   0.,   0.,   0.],\n",
       "       [  2.,   1.,  35., ...,   0.,   0.,   0.],\n",
       "       ...,\n",
       "       [  1.,   0.,   0., ...,   0.,   0.,   0.],\n",
       "       [  1.,   0.,   0., ...,   0.,   0.,   0.],\n",
       "       [  4.,   0.,   0., ...,   0.,   0.,   0.]])"
      ]
     },
     "execution_count": 13,
     "metadata": {},
     "output_type": "execute_result"
    }
   ],
   "source": [
    "#should do L2 normalization for data_matrix at the axis=1\n",
    "#dimensions reduction methods: PCA,MDS,LDA(n different categories),isomap,LLE,\n",
    "#t-SNE(not good for 2-3dimension),but can be utilized to visualization\n",
    "#Auto encoder, Yann-Lecun paper to talk about how to adjust hyper parameter(layer,activiation function, filter size)"
   ]
  },
  {
   "cell_type": "code",
   "execution_count": null,
   "metadata": {},
   "outputs": [],
   "source": [
    "#needed dataset path"
   ]
  },
  {
   "cell_type": "code",
   "execution_count": 7,
   "metadata": {},
   "outputs": [],
   "source": []
  },
  {
   "cell_type": "code",
   "execution_count": 10,
   "metadata": {},
   "outputs": [],
   "source": []
  },
  {
   "cell_type": "code",
   "execution_count": 11,
   "metadata": {},
   "outputs": [
    {
     "data": {
      "text/plain": [
       "(80, 20)"
      ]
     },
     "execution_count": 11,
     "metadata": {},
     "output_type": "execute_result"
    }
   ],
   "source": []
  },
  {
   "cell_type": "code",
   "execution_count": 12,
   "metadata": {},
   "outputs": [
    {
     "data": {
      "text/plain": [
       "(80, 83131)"
      ]
     },
     "execution_count": 12,
     "metadata": {},
     "output_type": "execute_result"
    }
   ],
   "source": []
  },
  {
   "cell_type": "code",
   "execution_count": null,
   "metadata": {},
   "outputs": [],
   "source": []
  }
 ],
 "metadata": {
  "kernelspec": {
   "display_name": "Python 3",
   "language": "python",
   "name": "python3"
  },
  "language_info": {
   "codemirror_mode": {
    "name": "ipython",
    "version": 3
   },
   "file_extension": ".py",
   "mimetype": "text/x-python",
   "name": "python",
   "nbconvert_exporter": "python",
   "pygments_lexer": "ipython3",
   "version": "3.6.5"
  }
 },
 "nbformat": 4,
 "nbformat_minor": 2
}
