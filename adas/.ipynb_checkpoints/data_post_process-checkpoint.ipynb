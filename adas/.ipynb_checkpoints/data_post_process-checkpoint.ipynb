{
 "cells": [
  {
   "cell_type": "code",
   "execution_count": 1,
   "metadata": {},
   "outputs": [],
   "source": [
    "import numpy as np\n",
    "from sklearn.decomposition import PCA, TruncatedSVD\n",
    "import matplotlib.pyplot as plt\n",
    "import pymatgen as mg\n",
    "from pymatgen.core import periodic_table, Element\n",
    "\n",
    "element_file = open(\"elements.txt\",\"r\")\n",
    "latent_file = np.genfromtxt(\"encoded_rep.txt\",delimiter='\\t')\n",
    "elements = []\n",
    "for line in element_file:\n",
    "    elements.append(line.rstrip('\\n'))"
   ]
  },
  {
   "cell_type": "code",
   "execution_count": 2,
   "metadata": {},
   "outputs": [
    {
     "data": {
      "text/plain": [
       "['O',\n",
       " 'Li',\n",
       " 'Mg',\n",
       " 'P',\n",
       " 'F',\n",
       " 'Mn',\n",
       " 'Fe',\n",
       " 'Si',\n",
       " 'S',\n",
       " 'V',\n",
       " 'Cu',\n",
       " 'Co',\n",
       " 'Ni',\n",
       " 'Ca',\n",
       " 'Ba',\n",
       " 'Na',\n",
       " 'N',\n",
       " 'Ti',\n",
       " 'Cr',\n",
       " 'Zn',\n",
       " 'B',\n",
       " 'Al',\n",
       " 'K',\n",
       " 'Sn',\n",
       " 'Se',\n",
       " 'H',\n",
       " 'C',\n",
       " 'Sb',\n",
       " 'Ge',\n",
       " 'Bi',\n",
       " 'Sr',\n",
       " 'Cl',\n",
       " 'W',\n",
       " 'Mo',\n",
       " 'Te',\n",
       " 'Y',\n",
       " 'La',\n",
       " 'Rb',\n",
       " 'Nb',\n",
       " 'Ga',\n",
       " 'Ag',\n",
       " 'In',\n",
       " 'Cd',\n",
       " 'Cs',\n",
       " 'As',\n",
       " 'Ce',\n",
       " 'Pd',\n",
       " 'Zr',\n",
       " 'I',\n",
       " 'Tl',\n",
       " 'Au',\n",
       " 'Rh',\n",
       " 'Hf',\n",
       " 'Pb',\n",
       " 'Pt',\n",
       " 'Br',\n",
       " 'Ta',\n",
       " 'Nd',\n",
       " 'Hg',\n",
       " 'Sc',\n",
       " 'Sm',\n",
       " 'Ru',\n",
       " 'U',\n",
       " 'Pr',\n",
       " 'Ir',\n",
       " 'Yb',\n",
       " 'Ho',\n",
       " 'Er',\n",
       " 'Dy',\n",
       " 'Tb',\n",
       " 'Lu',\n",
       " 'Tm',\n",
       " 'Gd',\n",
       " 'Eu',\n",
       " 'Re',\n",
       " 'Os',\n",
       " 'Be',\n",
       " 'Th',\n",
       " 'Tc',\n",
       " 'Pu']"
      ]
     },
     "execution_count": 2,
     "metadata": {},
     "output_type": "execute_result"
    }
   ],
   "source": [
    "elements"
   ]
  },
  {
   "cell_type": "code",
   "execution_count": 11,
   "metadata": {},
   "outputs": [
    {
     "data": {
      "image/png": "[encoded data removed]",
      "text/plain": [
       "<Figure size 432x288 with 1 Axes>"
      ]
     },
     "metadata": {},
     "output_type": "display_data"
    },
    {
     "data": {
      "image/png": "[encoded data removed]",
      "text/plain": [
       "<Figure size 432x288 with 1 Axes>"
      ]
     },
     "metadata": {},
     "output_type": "display_data"
    }
   ],
   "source": [
    "svd = TruncatedSVD(n_components=4,algorithm=\"randomized\",n_iter=50)\n",
    "svdTransformed_lat = svd.fit_transform(latent_file)\n",
    "pca = PCA(n_components=4)\n",
    "pcaTransformed_lat = pca.fit_transform(latent_file)\n",
    "\n",
    "first2svd = svdTransformed_lat[:,:2]\n",
    "last2svd  = svdTransformed_lat[:,2:]\n",
    "first2pca = pcaTransformed_lat[:,:2]\n",
    "last2pca  = pcaTransformed_lat[:,2:]\n",
    "\n",
    "test=[\"Li\",\"Be\",\"B\",\"C\",\"N\",\"O\",\"F\"]\n",
    "group_main_list=[]\n",
    "for element_string in test:\n",
    "    Ele=Element(element_string)\n",
    "    group_main_list.append(Ele.group)\n",
    "\n",
    "elements_list_main=[]\n",
    "for group_number in group_main_list:\n",
    "    #creat subset\n",
    "    elements_sublist=[]\n",
    "    for raw_element in elements:\n",
    "        if Element(raw_element).group==group_number:\n",
    "            if Element(raw_element).number<57 or Element(raw_element).number>71:\n",
    "                elements_sublist.append(raw_element)\n",
    "    #sort subset\n",
    "    elements_sublist.sort(key=lambda x:Element(x).number)\n",
    "    #add subset to elements_list_main\n",
    "    elements_list_main+=elements_sublist\n",
    "    #elements_list_main.append(\"{}\".format(group_number))\n",
    "\n",
    "\n",
    "#apply the raw number to mapping value\n",
    "raw_number_list=[]\n",
    "for element_select in elements_list_main:\n",
    "    for raw_number in range(len(elements)):\n",
    "        if element_select==elements[raw_number]:\n",
    "            raw_number_list.append(raw_number)\n",
    "\n",
    "data_main = first2pca[raw_number_list,:]\n",
    "data_main.shape\n",
    "data_main_flip=np.flip(data_main,axis=1)\n",
    "fig=plt.imshow(data_main_flip, interpolation='nearest', cmap=\"rainbow\")\n",
    "plt.show(fig)\n",
    "\n",
    "fig = plt.figure()\n",
    "ax = fig.add_subplot(111)\n",
    "\n",
    "\n",
    "\n",
    "ax.scatter(data_main[:,0],data_main[:,1],label='1st two svd components')\n",
    "plt.xlim(-1,1)\n",
    "plt.ylim(-1,1)\n",
    "for i in range(len(elements_list_main)):\n",
    "    txt = elements_list_main[i]\n",
    "    ax.annotate(txt, (data_main[i,0], data_main[i,1]))\n",
    "plt.savefig('elements_scatterplot.pdf')\n",
    "#plt.show()\n",
    "\n"
   ]
  },
  {
   "cell_type": "code",
   "execution_count": 8,
   "metadata": {},
   "outputs": [
    {
     "data": {
      "text/plain": [
       "(80, 2)"
      ]
     },
     "execution_count": 8,
     "metadata": {},
     "output_type": "execute_result"
    }
   ],
   "source": [
    "first2pca.shape"
   ]
  },
  {
   "cell_type": "code",
   "execution_count": 13,
   "metadata": {},
   "outputs": [
    {
     "data": {
      "text/plain": [
       "(80, 20)"
      ]
     },
     "execution_count": 13,
     "metadata": {},
     "output_type": "execute_result"
    }
   ],
   "source": [
    "latent_file.shape"
   ]
  },
  {
   "cell_type": "code",
   "execution_count": 14,
   "metadata": {},
   "outputs": [
    {
     "data": {
      "image/png": "[encoded data removed]",
      "text/plain": [
       "<Figure size 432x288 with 1 Axes>"
      ]
     },
     "metadata": {},
     "output_type": "display_data"
    }
   ],
   "source": [
    "data_main = latent_file[raw_number_list,:]\n",
    "data_main_flip=np.flip(data_main,axis=1)\n",
    "fig=plt.imshow(data_main_flip, interpolation='nearest', cmap=\"rainbow\")\n",
    "plt.show(fig)"
   ]
  },
  {
   "cell_type": "code",
   "execution_count": 15,
   "metadata": {},
   "outputs": [
    {
     "data": {
      "text/plain": [
       "array([ 0.30465174,  0.35466692,  0.0631726 , -0.32331774, -0.24213694,\n",
       "        0.12884796, -0.32019079, -0.04039009,  0.27206561,  0.13078184,\n",
       "       -0.27372348,  0.73562735,  0.11179818,  0.21867728, -0.01035885,\n",
       "       -0.26173896, -0.01481676,  0.03357785,  0.16208884, -0.06640074])"
      ]
     },
     "execution_count": 15,
     "metadata": {},
     "output_type": "execute_result"
    }
   ],
   "source": [
    "latent_file[1,:]"
   ]
  },
  {
   "cell_type": "code",
   "execution_count": 16,
   "metadata": {},
   "outputs": [],
   "source": [
    "from sklearn.preprocessing import normalize\n",
    "latent_norm=normalize(latent_file, norm='l2', axis=1)"
   ]
  },
  {
   "cell_type": "code",
   "execution_count": 19,
   "metadata": {},
   "outputs": [
    {
     "data": {
      "text/plain": [
       "array([8.57544188, 6.97146621, 6.06810845, 5.69653798])"
      ]
     },
     "execution_count": 19,
     "metadata": {},
     "output_type": "execute_result"
    }
   ],
   "source": [
    "svd = TruncatedSVD(n_components=20,algorithm=\"randomized\",n_iter=50)"
   ]
  },
  {
   "cell_type": "code",
   "execution_count": null,
   "metadata": {},
   "outputs": [],
   "source": []
  }
 ],
 "metadata": {
  "kernelspec": {
   "display_name": "Python 3",
   "language": "python",
   "name": "python3"
  },
  "language_info": {
   "codemirror_mode": {
    "name": "ipython",
    "version": 3
   },
   "file_extension": ".py",
   "mimetype": "text/x-python",
   "name": "python",
   "nbconvert_exporter": "python",
   "pygments_lexer": "ipython3",
   "version": "3.6.5"
  }
 },
 "nbformat": 4,
 "nbformat_minor": 2
}
